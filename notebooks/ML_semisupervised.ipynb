{
 "cells": [
  {
   "cell_type": "code",
   "execution_count": 85,
   "metadata": {
    "collapsed": true
   },
   "outputs": [
    {
     "data": {
      "text/plain": "                 id                       sender  \\\n0  186eb43f4ea9acd5              irdc@iitr.ac.in   \n1  186ea63122cc80be     gensec-sports@iitr.ac.in   \n2  186ea54adf777368        office_cdc@iitr.ac.in   \n3  186ea3792fd6d577            aao-ug@iitr.ac.in   \n4  186ea315fc860fd9         spicmacay@iitr.ac.in   \n5  186ea2ce3178f943    rajendrabhawan@iitr.ac.in   \n6  186e9ffeb0537c35            awards@iitr.ac.in   \n7  186e9f90f0f2a1a1               hec@iitr.ac.in   \n8  186e9d89c99d2ef5  gensec.technical@iitr.ac.in   \n9  186e9a0b1cfdde79  gensec.technical@iitr.ac.in   \n\n                                           receiver  \\\n0                        faculty-notices@iitr.ac.in   \n1                       students-notices@iitr.ac.in   \n2                       students-notices@iitr.ac.in   \n3                          aakash_ks@mfs.iitr.ac.in   \n4  students-notices@iitr.ac.in,fa.culsoc@iitr.ac.in   \n5            rajendrabhawan.students2023@iitr.ac.in   \n6                       students-notices@iitr.ac.in   \n7                       students-notices@iitr.ac.in   \n8                            ug-1st-year@iitr.ac.in   \n9     ug-1st-year@iitr.ac.in,ug-2nd-year@iitr.ac.in   \n\n                                             subject  \\\n0  Video of Prof. Gaurav Raheja in conversation w...   \n1                   Fwd: Institute Open Championship   \n2         Study and Scholarship opportunities in USA   \n3  Re: Request for semester 1 UG academic gradesheet   \n4                       SPIC MACAY Intro Talk & Quiz   \n5                            Washing room facilities   \n6  Notice for Final call of Convocation Awards 20...   \n7                                   Tehri lake trip.   \n8               Recruitment assignments at MDG Space   \n9  Recruitment Talk and Ask-Me-Anything session b...   \n\n                                                body  \\\n0  Dear all, Forwarded below is the google drive ...   \n1  Dear Students,聽Since there were many requests ...   \n2  Dear all, As you already know CDC is organizin...   \n3  Dear Student Please come in Academic office fo...   \n4  Namaste!! Do you know that the recent event of...   \n5  Dear students, There are a lot of wash clothes...   \n6  Dear students, We are pleased to inform you th...   \n7  ┬Ā Dear Students & Scholars,┬Ā ┬Ā HEC IITR is ...   \n8  Attention development and design enthusiasts 📣...   \n9  Hello Freshers & Sophomores !Have you ever won...   \n\n                                     labels  \n0  UNREAD,IMPORTANT,CATEGORY_PERSONAL,INBOX  \n1  UNREAD,IMPORTANT,CATEGORY_PERSONAL,INBOX  \n2  UNREAD,IMPORTANT,CATEGORY_PERSONAL,INBOX  \n3         IMPORTANT,CATEGORY_PERSONAL,INBOX  \n4  UNREAD,IMPORTANT,CATEGORY_PERSONAL,INBOX  \n5  UNREAD,IMPORTANT,CATEGORY_PERSONAL,INBOX  \n6  UNREAD,IMPORTANT,CATEGORY_PERSONAL,INBOX  \n7  UNREAD,IMPORTANT,CATEGORY_PERSONAL,INBOX  \n8  UNREAD,IMPORTANT,CATEGORY_PERSONAL,INBOX  \n9  UNREAD,IMPORTANT,CATEGORY_PERSONAL,INBOX  ",
      "text/html": "<div>\n<style scoped>\n    .dataframe tbody tr th:only-of-type {\n        vertical-align: middle;\n    }\n\n    .dataframe tbody tr th {\n        vertical-align: top;\n    }\n\n    .dataframe thead th {\n        text-align: right;\n    }\n</style>\n<table border=\"1\" class=\"dataframe\">\n  <thead>\n    <tr style=\"text-align: right;\">\n      <th></th>\n      <th>id</th>\n      <th>sender</th>\n      <th>receiver</th>\n      <th>subject</th>\n      <th>body</th>\n      <th>labels</th>\n    </tr>\n  </thead>\n  <tbody>\n    <tr>\n      <th>0</th>\n      <td>186eb43f4ea9acd5</td>\n      <td>irdc@iitr.ac.in</td>\n      <td>faculty-notices@iitr.ac.in</td>\n      <td>Video of Prof. Gaurav Raheja in conversation w...</td>\n      <td>Dear all, Forwarded below is the google drive ...</td>\n      <td>UNREAD,IMPORTANT,CATEGORY_PERSONAL,INBOX</td>\n    </tr>\n    <tr>\n      <th>1</th>\n      <td>186ea63122cc80be</td>\n      <td>gensec-sports@iitr.ac.in</td>\n      <td>students-notices@iitr.ac.in</td>\n      <td>Fwd: Institute Open Championship</td>\n      <td>Dear Students,聽Since there were many requests ...</td>\n      <td>UNREAD,IMPORTANT,CATEGORY_PERSONAL,INBOX</td>\n    </tr>\n    <tr>\n      <th>2</th>\n      <td>186ea54adf777368</td>\n      <td>office_cdc@iitr.ac.in</td>\n      <td>students-notices@iitr.ac.in</td>\n      <td>Study and Scholarship opportunities in USA</td>\n      <td>Dear all, As you already know CDC is organizin...</td>\n      <td>UNREAD,IMPORTANT,CATEGORY_PERSONAL,INBOX</td>\n    </tr>\n    <tr>\n      <th>3</th>\n      <td>186ea3792fd6d577</td>\n      <td>aao-ug@iitr.ac.in</td>\n      <td>aakash_ks@mfs.iitr.ac.in</td>\n      <td>Re: Request for semester 1 UG academic gradesheet</td>\n      <td>Dear Student Please come in Academic office fo...</td>\n      <td>IMPORTANT,CATEGORY_PERSONAL,INBOX</td>\n    </tr>\n    <tr>\n      <th>4</th>\n      <td>186ea315fc860fd9</td>\n      <td>spicmacay@iitr.ac.in</td>\n      <td>students-notices@iitr.ac.in,fa.culsoc@iitr.ac.in</td>\n      <td>SPIC MACAY Intro Talk &amp; Quiz</td>\n      <td>Namaste!! Do you know that the recent event of...</td>\n      <td>UNREAD,IMPORTANT,CATEGORY_PERSONAL,INBOX</td>\n    </tr>\n    <tr>\n      <th>5</th>\n      <td>186ea2ce3178f943</td>\n      <td>rajendrabhawan@iitr.ac.in</td>\n      <td>rajendrabhawan.students2023@iitr.ac.in</td>\n      <td>Washing room facilities</td>\n      <td>Dear students, There are a lot of wash clothes...</td>\n      <td>UNREAD,IMPORTANT,CATEGORY_PERSONAL,INBOX</td>\n    </tr>\n    <tr>\n      <th>6</th>\n      <td>186e9ffeb0537c35</td>\n      <td>awards@iitr.ac.in</td>\n      <td>students-notices@iitr.ac.in</td>\n      <td>Notice for Final call of Convocation Awards 20...</td>\n      <td>Dear students, We are pleased to inform you th...</td>\n      <td>UNREAD,IMPORTANT,CATEGORY_PERSONAL,INBOX</td>\n    </tr>\n    <tr>\n      <th>7</th>\n      <td>186e9f90f0f2a1a1</td>\n      <td>hec@iitr.ac.in</td>\n      <td>students-notices@iitr.ac.in</td>\n      <td>Tehri lake trip.</td>\n      <td>┬Ā Dear Students &amp; Scholars,┬Ā ┬Ā HEC IITR is ...</td>\n      <td>UNREAD,IMPORTANT,CATEGORY_PERSONAL,INBOX</td>\n    </tr>\n    <tr>\n      <th>8</th>\n      <td>186e9d89c99d2ef5</td>\n      <td>gensec.technical@iitr.ac.in</td>\n      <td>ug-1st-year@iitr.ac.in</td>\n      <td>Recruitment assignments at MDG Space</td>\n      <td>Attention development and design enthusiasts 📣...</td>\n      <td>UNREAD,IMPORTANT,CATEGORY_PERSONAL,INBOX</td>\n    </tr>\n    <tr>\n      <th>9</th>\n      <td>186e9a0b1cfdde79</td>\n      <td>gensec.technical@iitr.ac.in</td>\n      <td>ug-1st-year@iitr.ac.in,ug-2nd-year@iitr.ac.in</td>\n      <td>Recruitment Talk and Ask-Me-Anything session b...</td>\n      <td>Hello Freshers &amp; Sophomores !Have you ever won...</td>\n      <td>UNREAD,IMPORTANT,CATEGORY_PERSONAL,INBOX</td>\n    </tr>\n  </tbody>\n</table>\n</div>"
     },
     "execution_count": 85,
     "metadata": {},
     "output_type": "execute_result"
    }
   ],
   "source": [
    "import re\n",
    "\n",
    "import joblib\n",
    "import pandas as pd\n",
    "from sklearn.impute import SimpleImputer\n",
    "import dill\n",
    "\n",
    "mails_df = pd.read_csv(\"../data/training_data.csv\", sep='~', index_col=0)\n",
    "imputer = SimpleImputer(strategy='constant', fill_value='')\n",
    "mails_df = pd.DataFrame(imputer.fit_transform(mails_df), columns=mails_df.columns)\n",
    "mails_df.iloc[:10]"
   ]
  },
  {
   "cell_type": "code",
   "execution_count": 86,
   "outputs": [],
   "source": [
    "from sklearn.pipeline import Pipeline\n",
    "from sklearn.feature_extraction.text import TfidfVectorizer\n",
    "from sklearn.decomposition import TruncatedSVD\n",
    "from sklearn.compose import ColumnTransformer\n",
    "from nltk.corpus import wordnet, stopwords\n",
    "from nltk.stem import WordNetLemmatizer\n",
    "import re\n",
    "\n",
    "stop_words = set(stopwords.words('english'))\n",
    "\n",
    "lemmatizer = WordNetLemmatizer()"
   ],
   "metadata": {
    "collapsed": false
   }
  },
  {
   "cell_type": "code",
   "execution_count": 87,
   "outputs": [],
   "source": [
    "def preprocess_text(text):\n",
    "    text = text.lower()\n",
    "    text = re.sub('[^a-zA-Z]', ' ', text)\n",
    "    tokens = text.split()\n",
    "    tokens = [token for token in tokens if token not in stop_words]\n",
    "    processed_text = ' '.join([lemmatizer.lemmatize(token) for token in tokens])\n",
    "    return processed_text\n",
    "\n",
    "\n",
    "def preprocess_sender(address):\n",
    "    address = address.lower()\n",
    "    address = re.sub('[.]ac[.]in|[.]com', '', address)\n",
    "    address = re.sub('@|[.]', ' ', address)\n",
    "    return address\n",
    "\n",
    "subject_tfidf = TfidfVectorizer(preprocessor=preprocess_text, min_df=0.01)\n",
    "body_tfidf = TfidfVectorizer(preprocessor=preprocess_text, max_df=0.9, min_df=0.05)\n",
    "sender_tfidf = TfidfVectorizer(preprocessor=preprocess_sender)\n",
    "\n",
    "subject_vectors = subject_tfidf.fit_transform(mails_df['subject'])\n",
    "body_vectors = body_tfidf.fit_transform(mails_df['body'])\n",
    "sender_vectors = sender_tfidf.fit_transform(mails_df['sender'])"
   ],
   "metadata": {
    "collapsed": false
   }
  },
  {
   "cell_type": "code",
   "execution_count": 88,
   "outputs": [],
   "source": [
    "from scipy.sparse import hstack\n",
    "\n",
    "feature_matrix = hstack((subject_vectors, body_vectors, sender_vectors))"
   ],
   "metadata": {
    "collapsed": false
   }
  },
  {
   "cell_type": "code",
   "execution_count": 89,
   "outputs": [
    {
     "data": {
      "text/plain": "scipy.sparse._csr.csr_matrix"
     },
     "execution_count": 89,
     "metadata": {},
     "output_type": "execute_result"
    }
   ],
   "source": [
    "type(feature_matrix)"
   ],
   "metadata": {
    "collapsed": false
   }
  },
  {
   "cell_type": "code",
   "execution_count": 90,
   "outputs": [
    {
     "data": {
      "text/plain": "'hello cs iitr'"
     },
     "execution_count": 90,
     "metadata": {},
     "output_type": "execute_result"
    }
   ],
   "source": [
    "preprocess_sender('hello@cs.iitr.ac.in')"
   ],
   "metadata": {
    "collapsed": false
   }
  },
  {
   "cell_type": "code",
   "execution_count": 91,
   "outputs": [
    {
     "name": "stderr",
     "output_type": "stream",
     "text": [
      "C:\\Users\\msing\\.conda\\envs\\gmail_organizer\\lib\\site-packages\\sklearn\\preprocessing\\_label.py:895: UserWarning: unknown class(es) ['CATEGORY_FORUMS', 'CATEGORY_PERSONAL', 'CATEGORY_PROMOTIONS', 'CATEGORY_UPDATES', 'IMPORTANT', 'INBOX', 'SENT', 'STARRED', 'UNREAD'] will be ignored\n",
      "  warnings.warn(\n"
     ]
    }
   ],
   "source": [
    "from sklearn.preprocessing import MultiLabelBinarizer\n",
    "import json\n",
    "\n",
    "with open('../data/label_dict.json', 'r') as file:\n",
    "    all_labels = json.load(file)\n",
    "label_list = [key for key in all_labels.keys() if re.match('Label_[0-9]', key)]\n",
    "mlb = MultiLabelBinarizer(classes=label_list)\n",
    "labels_array = [list(st.split(',')) for st in mails_df['labels']]\n",
    "mlb.fit(label_list)\n",
    "labels = mlb.transform(labels_array)"
   ],
   "metadata": {
    "collapsed": false
   }
  },
  {
   "cell_type": "code",
   "execution_count": 92,
   "outputs": [
    {
     "name": "stdout",
     "output_type": "stream",
     "text": [
      "(1126, 588) (1126, 21)\n"
     ]
    }
   ],
   "source": [
    "X = feature_matrix\n",
    "y = labels\n",
    "print(X.shape, y.shape)"
   ],
   "metadata": {
    "collapsed": false
   }
  },
  {
   "cell_type": "code",
   "execution_count": 93,
   "outputs": [
    {
     "name": "stderr",
     "output_type": "stream",
     "text": [
      "C:\\Users\\msing\\.conda\\envs\\gmail_organizer\\lib\\site-packages\\sklearn\\cluster\\_kmeans.py:870: FutureWarning: The default value of `n_init` will change from 10 to 'auto' in 1.4. Set the value of `n_init` explicitly to suppress the warning\n",
      "  warnings.warn(\n",
      "C:\\Users\\msing\\.conda\\envs\\gmail_organizer\\lib\\site-packages\\sklearn\\cluster\\_kmeans.py:1382: UserWarning: KMeans is known to have a memory leak on Windows with MKL, when there are less chunks than available threads. You can avoid it by setting the environment variable OMP_NUM_THREADS=5.\n",
      "  warnings.warn(\n"
     ]
    },
    {
     "data": {
      "text/plain": "array([20, 24, 20, ..., 24,  3, 10])"
     },
     "execution_count": 93,
     "metadata": {},
     "output_type": "execute_result"
    }
   ],
   "source": [
    "from sklearn.mixture import GaussianMixture\n",
    "from sklearn.cluster import KMeans\n",
    "\n",
    "k = 25\n",
    "model = KMeans(n_clusters=k, random_state=42)\n",
    "labels = model.fit_predict(X.toarray())\n",
    "labels"
   ],
   "metadata": {
    "collapsed": false
   }
  },
  {
   "cell_type": "code",
   "execution_count": 94,
   "outputs": [],
   "source": [
    "mails_df['label'] = pd.Series(labels)"
   ],
   "metadata": {
    "collapsed": false
   }
  },
  {
   "cell_type": "code",
   "execution_count": 95,
   "outputs": [],
   "source": [
    "new_df = mails_df.loc[:,['id', 'subject', 'label', 'labels']]"
   ],
   "metadata": {
    "collapsed": false
   }
  },
  {
   "cell_type": "markdown",
   "source": [
    "vectorizers = [sender_tfidf, body_tfidf, subject_tfidf]\n",
    "dill.dump(vectorizers, open('../data/TfidfVectorizers.pkl', 'wb'))"
   ],
   "metadata": {
    "collapsed": false
   }
  },
  {
   "cell_type": "markdown",
   "source": [
    "vectorizers = dill.load(open('../data/TfidfVectorizers.pkl', 'rb'))"
   ],
   "metadata": {
    "collapsed": false
   }
  },
  {
   "cell_type": "code",
   "execution_count": 96,
   "outputs": [],
   "source": [
    "new_df.reset_index(inplace=True)"
   ],
   "metadata": {
    "collapsed": false
   }
  },
  {
   "cell_type": "code",
   "execution_count": 97,
   "outputs": [],
   "source": [
    "new_df.sort_values(by=['label', 'index'], inplace=True)"
   ],
   "metadata": {
    "collapsed": false
   }
  },
  {
   "cell_type": "code",
   "execution_count": 98,
   "outputs": [
    {
     "data": {
      "text/plain": "      index                id  \\\n54       54  186cf6816cc9ee8b   \n115     115  186a7db4b059dfb8   \n123     123  186a2bacfff2ba09   \n217     217  1866cca1cc62a095   \n218     218  1866cc82f2a67e7e   \n...     ...               ...   \n1031   1031  1847258cc1a6281c   \n1037   1037  1846beda7f62cb45   \n1095   1095  184527434d8b1d80   \n1097   1097  184523b9e7477dff   \n1123   1123  1844b49869289c86   \n\n                                                subject  label  \\\n54                            Re-ETE Grades for MAN 001      0   \n115                              Assignments of MAN-006      0   \n123                     Re-Exam/Second Exam ETE MAN 001      0   \n217                                   Re: MAN 001 Marks      0   \n218                                       MAN 001 Marks      0   \n...                                                 ...    ...   \n1031  Get weekly insights from the entrepreneurial w...     24   \n1037                                Launch of Appetizer     24   \n1095  Get weekly insights from the entrepreneurial w...     24   \n1097  E-sports IITR | Walk-in Game Event For UG 1st ...     24   \n1123   You have been added to a team in Microsoft Teams     24   \n\n                                                 labels  \n54    Label_218404524901403708,IMPORTANT,CATEGORY_PE...  \n115                   IMPORTANT,CATEGORY_PERSONAL,INBOX  \n123            UNREAD,IMPORTANT,CATEGORY_PERSONAL,INBOX  \n217   Label_218404524901403708,IMPORTANT,CATEGORY_PE...  \n218   Label_218404524901403708,IMPORTANT,CATEGORY_PE...  \n...                                                 ...  \n1031                  IMPORTANT,CATEGORY_PERSONAL,INBOX  \n1037                  IMPORTANT,CATEGORY_PERSONAL,INBOX  \n1095                  IMPORTANT,CATEGORY_PERSONAL,INBOX  \n1097                  IMPORTANT,CATEGORY_PERSONAL,INBOX  \n1123                   IMPORTANT,CATEGORY_UPDATES,INBOX  \n\n[1126 rows x 5 columns]",
      "text/html": "<div>\n<style scoped>\n    .dataframe tbody tr th:only-of-type {\n        vertical-align: middle;\n    }\n\n    .dataframe tbody tr th {\n        vertical-align: top;\n    }\n\n    .dataframe thead th {\n        text-align: right;\n    }\n</style>\n<table border=\"1\" class=\"dataframe\">\n  <thead>\n    <tr style=\"text-align: right;\">\n      <th></th>\n      <th>index</th>\n      <th>id</th>\n      <th>subject</th>\n      <th>label</th>\n      <th>labels</th>\n    </tr>\n  </thead>\n  <tbody>\n    <tr>\n      <th>54</th>\n      <td>54</td>\n      <td>186cf6816cc9ee8b</td>\n      <td>Re-ETE Grades for MAN 001</td>\n      <td>0</td>\n      <td>Label_218404524901403708,IMPORTANT,CATEGORY_PE...</td>\n    </tr>\n    <tr>\n      <th>115</th>\n      <td>115</td>\n      <td>186a7db4b059dfb8</td>\n      <td>Assignments of MAN-006</td>\n      <td>0</td>\n      <td>IMPORTANT,CATEGORY_PERSONAL,INBOX</td>\n    </tr>\n    <tr>\n      <th>123</th>\n      <td>123</td>\n      <td>186a2bacfff2ba09</td>\n      <td>Re-Exam/Second Exam ETE MAN 001</td>\n      <td>0</td>\n      <td>UNREAD,IMPORTANT,CATEGORY_PERSONAL,INBOX</td>\n    </tr>\n    <tr>\n      <th>217</th>\n      <td>217</td>\n      <td>1866cca1cc62a095</td>\n      <td>Re: MAN 001 Marks</td>\n      <td>0</td>\n      <td>Label_218404524901403708,IMPORTANT,CATEGORY_PE...</td>\n    </tr>\n    <tr>\n      <th>218</th>\n      <td>218</td>\n      <td>1866cc82f2a67e7e</td>\n      <td>MAN 001 Marks</td>\n      <td>0</td>\n      <td>Label_218404524901403708,IMPORTANT,CATEGORY_PE...</td>\n    </tr>\n    <tr>\n      <th>...</th>\n      <td>...</td>\n      <td>...</td>\n      <td>...</td>\n      <td>...</td>\n      <td>...</td>\n    </tr>\n    <tr>\n      <th>1031</th>\n      <td>1031</td>\n      <td>1847258cc1a6281c</td>\n      <td>Get weekly insights from the entrepreneurial w...</td>\n      <td>24</td>\n      <td>IMPORTANT,CATEGORY_PERSONAL,INBOX</td>\n    </tr>\n    <tr>\n      <th>1037</th>\n      <td>1037</td>\n      <td>1846beda7f62cb45</td>\n      <td>Launch of Appetizer</td>\n      <td>24</td>\n      <td>IMPORTANT,CATEGORY_PERSONAL,INBOX</td>\n    </tr>\n    <tr>\n      <th>1095</th>\n      <td>1095</td>\n      <td>184527434d8b1d80</td>\n      <td>Get weekly insights from the entrepreneurial w...</td>\n      <td>24</td>\n      <td>IMPORTANT,CATEGORY_PERSONAL,INBOX</td>\n    </tr>\n    <tr>\n      <th>1097</th>\n      <td>1097</td>\n      <td>184523b9e7477dff</td>\n      <td>E-sports IITR | Walk-in Game Event For UG 1st ...</td>\n      <td>24</td>\n      <td>IMPORTANT,CATEGORY_PERSONAL,INBOX</td>\n    </tr>\n    <tr>\n      <th>1123</th>\n      <td>1123</td>\n      <td>1844b49869289c86</td>\n      <td>You have been added to a team in Microsoft Teams</td>\n      <td>24</td>\n      <td>IMPORTANT,CATEGORY_UPDATES,INBOX</td>\n    </tr>\n  </tbody>\n</table>\n<p>1126 rows × 5 columns</p>\n</div>"
     },
     "execution_count": 98,
     "metadata": {},
     "output_type": "execute_result"
    }
   ],
   "source": [
    "new_df"
   ],
   "metadata": {
    "collapsed": false
   }
  },
  {
   "cell_type": "code",
   "execution_count": 83,
   "outputs": [
    {
     "data": {
      "text/plain": "      index                                            subject  label\n30       30  Get weekly insights from the entrepreneurial w...      1\n102     102  Get weekly insights from the entrepreneurial w...      1\n112     112  Extension of last date : International Women D...      1\n114     114  Congratulations to Prof Kirtiraj , Prof Vimal ...      1\n154     154  International Women Day 2023 _ poster Competit...      1\n173     173  Class 09 Program: Grab your first round of VC ...      1\n242     242                          Invitation to E-Summit'23      1\n243     243          Exciting networking opportunity from NPCI      1\n248     248           Last reminder to participate in MUN 2023      1\n249     249             Register for Startup Expo (Hurry up!!)      1\n332     332          Community Manager E-Summit'23 Recruitment      1\n340     340  Workshop on Tech Transfer, Commercialization a...      1\n349     349             Invitation for Breaking The Convention      1\n385     385  Invitation to participate in MUN 2023 (E-Summi...      1\n398     398  Breaking The Convention: Product Development C...      1\n403     403  Productathon Hardware : Engine of Progress.(E ...      1\n404     404  Invitation from 8 club for IITR students - The...      1\n424     424  WEB 3.0 Productathon: 48 hours sprint hackatho...      1\n435     435  Invitation to North India's Biggest Entreprene...      1\n436     436  Deadline to apply for work experience as a Bus...      1\n485     485  Get weekly insights from the entrepreneurial w...      1\n487     487  Mind the Product: Product Case Challenge (E-Su...      1\n494     494  \"E-Summit IIT Roorkee\": North India's Biggest ...      1\n513     513  Business Tech related Workshops under E-Summit...      1\n520     520     Startup Mentorship Programme - Angel Syndicate      1\n524     524  Investors' Vista: Strategic Investment Competi...      1\n527     527  Ideastorm: Idea Building and Pitching Competit...      1\n569     569  Congratulations to Prof B Prasad (Chemical) - ...      1\n631     631  Congratulations to Prof Debrupa Lahiri , Prof ...      1\n640     640  Congratulations to Prof V C Srivastava and Mr ...      1\n661     661  Get weekly insights from the entrepreneurial w...      1\n712     712     Student Volunteer Program E-Summit IIT Roorkee      1\n730     730             Heritage Annual Excellence Awards 2022      1\n735     735  Congratulations to Prof C B Majumdar and team ...      1\n745     745                   Invitation to Intro Talk, E-Cell      1\n763     763             Heritage Annual Excellence Awards 2022      1\n764     764                         Career enhancement Program      1\n822     822                   E-Cell Financial Analyst Program      1\n836     836                   E-Cell Financial Analyst Program      1\n858     858                         Career enhancement program      1\n909     909          Novelty search workshop and IPR awareness      1\n947     947  Panel discussion for Startup ecosystem at IITR...      1\n972     972  Congratulations to Prof Shishir Sinha and Dr J...      1\n1015   1015  Invitation to participate in Idea pitching Eve...      1\n1029   1029                      Startup Expo _ 25th Nov 2022_      1",
      "text/html": "<div>\n<style scoped>\n    .dataframe tbody tr th:only-of-type {\n        vertical-align: middle;\n    }\n\n    .dataframe tbody tr th {\n        vertical-align: top;\n    }\n\n    .dataframe thead th {\n        text-align: right;\n    }\n</style>\n<table border=\"1\" class=\"dataframe\">\n  <thead>\n    <tr style=\"text-align: right;\">\n      <th></th>\n      <th>index</th>\n      <th>subject</th>\n      <th>label</th>\n    </tr>\n  </thead>\n  <tbody>\n    <tr>\n      <th>30</th>\n      <td>30</td>\n      <td>Get weekly insights from the entrepreneurial w...</td>\n      <td>1</td>\n    </tr>\n    <tr>\n      <th>102</th>\n      <td>102</td>\n      <td>Get weekly insights from the entrepreneurial w...</td>\n      <td>1</td>\n    </tr>\n    <tr>\n      <th>112</th>\n      <td>112</td>\n      <td>Extension of last date : International Women D...</td>\n      <td>1</td>\n    </tr>\n    <tr>\n      <th>114</th>\n      <td>114</td>\n      <td>Congratulations to Prof Kirtiraj , Prof Vimal ...</td>\n      <td>1</td>\n    </tr>\n    <tr>\n      <th>154</th>\n      <td>154</td>\n      <td>International Women Day 2023 _ poster Competit...</td>\n      <td>1</td>\n    </tr>\n    <tr>\n      <th>173</th>\n      <td>173</td>\n      <td>Class 09 Program: Grab your first round of VC ...</td>\n      <td>1</td>\n    </tr>\n    <tr>\n      <th>242</th>\n      <td>242</td>\n      <td>Invitation to E-Summit'23</td>\n      <td>1</td>\n    </tr>\n    <tr>\n      <th>243</th>\n      <td>243</td>\n      <td>Exciting networking opportunity from NPCI</td>\n      <td>1</td>\n    </tr>\n    <tr>\n      <th>248</th>\n      <td>248</td>\n      <td>Last reminder to participate in MUN 2023</td>\n      <td>1</td>\n    </tr>\n    <tr>\n      <th>249</th>\n      <td>249</td>\n      <td>Register for Startup Expo (Hurry up!!)</td>\n      <td>1</td>\n    </tr>\n    <tr>\n      <th>332</th>\n      <td>332</td>\n      <td>Community Manager E-Summit'23 Recruitment</td>\n      <td>1</td>\n    </tr>\n    <tr>\n      <th>340</th>\n      <td>340</td>\n      <td>Workshop on Tech Transfer, Commercialization a...</td>\n      <td>1</td>\n    </tr>\n    <tr>\n      <th>349</th>\n      <td>349</td>\n      <td>Invitation for Breaking The Convention</td>\n      <td>1</td>\n    </tr>\n    <tr>\n      <th>385</th>\n      <td>385</td>\n      <td>Invitation to participate in MUN 2023 (E-Summi...</td>\n      <td>1</td>\n    </tr>\n    <tr>\n      <th>398</th>\n      <td>398</td>\n      <td>Breaking The Convention: Product Development C...</td>\n      <td>1</td>\n    </tr>\n    <tr>\n      <th>403</th>\n      <td>403</td>\n      <td>Productathon Hardware : Engine of Progress.(E ...</td>\n      <td>1</td>\n    </tr>\n    <tr>\n      <th>404</th>\n      <td>404</td>\n      <td>Invitation from 8 club for IITR students - The...</td>\n      <td>1</td>\n    </tr>\n    <tr>\n      <th>424</th>\n      <td>424</td>\n      <td>WEB 3.0 Productathon: 48 hours sprint hackatho...</td>\n      <td>1</td>\n    </tr>\n    <tr>\n      <th>435</th>\n      <td>435</td>\n      <td>Invitation to North India's Biggest Entreprene...</td>\n      <td>1</td>\n    </tr>\n    <tr>\n      <th>436</th>\n      <td>436</td>\n      <td>Deadline to apply for work experience as a Bus...</td>\n      <td>1</td>\n    </tr>\n    <tr>\n      <th>485</th>\n      <td>485</td>\n      <td>Get weekly insights from the entrepreneurial w...</td>\n      <td>1</td>\n    </tr>\n    <tr>\n      <th>487</th>\n      <td>487</td>\n      <td>Mind the Product: Product Case Challenge (E-Su...</td>\n      <td>1</td>\n    </tr>\n    <tr>\n      <th>494</th>\n      <td>494</td>\n      <td>\"E-Summit IIT Roorkee\": North India's Biggest ...</td>\n      <td>1</td>\n    </tr>\n    <tr>\n      <th>513</th>\n      <td>513</td>\n      <td>Business Tech related Workshops under E-Summit...</td>\n      <td>1</td>\n    </tr>\n    <tr>\n      <th>520</th>\n      <td>520</td>\n      <td>Startup Mentorship Programme - Angel Syndicate</td>\n      <td>1</td>\n    </tr>\n    <tr>\n      <th>524</th>\n      <td>524</td>\n      <td>Investors' Vista: Strategic Investment Competi...</td>\n      <td>1</td>\n    </tr>\n    <tr>\n      <th>527</th>\n      <td>527</td>\n      <td>Ideastorm: Idea Building and Pitching Competit...</td>\n      <td>1</td>\n    </tr>\n    <tr>\n      <th>569</th>\n      <td>569</td>\n      <td>Congratulations to Prof B Prasad (Chemical) - ...</td>\n      <td>1</td>\n    </tr>\n    <tr>\n      <th>631</th>\n      <td>631</td>\n      <td>Congratulations to Prof Debrupa Lahiri , Prof ...</td>\n      <td>1</td>\n    </tr>\n    <tr>\n      <th>640</th>\n      <td>640</td>\n      <td>Congratulations to Prof V C Srivastava and Mr ...</td>\n      <td>1</td>\n    </tr>\n    <tr>\n      <th>661</th>\n      <td>661</td>\n      <td>Get weekly insights from the entrepreneurial w...</td>\n      <td>1</td>\n    </tr>\n    <tr>\n      <th>712</th>\n      <td>712</td>\n      <td>Student Volunteer Program E-Summit IIT Roorkee</td>\n      <td>1</td>\n    </tr>\n    <tr>\n      <th>730</th>\n      <td>730</td>\n      <td>Heritage Annual Excellence Awards 2022</td>\n      <td>1</td>\n    </tr>\n    <tr>\n      <th>735</th>\n      <td>735</td>\n      <td>Congratulations to Prof C B Majumdar and team ...</td>\n      <td>1</td>\n    </tr>\n    <tr>\n      <th>745</th>\n      <td>745</td>\n      <td>Invitation to Intro Talk, E-Cell</td>\n      <td>1</td>\n    </tr>\n    <tr>\n      <th>763</th>\n      <td>763</td>\n      <td>Heritage Annual Excellence Awards 2022</td>\n      <td>1</td>\n    </tr>\n    <tr>\n      <th>764</th>\n      <td>764</td>\n      <td>Career enhancement Program</td>\n      <td>1</td>\n    </tr>\n    <tr>\n      <th>822</th>\n      <td>822</td>\n      <td>E-Cell Financial Analyst Program</td>\n      <td>1</td>\n    </tr>\n    <tr>\n      <th>836</th>\n      <td>836</td>\n      <td>E-Cell Financial Analyst Program</td>\n      <td>1</td>\n    </tr>\n    <tr>\n      <th>858</th>\n      <td>858</td>\n      <td>Career enhancement program</td>\n      <td>1</td>\n    </tr>\n    <tr>\n      <th>909</th>\n      <td>909</td>\n      <td>Novelty search workshop and IPR awareness</td>\n      <td>1</td>\n    </tr>\n    <tr>\n      <th>947</th>\n      <td>947</td>\n      <td>Panel discussion for Startup ecosystem at IITR...</td>\n      <td>1</td>\n    </tr>\n    <tr>\n      <th>972</th>\n      <td>972</td>\n      <td>Congratulations to Prof Shishir Sinha and Dr J...</td>\n      <td>1</td>\n    </tr>\n    <tr>\n      <th>1015</th>\n      <td>1015</td>\n      <td>Invitation to participate in Idea pitching Eve...</td>\n      <td>1</td>\n    </tr>\n    <tr>\n      <th>1029</th>\n      <td>1029</td>\n      <td>Startup Expo _ 25th Nov 2022_</td>\n      <td>1</td>\n    </tr>\n  </tbody>\n</table>\n</div>"
     },
     "execution_count": 83,
     "metadata": {},
     "output_type": "execute_result"
    }
   ],
   "source": [
    "new_df.loc[new_df['label'] == 1]"
   ],
   "metadata": {
    "collapsed": false
   }
  },
  {
   "cell_type": "code",
   "execution_count": 108,
   "outputs": [
    {
     "data": {
      "text/plain": "      index                id  \\\n54       54  186cf6816cc9ee8b   \n115     115  186a7db4b059dfb8   \n123     123  186a2bacfff2ba09   \n217     217  1866cca1cc62a095   \n218     218  1866cc82f2a67e7e   \n...     ...               ...   \n1031   1031  1847258cc1a6281c   \n1037   1037  1846beda7f62cb45   \n1095   1095  184527434d8b1d80   \n1097   1097  184523b9e7477dff   \n1123   1123  1844b49869289c86   \n\n                                                subject  label  \\\n54                            Re-ETE Grades for MAN 001      0   \n115                              Assignments of MAN-006      0   \n123                     Re-Exam/Second Exam ETE MAN 001      0   \n217                                   Re: MAN 001 Marks      0   \n218                                       MAN 001 Marks      0   \n...                                                 ...    ...   \n1031  Get weekly insights from the entrepreneurial w...     24   \n1037                                Launch of Appetizer     24   \n1095  Get weekly insights from the entrepreneurial w...     24   \n1097  E-sports IITR | Walk-in Game Event For UG 1st ...     24   \n1123   You have been added to a team in Microsoft Teams     24   \n\n                                                 labels label_list  \n54    Label_218404524901403708,IMPORTANT,CATEGORY_PE...      [MTE]  \n115                   IMPORTANT,CATEGORY_PERSONAL,INBOX         []  \n123            UNREAD,IMPORTANT,CATEGORY_PERSONAL,INBOX         []  \n217   Label_218404524901403708,IMPORTANT,CATEGORY_PE...      [MTE]  \n218   Label_218404524901403708,IMPORTANT,CATEGORY_PE...      [MTE]  \n...                                                 ...        ...  \n1031                  IMPORTANT,CATEGORY_PERSONAL,INBOX         []  \n1037                  IMPORTANT,CATEGORY_PERSONAL,INBOX         []  \n1095                  IMPORTANT,CATEGORY_PERSONAL,INBOX         []  \n1097                  IMPORTANT,CATEGORY_PERSONAL,INBOX         []  \n1123                   IMPORTANT,CATEGORY_UPDATES,INBOX         []  \n\n[1126 rows x 6 columns]",
      "text/html": "<div>\n<style scoped>\n    .dataframe tbody tr th:only-of-type {\n        vertical-align: middle;\n    }\n\n    .dataframe tbody tr th {\n        vertical-align: top;\n    }\n\n    .dataframe thead th {\n        text-align: right;\n    }\n</style>\n<table border=\"1\" class=\"dataframe\">\n  <thead>\n    <tr style=\"text-align: right;\">\n      <th></th>\n      <th>index</th>\n      <th>id</th>\n      <th>subject</th>\n      <th>label</th>\n      <th>labels</th>\n      <th>label_list</th>\n    </tr>\n  </thead>\n  <tbody>\n    <tr>\n      <th>54</th>\n      <td>54</td>\n      <td>186cf6816cc9ee8b</td>\n      <td>Re-ETE Grades for MAN 001</td>\n      <td>0</td>\n      <td>Label_218404524901403708,IMPORTANT,CATEGORY_PE...</td>\n      <td>[MTE]</td>\n    </tr>\n    <tr>\n      <th>115</th>\n      <td>115</td>\n      <td>186a7db4b059dfb8</td>\n      <td>Assignments of MAN-006</td>\n      <td>0</td>\n      <td>IMPORTANT,CATEGORY_PERSONAL,INBOX</td>\n      <td>[]</td>\n    </tr>\n    <tr>\n      <th>123</th>\n      <td>123</td>\n      <td>186a2bacfff2ba09</td>\n      <td>Re-Exam/Second Exam ETE MAN 001</td>\n      <td>0</td>\n      <td>UNREAD,IMPORTANT,CATEGORY_PERSONAL,INBOX</td>\n      <td>[]</td>\n    </tr>\n    <tr>\n      <th>217</th>\n      <td>217</td>\n      <td>1866cca1cc62a095</td>\n      <td>Re: MAN 001 Marks</td>\n      <td>0</td>\n      <td>Label_218404524901403708,IMPORTANT,CATEGORY_PE...</td>\n      <td>[MTE]</td>\n    </tr>\n    <tr>\n      <th>218</th>\n      <td>218</td>\n      <td>1866cc82f2a67e7e</td>\n      <td>MAN 001 Marks</td>\n      <td>0</td>\n      <td>Label_218404524901403708,IMPORTANT,CATEGORY_PE...</td>\n      <td>[MTE]</td>\n    </tr>\n    <tr>\n      <th>...</th>\n      <td>...</td>\n      <td>...</td>\n      <td>...</td>\n      <td>...</td>\n      <td>...</td>\n      <td>...</td>\n    </tr>\n    <tr>\n      <th>1031</th>\n      <td>1031</td>\n      <td>1847258cc1a6281c</td>\n      <td>Get weekly insights from the entrepreneurial w...</td>\n      <td>24</td>\n      <td>IMPORTANT,CATEGORY_PERSONAL,INBOX</td>\n      <td>[]</td>\n    </tr>\n    <tr>\n      <th>1037</th>\n      <td>1037</td>\n      <td>1846beda7f62cb45</td>\n      <td>Launch of Appetizer</td>\n      <td>24</td>\n      <td>IMPORTANT,CATEGORY_PERSONAL,INBOX</td>\n      <td>[]</td>\n    </tr>\n    <tr>\n      <th>1095</th>\n      <td>1095</td>\n      <td>184527434d8b1d80</td>\n      <td>Get weekly insights from the entrepreneurial w...</td>\n      <td>24</td>\n      <td>IMPORTANT,CATEGORY_PERSONAL,INBOX</td>\n      <td>[]</td>\n    </tr>\n    <tr>\n      <th>1097</th>\n      <td>1097</td>\n      <td>184523b9e7477dff</td>\n      <td>E-sports IITR | Walk-in Game Event For UG 1st ...</td>\n      <td>24</td>\n      <td>IMPORTANT,CATEGORY_PERSONAL,INBOX</td>\n      <td>[]</td>\n    </tr>\n    <tr>\n      <th>1123</th>\n      <td>1123</td>\n      <td>1844b49869289c86</td>\n      <td>You have been added to a team in Microsoft Teams</td>\n      <td>24</td>\n      <td>IMPORTANT,CATEGORY_UPDATES,INBOX</td>\n      <td>[]</td>\n    </tr>\n  </tbody>\n</table>\n<p>1126 rows × 6 columns</p>\n</div>"
     },
     "execution_count": 108,
     "metadata": {},
     "output_type": "execute_result"
    }
   ],
   "source": [
    "new_df"
   ],
   "metadata": {
    "collapsed": false
   }
  },
  {
   "cell_type": "code",
   "execution_count": 113,
   "outputs": [
    {
     "data": {
      "text/plain": "[]             20\n[MTE]          13\n[Quiz]          9\n[MTE, Quiz]     1\nName: label_list, dtype: int64"
     },
     "execution_count": 113,
     "metadata": {},
     "output_type": "execute_result"
    }
   ],
   "source": [
    "new_df.loc[new_df['label'] == 0].label_list.value_counts()"
   ],
   "metadata": {
    "collapsed": false
   }
  },
  {
   "cell_type": "code",
   "execution_count": 114,
   "outputs": [
    {
     "data": {
      "text/plain": "array([[2.08809653, 1.88604784, 1.73690043, ..., 2.1109709 , 2.0765076 ,\n        1.78580069],\n       [2.06183201, 1.9004083 , 1.70122235, ..., 2.12321288, 1.96241714,\n        1.40985237],\n       [1.78325749, 1.60971438, 1.41514806, ..., 1.93445369, 1.83495538,\n        1.49368978],\n       ...,\n       [2.09922945, 1.93739829, 1.79519219, ..., 2.16487967, 2.13293046,\n        1.73230863],\n       [2.00442461, 1.92648414, 1.73258335, ..., 2.17104832, 2.07960258,\n        1.82278854],\n       [2.03859383, 1.89065532, 1.69112506, ..., 2.13628436, 2.06090977,\n        1.75805116]])"
     },
     "execution_count": 114,
     "metadata": {},
     "output_type": "execute_result"
    }
   ],
   "source": [
    "model.transform(X)"
   ],
   "metadata": {
    "collapsed": false
   }
  }
 ],
 "metadata": {
  "kernelspec": {
   "display_name": "Python 3",
   "language": "python",
   "name": "python3"
  },
  "language_info": {
   "codemirror_mode": {
    "name": "ipython",
    "version": 2
   },
   "file_extension": ".py",
   "mimetype": "text/x-python",
   "name": "python",
   "nbconvert_exporter": "python",
   "pygments_lexer": "ipython2",
   "version": "2.7.6"
  }
 },
 "nbformat": 4,
 "nbformat_minor": 0
}
