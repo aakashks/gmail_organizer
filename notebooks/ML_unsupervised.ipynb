{
 "cells": [
  {
   "cell_type": "code",
   "execution_count": 6,
   "metadata": {
    "collapsed": true
   },
   "outputs": [],
   "source": [
    "import re\n",
    "\n",
    "import joblib\n",
    "import pandas as pd\n",
    "import scipy.sparse\n",
    "from sklearn.impute import SimpleImputer\n",
    "\n",
    "mails_df = pd.read_csv(\"../data/training_data.csv\", sep='~', index_col=0)\n",
    "imputer = SimpleImputer(strategy='constant', fill_value='')\n",
    "mails_df = pd.DataFrame(imputer.fit_transform(mails_df), columns=mails_df.columns)\n",
    "# mails_df = mails_df.iloc[:10]"
   ]
  },
  {
   "cell_type": "code",
   "execution_count": 7,
   "outputs": [],
   "source": [
    "from sklearn.pipeline import Pipeline\n",
    "from sklearn.feature_extraction.text import TfidfVectorizer\n",
    "from sklearn.decomposition import TruncatedSVD\n",
    "from sklearn.compose import ColumnTransformer\n",
    "from nltk.corpus import wordnet, stopwords\n",
    "from nltk.stem import WordNetLemmatizer\n",
    "import re\n",
    "\n",
    "stop_words = set(stopwords.words('english'))\n",
    "\n",
    "lemmatizer = WordNetLemmatizer()"
   ],
   "metadata": {
    "collapsed": false
   }
  },
  {
   "cell_type": "code",
   "execution_count": 50,
   "outputs": [],
   "source": [
    "def preprocess_text(text):\n",
    "    text = text.lower()\n",
    "    text = re.sub('[^a-zA-Z]', ' ', text)\n",
    "    tokens = text.split()\n",
    "    tokens = [token for token in tokens if token not in stop_words]\n",
    "    processed_text = ' '.join([lemmatizer.lemmatize(token) for token in tokens])\n",
    "    return processed_text\n",
    "\n",
    "\n",
    "def preprocess_sender(address):\n",
    "    address_lst = address.lower().split('@')\n",
    "    address_lst[1] = re.sub('[.]ac|[.]in|[.]com', '', address_lst[1])\n",
    "    address_lst[1] = re.sub('[.]', ' ', address_lst[1])\n",
    "    address_lst[0] = re.sub('[._]', '', address_lst[0])\n",
    "    return ' '.join(address_lst)\n",
    "\n",
    "preprocessor = ColumnTransformer(transformers=[\n",
    "    ('subject', TfidfVectorizer(preprocessor=preprocess_text, min_df=0.01), 'subject'),\n",
    "    ('body', TfidfVectorizer(preprocessor=preprocess_text, max_df=0.9, min_df=0.1), 'body'),\n",
    "    ('sender', TfidfVectorizer(preprocessor=preprocess_sender), 'sender')\n",
    "], remainder='drop')\n",
    "\n",
    "pipeline = Pipeline([\n",
    "    ('preprocessor', preprocessor)\n",
    "])"
   ],
   "metadata": {
    "collapsed": false
   }
  },
  {
   "cell_type": "code",
   "execution_count": 53,
   "outputs": [
    {
     "data": {
      "text/plain": "'hellome cs iitr'"
     },
     "execution_count": 53,
     "metadata": {},
     "output_type": "execute_result"
    }
   ],
   "source": [
    "preprocess_sender('hello_me@cs.iitr.ac.in')"
   ],
   "metadata": {
    "collapsed": false
   }
  },
  {
   "cell_type": "code",
   "execution_count": 54,
   "outputs": [
    {
     "data": {
      "text/plain": "<1126x381 sparse matrix of type '<class 'numpy.float64'>'\n\twith 26770 stored elements in Compressed Sparse Row format>"
     },
     "execution_count": 54,
     "metadata": {},
     "output_type": "execute_result"
    }
   ],
   "source": [
    "prepeprocessed_df = pipeline.fit_transform(mails_df)\n",
    "prepeprocessed_df"
   ],
   "metadata": {
    "collapsed": false
   }
  },
  {
   "cell_type": "code",
   "execution_count": 55,
   "outputs": [
    {
     "data": {
      "text/plain": "array(['subject__academic', 'subject__appointment', 'subject__assignment',\n       'subject__autumn', 'subject__award', 'subject__bhawan',\n       'subject__call', 'subject__campus', 'subject__celebration',\n       'subject__cen', 'subject__ceremony', 'subject__club',\n       'subject__committee', 'subject__competition', 'subject__council',\n       'subject__course', 'subject__cultural', 'subject__day',\n       'subject__design', 'subject__development', 'subject__dr',\n       'subject__email', 'subject__ete', 'subject__event',\n       'subject__examination', 'subject__excluding', 'subject__feb',\n       'subject__first', 'subject__form', 'subject__fwd',\n       'subject__gentle', 'subject__grade', 'subject__guest',\n       'subject__hsn', 'subject__iit', 'subject__iitr', 'subject__indian',\n       'subject__institute', 'subject__inter', 'subject__intro',\n       'subject__invitation', 'subject__january', 'subject__last',\n       'subject__lecture', 'subject__list', 'subject__man',\n       'subject__march', 'subject__meet', 'subject__mobile',\n       'subject__modern', 'subject__month', 'subject__mr', 'subject__mte',\n       'subject__national', 'subject__nd', 'subject__new',\n       'subject__notice', 'subject__notification', 'subject__nov',\n       'subject__november', 'subject__om', 'subject__open', 'subject__ph',\n       'subject__phn', 'subject__physic', 'subject__pm', 'subject__point',\n       'subject__problem', 'subject__prof', 'subject__program',\n       'subject__quarantined', 'subject__quiz', 'subject__recruitment',\n       'subject__regarding', 'subject__registration', 'subject__reminder',\n       'subject__research', 'subject__response', 'subject__road',\n       'subject__room', 'subject__roorkee', 'subject__safety',\n       'subject__schedule', 'subject__section', 'subject__semester',\n       'subject__series', 'subject__session', 'subject__since',\n       'subject__sport', 'subject__spring', 'subject__st',\n       'subject__student', 'subject__summit', 'subject__talk',\n       'subject__team', 'subject__tech', 'subject__th', 'subject__today',\n       'subject__ug', 'subject__update', 'subject__updated',\n       'subject__viva', 'subject__voce', 'subject__workshop',\n       'subject__year', 'body__ac', 'body__academic', 'body__affair',\n       'body__also', 'body__attached', 'body__available', 'body__best',\n       'body__campus', 'body__com', 'body__contact', 'body__date',\n       'body__day', 'body__dean', 'body__dear', 'body__department',\n       'body__detail', 'body__dr', 'body__email', 'body__engineering',\n       'body__event', 'body__faculty', 'body__february', 'body__find',\n       'body__first', 'body__following', 'body__form', 'body__forward',\n       'body__get', 'body__gle', 'body__google', 'body__greeting',\n       'body__head', 'body__http', 'body__iit', 'body__iitr',\n       'body__india', 'body__indian', 'body__information',\n       'body__institute', 'body__invite', 'body__january', 'body__join',\n       'body__kumar', 'body__last', 'body__link', 'body__mail',\n       'body__make', 'body__march', 'body__may', 'body__member',\n       'body__need', 'body__new', 'body__note', 'body__notice',\n       'body__november', 'body__number', 'body__office', 'body__one',\n       'body__open', 'body__opportunity', 'body__part', 'body__ph',\n       'body__phone', 'body__please', 'body__pm', 'body__prof',\n       'body__professor', 'body__query', 'body__regard', 'body__register',\n       'body__registration', 'body__research', 'body__roorkee',\n       'body__science', 'body__secretary', 'body__see', 'body__sent',\n       'body__session', 'body__st', 'body__student', 'body__subject',\n       'body__take', 'body__team', 'body__technical', 'body__technology',\n       'body__th', 'body__thanks', 'body__time', 'body__uttarakhand',\n       'body__venue', 'body__view', 'body__work', 'body__www',\n       'body__year', 'sender__175years', 'sender__175yearstechsarthi',\n       'sender__aakashks', 'sender__aao', 'sender__ac', 'sender__acad',\n       'sender__account', 'sender__accounts', 'sender__adaa',\n       'sender__adci', 'sender__adii', 'sender__adinfraelect',\n       'sender__admission', 'sender__adoswsa', 'sender__adoswsw',\n       'sender__akhileshmishra', 'sender__alumnicelliarc', 'sender__ar',\n       'sender__arcurriculum', 'sender__arevaluation', 'sender__arunava',\n       'sender__as', 'sender__ashishkothyari', 'sender__awards',\n       'sender__banesinghaad', 'sender__bhanuprakashv', 'sender__bhawan',\n       'sender__bookinggh', 'sender__ccf', 'sender__ce',\n       'sender__ceotides', 'sender__ceotih', 'sender__cfse',\n       'sender__chairdinc', 'sender__chairmanisc', 'sender__chamankumar',\n       'sender__channeliimg', 'sender__chawards', 'sender__cinemaclub',\n       'sender__coedmm', 'sender__cognizance', 'sender__convenersac',\n       'sender__cs', 'sender__ct', 'sender__cw', 'sender__cy',\n       'sender__daa', 'sender__dadm', 'sender__deanfapf',\n       'sender__deanir', 'sender__design', 'sender__dic',\n       'sender__dinfra', 'sender__director', 'sender__dm',\n       'sender__donotreply', 'sender__dora', 'sender__dosw',\n       'sender__dradmn', 'sender__drive', 'sender__dropbox',\n       'sender__dsric', 'sender__ece', 'sender__ecell', 'sender__ee',\n       'sender__em', 'sender__email', 'sender__emailsupport',\n       'sender__eq', 'sender__es', 'sender__estba', 'sender__faculsocsre',\n       'sender__feesection', 'sender__fitindia', 'sender__fo',\n       'sender__forms', 'sender__gargisingh', 'sender__gati',\n       'sender__gauravraheja', 'sender__gensec', 'sender__genseccult',\n       'sender__gensecentrepreneurship', 'sender__gensechostel',\n       'sender__gensecpgacads', 'sender__gensectechnical',\n       'sender__gensecugacads', 'sender__gmail', 'sender__go',\n       'sender__google', 'sender__grammarly', 'sender__greenoffice',\n       'sender__guptafcc', 'sender__gvarma', 'sender__head',\n       'sender__headicc', 'sender__headoffice', 'sender__hec',\n       'sender__hindicell', 'sender__hodes', 'sender__hre', 'sender__hs',\n       'sender__hsnataraj', 'sender__hy', 'sender__iic', 'sender__iitr',\n       'sender__iitrtransport', 'sender__ils', 'sender__in',\n       'sender__info', 'sender__instructure', 'sender__irdc',\n       'sender__jrestate', 'sender__library', 'sender__lu',\n       'sender__luma', 'sender__ma', 'sender__maheshanand',\n       'sender__mail', 'sender__manageraad', 'sender__marketing',\n       'sender__mathworks', 'sender__me', 'sender__mess', 'sender__mfs',\n       'sender__microsoft', 'sender__moodle', 'sender__ms', 'sender__mt',\n       'sender__myunidays', 'sender__ncc', 'sender__network',\n       'sender__no', 'sender__noreply', 'sender__notifications',\n       'sender__nss', 'sender__nt', 'sender__office', 'sender__officecdc',\n       'sender__org', 'sender__outreachcell', 'sender__pantmilli',\n       'sender__pe', 'sender__ph', 'sender__pic', 'sender__poojagarg',\n       'sender__pradumnpandey', 'sender__proficcdc', 'sender__pt',\n       'sender__qcgacm', 'sender__rajendra', 'sender__rajendrabhawan',\n       'sender__receipts', 'sender__registrar', 'sender__reply',\n       'sender__replyecertificate', 'sender__rethinktinkering',\n       'sender__safety', 'sender__sanskrit', 'sender__sarbani',\n       'sender__security', 'sender__send', 'sender__service',\n       'sender__shares', 'sender__shirucafe', 'sender__singhfme',\n       'sender__singhishree', 'sender__sksunnymgcl', 'sender__spadhy',\n       'sender__spark', 'sender__spicmacay', 'sender__sports',\n       'sender__starkcon', 'sender__support', 'sender__teams',\n       'sender__thomso', 'sender__uba', 'sender__ug', 'sender__webex',\n       'sender__webexcomm', 'sender__workshops', 'sender__wr',\n       'sender__wrdtc'], dtype=object)"
     },
     "execution_count": 55,
     "metadata": {},
     "output_type": "execute_result"
    }
   ],
   "source": [
    "pipeline.get_feature_names_out()"
   ],
   "metadata": {
    "collapsed": false
   }
  },
  {
   "cell_type": "code",
   "execution_count": 22,
   "outputs": [
    {
     "data": {
      "text/plain": "True"
     },
     "execution_count": 22,
     "metadata": {},
     "output_type": "execute_result"
    }
   ],
   "source": [
    "import scipy\n",
    "pp1 = pipeline.transform(mails_df.iloc[8:])\n",
    "type(pp1) == scipy.sparse.csr_matrix"
   ],
   "metadata": {
    "collapsed": false
   }
  },
  {
   "cell_type": "code",
   "execution_count": 13,
   "outputs": [
    {
     "name": "stderr",
     "output_type": "stream",
     "text": [
      "C:\\Users\\msing\\.conda\\envs\\gmail_organizer\\lib\\site-packages\\sklearn\\preprocessing\\_label.py:895: UserWarning: unknown class(es) ['CATEGORY_FORUMS', 'CATEGORY_PERSONAL', 'CATEGORY_PROMOTIONS', 'CATEGORY_UPDATES', 'IMPORTANT', 'INBOX', 'SENT', 'STARRED', 'UNREAD'] will be ignored\n",
      "  warnings.warn(\n"
     ]
    }
   ],
   "source": [
    "from sklearn.preprocessing import MultiLabelBinarizer\n",
    "import json\n",
    "\n",
    "with open('../data/label_dict.json', 'r') as file:\n",
    "    all_labels = json.load(file)\n",
    "label_list = [key for key in all_labels.keys() if re.match('Label_[0-9]', key)]\n",
    "mlb = MultiLabelBinarizer(classes=label_list)\n",
    "labels_array = [list(st.split(',')) for st in mails_df['labels']]\n",
    "mlb.fit(label_list)\n",
    "labels = mlb.transform(labels_array)"
   ],
   "metadata": {
    "collapsed": false
   }
  },
  {
   "cell_type": "code",
   "execution_count": 14,
   "outputs": [
    {
     "data": {
      "text/plain": "<1126x397 sparse matrix of type '<class 'numpy.float64'>'\n\twith 27059 stored elements in Compressed Sparse Row format>"
     },
     "execution_count": 14,
     "metadata": {},
     "output_type": "execute_result"
    }
   ],
   "source": [
    "feature_matrix = pipeline.fit_transform(mails_df)\n",
    "feature_matrix"
   ],
   "metadata": {
    "collapsed": false
   }
  },
  {
   "cell_type": "code",
   "execution_count": 15,
   "outputs": [
    {
     "name": "stdout",
     "output_type": "stream",
     "text": [
      "(1126, 397) (1126, 21)\n"
     ]
    }
   ],
   "source": [
    "X = feature_matrix\n",
    "y = labels\n",
    "print(X.shape, y.shape)"
   ],
   "metadata": {
    "collapsed": false
   }
  },
  {
   "cell_type": "code",
   "execution_count": 16,
   "outputs": [
    {
     "name": "stderr",
     "output_type": "stream",
     "text": [
      "C:\\Users\\msing\\.conda\\envs\\gmail_organizer\\lib\\site-packages\\sklearn\\cluster\\_kmeans.py:870: FutureWarning: The default value of `n_init` will change from 10 to 'auto' in 1.4. Set the value of `n_init` explicitly to suppress the warning\n",
      "  warnings.warn(\n"
     ]
    },
    {
     "data": {
      "text/plain": "array([16, 22,  1, ...,  1, 21, 18])"
     },
     "execution_count": 16,
     "metadata": {},
     "output_type": "execute_result"
    }
   ],
   "source": [
    "from sklearn.mixture import GaussianMixture\n",
    "from sklearn.cluster import KMeans\n",
    "\n",
    "k = 25\n",
    "model = KMeans(n_clusters=k, random_state=42)\n",
    "labels = model.fit_predict(X)\n",
    "labels"
   ],
   "metadata": {
    "collapsed": false
   }
  },
  {
   "cell_type": "code",
   "execution_count": 17,
   "outputs": [
    {
     "data": {
      "text/plain": "numpy.ndarray"
     },
     "execution_count": 17,
     "metadata": {},
     "output_type": "execute_result"
    }
   ],
   "source": [
    "type(labels)"
   ],
   "metadata": {
    "collapsed": false
   }
  },
  {
   "cell_type": "code",
   "execution_count": 18,
   "outputs": [],
   "source": [
    "mails_df['label'] = pd.Series(labels, name='label')"
   ],
   "metadata": {
    "collapsed": false
   }
  },
  {
   "cell_type": "code",
   "execution_count": 19,
   "outputs": [
    {
     "data": {
      "text/plain": "                                                subject  label\n0     Video of Prof. Gaurav Raheja in conversation w...     16\n1                      Fwd: Institute Open Championship     22\n2            Study and Scholarship opportunities in USA      1\n3     Re: Request for semester 1 UG academic gradesheet     17\n4                          SPIC MACAY Intro Talk & Quiz     19\n...                                                 ...    ...\n1121                   Prof R J Garde Endowment Lecture     23\n1122  Updates: Your List of Quarantined Emails since...      6\n1123   You have been added to a team in Microsoft Teams      1\n1124  Re: Regarding the updated mobile no. and room no.     21\n1125  Re: Certificate course Non-Formal Sanskrit Edu...     18\n\n[1126 rows x 2 columns]",
      "text/html": "<div>\n<style scoped>\n    .dataframe tbody tr th:only-of-type {\n        vertical-align: middle;\n    }\n\n    .dataframe tbody tr th {\n        vertical-align: top;\n    }\n\n    .dataframe thead th {\n        text-align: right;\n    }\n</style>\n<table border=\"1\" class=\"dataframe\">\n  <thead>\n    <tr style=\"text-align: right;\">\n      <th></th>\n      <th>subject</th>\n      <th>label</th>\n    </tr>\n  </thead>\n  <tbody>\n    <tr>\n      <th>0</th>\n      <td>Video of Prof. Gaurav Raheja in conversation w...</td>\n      <td>16</td>\n    </tr>\n    <tr>\n      <th>1</th>\n      <td>Fwd: Institute Open Championship</td>\n      <td>22</td>\n    </tr>\n    <tr>\n      <th>2</th>\n      <td>Study and Scholarship opportunities in USA</td>\n      <td>1</td>\n    </tr>\n    <tr>\n      <th>3</th>\n      <td>Re: Request for semester 1 UG academic gradesheet</td>\n      <td>17</td>\n    </tr>\n    <tr>\n      <th>4</th>\n      <td>SPIC MACAY Intro Talk &amp; Quiz</td>\n      <td>19</td>\n    </tr>\n    <tr>\n      <th>...</th>\n      <td>...</td>\n      <td>...</td>\n    </tr>\n    <tr>\n      <th>1121</th>\n      <td>Prof R J Garde Endowment Lecture</td>\n      <td>23</td>\n    </tr>\n    <tr>\n      <th>1122</th>\n      <td>Updates: Your List of Quarantined Emails since...</td>\n      <td>6</td>\n    </tr>\n    <tr>\n      <th>1123</th>\n      <td>You have been added to a team in Microsoft Teams</td>\n      <td>1</td>\n    </tr>\n    <tr>\n      <th>1124</th>\n      <td>Re: Regarding the updated mobile no. and room no.</td>\n      <td>21</td>\n    </tr>\n    <tr>\n      <th>1125</th>\n      <td>Re: Certificate course Non-Formal Sanskrit Edu...</td>\n      <td>18</td>\n    </tr>\n  </tbody>\n</table>\n<p>1126 rows × 2 columns</p>\n</div>"
     },
     "execution_count": 19,
     "metadata": {},
     "output_type": "execute_result"
    }
   ],
   "source": [
    "mails_df.loc[:,['subject', 'label']]"
   ],
   "metadata": {
    "collapsed": false
   }
  },
  {
   "cell_type": "code",
   "execution_count": null,
   "outputs": [],
   "source": [],
   "metadata": {
    "collapsed": false
   }
  }
 ],
 "metadata": {
  "kernelspec": {
   "display_name": "Python 3",
   "language": "python",
   "name": "python3"
  },
  "language_info": {
   "codemirror_mode": {
    "name": "ipython",
    "version": 2
   },
   "file_extension": ".py",
   "mimetype": "text/x-python",
   "name": "python",
   "nbconvert_exporter": "python",
   "pygments_lexer": "ipython2",
   "version": "2.7.6"
  }
 },
 "nbformat": 4,
 "nbformat_minor": 0
}
