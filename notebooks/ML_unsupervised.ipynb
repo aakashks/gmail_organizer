{
 "cells": [
  {
   "cell_type": "code",
   "execution_count": 105,
   "metadata": {
    "collapsed": true
   },
   "outputs": [],
   "source": [
    "import re\n",
    "\n",
    "import joblib\n",
    "import pandas as pd\n",
    "from sklearn.impute import SimpleImputer\n",
    "\n",
    "mails_df = pd.read_csv(\"../data/training_data.csv\", sep='~', index_col=0)\n",
    "imputer = SimpleImputer(strategy='constant', fill_value='')\n",
    "mails_df = pd.DataFrame(imputer.fit_transform(mails_df), columns=mails_df.columns)\n",
    "# mails_df = mails_df.iloc[:10]"
   ]
  },
  {
   "cell_type": "code",
   "execution_count": 106,
   "outputs": [],
   "source": [
    "from sklearn.pipeline import Pipeline\n",
    "from sklearn.feature_extraction.text import TfidfVectorizer\n",
    "from sklearn.decomposition import TruncatedSVD\n",
    "from sklearn.compose import ColumnTransformer\n",
    "from nltk.corpus import wordnet, stopwords\n",
    "from nltk.stem import WordNetLemmatizer\n",
    "import re\n",
    "\n",
    "stop_words = set(stopwords.words('english'))\n",
    "\n",
    "lemmatizer = WordNetLemmatizer()"
   ],
   "metadata": {
    "collapsed": false
   }
  },
  {
   "cell_type": "code",
   "execution_count": 107,
   "outputs": [],
   "source": [
    "def preprocess_text(text):\n",
    "    text = text.lower()\n",
    "    text = re.sub('[^a-zA-Z]', ' ', text)\n",
    "    tokens = text.split()\n",
    "    tokens = [token for token in tokens if token not in stop_words]\n",
    "    processed_text = ' '.join([lemmatizer.lemmatize(token) for token in tokens])\n",
    "    return processed_text\n",
    "\n",
    "\n",
    "def preprocess_sender(address):\n",
    "    address = address.lower()\n",
    "    address = re.sub('[.]ac[.]in|[.]com', '', address)\n",
    "    address = re.sub('@|[.]', ' ', address)\n",
    "    return address\n",
    "\n",
    "preprocessor = ColumnTransformer(transformers=[\n",
    "    ('subject', TfidfVectorizer(preprocessor=preprocess_text, min_df=0.01), 'subject'),\n",
    "    ('body', TfidfVectorizer(preprocessor=preprocess_text, max_df=0.9, min_df=0.1), 'body'),\n",
    "    ('sender', TfidfVectorizer(preprocessor=preprocess_sender), 'sender')\n",
    "], remainder='drop')\n",
    "\n",
    "pipeline = Pipeline([\n",
    "    ('preprocessor', preprocessor)\n",
    "])"
   ],
   "metadata": {
    "collapsed": false
   }
  },
  {
   "cell_type": "code",
   "execution_count": 108,
   "outputs": [
    {
     "data": {
      "text/plain": "'hello cs iitr'"
     },
     "execution_count": 108,
     "metadata": {},
     "output_type": "execute_result"
    }
   ],
   "source": [
    "preprocess_sender('hello@cs.iitr.ac.in')"
   ],
   "metadata": {
    "collapsed": false
   }
  },
  {
   "cell_type": "code",
   "execution_count": 109,
   "outputs": [
    {
     "data": {
      "text/plain": "<8x594 sparse matrix of type '<class 'numpy.float64'>'\n\twith 737 stored elements in Compressed Sparse Row format>"
     },
     "execution_count": 109,
     "metadata": {},
     "output_type": "execute_result"
    }
   ],
   "source": [
    "prepeprocessed_df = pipeline.fit_transform(mails_df.iloc[:8])\n",
    "prepeprocessed_df"
   ],
   "metadata": {
    "collapsed": false
   }
  },
  {
   "cell_type": "code",
   "execution_count": 110,
   "outputs": [
    {
     "data": {
      "text/plain": "array(['subject__academic', 'subject__award', 'subject__call',\n       'subject__championship', 'subject__conversation',\n       'subject__convocation', 'subject__facility', 'subject__final',\n       'subject__fraya', 'subject__frehse', 'subject__fwd',\n       'subject__gaurav', 'subject__gradesheet', 'subject__institute',\n       'subject__intro', 'subject__lake', 'subject__macay',\n       'subject__notice', 'subject__open', 'subject__opportunity',\n       'subject__ph', 'subject__prof', 'subject__quiz', 'subject__raheja',\n       'subject__request', 'subject__room', 'subject__scholarship',\n       'subject__semester', 'subject__spic', 'subject__student',\n       'subject__study', 'subject__talk', 'subject__tehri',\n       'subject__trip', 'subject__ug', 'subject__usa', 'subject__video',\n       'subject__washing', 'body__aakash', 'body__aao', 'body__aastha',\n       'body__abdul', 'body__ac', 'body__academic', 'body__accepting',\n       'body__achievement', 'body__across', 'body__action',\n       'body__activity', 'body__administrator', 'body__advantage',\n       'body__adventure', 'body__adventurous', 'body__advised',\n       'body__adviser', 'body__affair', 'body__ahar', 'body__air',\n       'body__ajmpxemj', 'body__already', 'body__also', 'body__american',\n       'body__among', 'body__amongst', 'body__amrut', 'body__announce',\n       'body__annual', 'body__apj', 'body__application', 'body__applied',\n       'body__apply', 'body__area', 'body__arena', 'body__around',\n       'body__art', 'body__artist', 'body__asia', 'body__association',\n       'body__attached', 'body__avail', 'body__award', 'body__aware',\n       'body__badminton', 'body__badmintoncategories', 'body__bag',\n       'body__balloon', 'body__beauty', 'body__become', 'body__beginner',\n       'body__best', 'body__bhavna', 'body__bhawan', 'body__bhshvpqzkl',\n       'body__block', 'body__boat', 'body__brainstorming', 'body__bring',\n       'body__brochure', 'body__btech', 'body__bucket', 'body__bw',\n       'body__call', 'body__campus', 'body__capacity', 'body__category',\n       'body__cdc', 'body__celebration', 'body__center', 'body__ceremony',\n       'body__chairperson', 'body__championship', 'body__championshipto',\n       'body__channel', 'body__channeli', 'body__chess',\n       'body__classical', 'body__clothes', 'body__club', 'body__cncq',\n       'body__collecting', 'body__college', 'body__com', 'body__come',\n       'body__commission', 'body__committee', 'body__community',\n       'body__conducting', 'body__considered', 'body__consular',\n       'body__contact', 'body__control', 'body__conversation',\n       'body__convocation', 'body__cooperation', 'body__cordially',\n       'body__corner', 'body__cost', 'body__council', 'body__covered',\n       'body__cultural', 'body__culture', 'body__dam', 'body__dance',\n       'body__dash', 'body__date', 'body__day', 'body__dear',\n       'body__decided', 'body__dedicated', 'body__dedication',\n       'body__delay', 'body__delhi', 'body__delighted',\n       'body__demonstration', 'body__depth', 'body__destination',\n       'body__detail', 'body__dhbzks', 'body__dimension', 'body__direct',\n       'body__divided', 'body__doc', 'body__double', 'body__dr',\n       'body__drive', 'body__dsai', 'body__due', 'body__earliest',\n       'body__earphone', 'body__edit', 'body__education',\n       'body__educational', 'body__educationusa', 'body__eeae',\n       'body__effort', 'body__eligible', 'body__embassy', 'body__emy',\n       'body__encourage', 'body__engage', 'body__enrollment',\n       'body__ensure', 'body__entertained', 'body__enthusiast',\n       'body__entire', 'body__entry', 'body__event', 'body__eventvenue',\n       'body__every', 'body__everyone', 'body__excellence',\n       'body__exciting', 'body__expect', 'body__experience',\n       'body__expert', 'body__extra', 'body__faculty',\n       'body__faipqlseemgl', 'body__faipqlsfxej', 'body__family',\n       'body__faq', 'body__feature', 'body__fee', 'body__fellow',\n       'body__fellowship', 'body__field', 'body__file', 'body__fill',\n       'body__filling', 'body__final', 'body__find', 'body__flying',\n       'body__focus', 'body__folder', 'body__followed', 'body__following',\n       'body__follows', 'body__foothill', 'body__form', 'body__forward',\n       'body__forwarded', 'body__foundation', 'body__founded',\n       'body__fraya', 'body__fulbright', 'body__funding',\n       'body__furthermore', 'body__gain', 'body__gaurav',\n       'body__gbyezeheyfcm', 'body__gcsmus', 'body__general',\n       'body__gensec', 'body__get', 'body__glad', 'body__gle',\n       'body__global', 'body__gn', 'body__goa', 'body__google',\n       'body__grade', 'body__gradesheet', 'body__graduate',\n       'body__handout', 'body__hard', 'body__hearing', 'body__hec',\n       'body__high', 'body__higher', 'body__himalaya', 'body__hobby',\n       'body__hone', 'body__honor', 'body__hope', 'body__hot',\n       'body__hryzkjcvws', 'body__http', 'body__id', 'body__ideal',\n       'body__iit', 'body__iitr', 'body__immediately', 'body__inaugural',\n       'body__include', 'body__including', 'body__india', 'body__indian',\n       'body__inform', 'body__information', 'body__informs',\n       'body__input', 'body__insight', 'body__inspire', 'body__institute',\n       'body__integrated', 'body__interaction', 'body__interest',\n       'body__interview', 'body__intro', 'body__introduction',\n       'body__invite', 'body__ird', 'body__jeetu', 'body__jet',\n       'body__jljytom', 'body__jolly', 'body__kahd', 'body__kalam',\n       'body__kccsw', 'body__kiran', 'body__kite', 'body__km',\n       'body__know', 'body__kumar', 'body__lake', 'body__laptop',\n       'body__largest', 'body__lassical', 'body__last', 'body__le',\n       'body__lead', 'body__learn', 'body__lecture', 'body__left',\n       'body__lichess', 'body__limited', 'body__link', 'body__list',\n       'body__literature', 'body__located', 'body__long', 'body__look',\n       'body__loss', 'body__lot', 'body__macay', 'body__made',\n       'body__main', 'body__makar', 'body__man', 'body__many',\n       'body__mar', 'body__march', 'body__member', 'body__men',\n       'body__message', 'body__method', 'body__mf', 'body__min',\n       'body__mission', 'body__mixed', 'body__mongst', 'body__movement',\n       'body__mpwsjkhqpevrz', 'body__mqlwzwrsh', 'body__msubject',\n       'body__mury', 'body__music', 'body__must', 'body__namaste',\n       'body__name', 'body__nd', 'body__ndian', 'body__near', 'body__new',\n       'body__note', 'body__notice', 'body__noticeboard',\n       'body__occasion', 'body__ociety', 'body__odib', 'body__offer',\n       'body__offered', 'body__office', 'body__officer',\n       'body__ogljquoeua', 'body__old', 'body__omkar', 'body__one',\n       'body__online', 'body__onward', 'body__open', 'body__opened',\n       'body__opportunity', 'body__org', 'body__organising',\n       'body__organized', 'body__organizing', 'body__otherwise',\n       'body__outh', 'body__outstanding', 'body__overview', 'body__owner',\n       'body__paradise', 'body__part', 'body__participant',\n       'body__participate', 'body__participation', 'body__partner',\n       'body__paulo', 'body__pertaining', 'body__pg', 'body__ph',\n       'body__phone', 'body__place', 'body__planned', 'body__play',\n       'body__player', 'body__playing', 'body__please', 'body__pleased',\n       'body__pls', 'body__pm', 'body__popular', 'body__portal',\n       'body__possible', 'body__powerlifting', 'body__practical',\n       'body__presence', 'body__preserve', 'body__prize', 'body__process',\n       'body__prof', 'body__program', 'body__programme', 'body__promote',\n       'body__promoting', 'body__provide', 'body__provided', 'body__qna',\n       'body__qsfcs', 'body__qssy', 'body__qualify', 'body__quite',\n       'body__quiz', 'body__raheja', 'body__rajendra', 'body__rd',\n       'body__receive', 'body__recent', 'body__recognition',\n       'body__recognize', 'body__recognized', 'body__recruitment',\n       'body__regard', 'body__register', 'body__registered',\n       'body__registration', 'body__rehse', 'body__renowned',\n       'body__request', 'body__research', 'body__responsible',\n       'body__richness', 'body__romotion', 'body__room', 'body__roorkee',\n       'body__round', 'body__rp', 'body__rqubhwa', 'body__rt',\n       'body__rulebook', 'body__sac', 'body__sailing', 'body__sankranti',\n       'body__sbbfjizyvemruifb', 'body__schedule', 'body__scholar',\n       'body__scholarship', 'body__scsp', 'body__seasoned', 'body__seat',\n       'body__seated', 'body__sec', 'body__second', 'body__secretary',\n       'body__section', 'body__selection', 'body__sem', 'body__semester',\n       'body__senate', 'body__senior', 'body__sent', 'body__series',\n       'body__session', 'body__seth', 'body__sf', 'body__shall',\n       'body__share', 'body__sharp', 'body__sheet', 'body__shifted',\n       'body__showcase', 'body__shruti', 'body__since', 'body__singh',\n       'body__single', 'body__ski', 'body__skill', 'body__soon',\n       'body__space', 'body__spatial', 'body__speaker', 'body__speed',\n       'body__spic', 'body__sport', 'body__spread', 'body__sq',\n       'body__squash', 'body__ssh', 'body__st', 'body__standing',\n       'body__state', 'body__step', 'body__store', 'body__structure',\n       'body__student', 'body__study', 'body__subject', 'body__sudarsan',\n       'body__supervisor', 'body__support', 'body__sustainability',\n       'body__table', 'body__take', 'body__taken', 'body__talent',\n       'body__talk', 'body__technology', 'body__tehri', 'body__tel',\n       'body__tennis', 'body__tgefnt', 'body__th', 'body__thank',\n       'body__thanks', 'body__theater', 'body__theme', 'body__three',\n       'body__time', 'body__top', 'body__total', 'body__tournament',\n       'body__training', 'body__transformation', 'body__trip', 'body__tv',\n       'body__two', 'body__ub', 'body__ucdpuxkejbavnkduq', 'body__ueuesi',\n       'body__ug', 'body__ulture', 'body__undergraduate', 'body__unique',\n       'body__united', 'body__university', 'body__uq', 'body__urban',\n       'body__urge', 'body__usa', 'body__usic', 'body__usief',\n       'body__usp', 'body__uttarakhand', 'body__uv', 'body__valuable',\n       'body__various', 'body__venue', 'body__vg', 'body__video',\n       'body__view', 'body__viewform', 'body__vikashgeneral',\n       'body__virasat', 'body__virk', 'body__visa', 'body__visual',\n       'body__voluntary', 'body__wash', 'body__washing', 'body__water',\n       'body__website', 'body__wed', 'body__wednesday',\n       'body__weightlifting', 'body__welcome', 'body__whether',\n       'body__winner', 'body__wish', 'body__within', 'body__without',\n       'body__witness', 'body__woman', 'body__wonderful', 'body__work',\n       'body__workshop', 'body__world', 'body__year', 'body__yet',\n       'body__youth', 'body__zo', 'body__zpzxxg', 'body__zuawxrvfn',\n       'sender__aao', 'sender__awards', 'sender__gensec', 'sender__hec',\n       'sender__iitr', 'sender__irdc', 'sender__office_cdc',\n       'sender__rajendrabhawan', 'sender__spicmacay', 'sender__sports',\n       'sender__ug'], dtype=object)"
     },
     "execution_count": 110,
     "metadata": {},
     "output_type": "execute_result"
    }
   ],
   "source": [
    "pipeline.get_feature_names_out()"
   ],
   "metadata": {
    "collapsed": false
   }
  },
  {
   "cell_type": "code",
   "execution_count": 111,
   "outputs": [
    {
     "data": {
      "text/plain": "<1118x594 sparse matrix of type '<class 'numpy.float64'>'\n\twith 31571 stored elements in Compressed Sparse Row format>"
     },
     "execution_count": 111,
     "metadata": {},
     "output_type": "execute_result"
    }
   ],
   "source": [
    "pp1 = pipeline.transform(mails_df.iloc[8:])\n",
    "pp1"
   ],
   "metadata": {
    "collapsed": false
   }
  },
  {
   "cell_type": "code",
   "execution_count": 112,
   "outputs": [
    {
     "name": "stderr",
     "output_type": "stream",
     "text": [
      "C:\\Users\\msing\\.conda\\envs\\gmail_organizer\\lib\\site-packages\\sklearn\\preprocessing\\_label.py:895: UserWarning: unknown class(es) ['CATEGORY_FORUMS', 'CATEGORY_PERSONAL', 'CATEGORY_PROMOTIONS', 'CATEGORY_UPDATES', 'IMPORTANT', 'INBOX', 'SENT', 'STARRED', 'UNREAD'] will be ignored\n",
      "  warnings.warn(\n"
     ]
    }
   ],
   "source": [
    "from sklearn.preprocessing import MultiLabelBinarizer\n",
    "import json\n",
    "\n",
    "with open('../data/label_dict.json', 'r') as file:\n",
    "    all_labels = json.load(file)\n",
    "label_list = [key for key in all_labels.keys() if re.match('Label_[0-9]', key)]\n",
    "mlb = MultiLabelBinarizer(classes=label_list)\n",
    "labels_array = [list(st.split(',')) for st in mails_df['labels']]\n",
    "mlb.fit(label_list)\n",
    "labels = mlb.transform(labels_array)"
   ],
   "metadata": {
    "collapsed": false
   }
  },
  {
   "cell_type": "code",
   "execution_count": 113,
   "outputs": [
    {
     "data": {
      "text/plain": "<1126x399 sparse matrix of type '<class 'numpy.float64'>'\n\twith 27062 stored elements in Compressed Sparse Row format>"
     },
     "execution_count": 113,
     "metadata": {},
     "output_type": "execute_result"
    }
   ],
   "source": [
    "feature_matrix = pipeline.fit_transform(mails_df)\n",
    "feature_matrix"
   ],
   "metadata": {
    "collapsed": false
   }
  },
  {
   "cell_type": "code",
   "execution_count": 114,
   "outputs": [
    {
     "name": "stdout",
     "output_type": "stream",
     "text": [
      "(1126, 399) (1126, 21)\n"
     ]
    }
   ],
   "source": [
    "X = feature_matrix\n",
    "y = labels\n",
    "print(X.shape, y.shape)"
   ],
   "metadata": {
    "collapsed": false
   }
  },
  {
   "cell_type": "code",
   "execution_count": 137,
   "outputs": [
    {
     "name": "stderr",
     "output_type": "stream",
     "text": [
      "C:\\Users\\msing\\.conda\\envs\\gmail_organizer\\lib\\site-packages\\sklearn\\cluster\\_kmeans.py:870: FutureWarning: The default value of `n_init` will change from 10 to 'auto' in 1.4. Set the value of `n_init` explicitly to suppress the warning\n",
      "  warnings.warn(\n",
      "C:\\Users\\msing\\.conda\\envs\\gmail_organizer\\lib\\site-packages\\sklearn\\cluster\\_kmeans.py:1382: UserWarning: KMeans is known to have a memory leak on Windows with MKL, when there are less chunks than available threads. You can avoid it by setting the environment variable OMP_NUM_THREADS=5.\n",
      "  warnings.warn(\n"
     ]
    },
    {
     "data": {
      "text/plain": "array([16, 22,  1, ...,  1, 21, 18])"
     },
     "execution_count": 137,
     "metadata": {},
     "output_type": "execute_result"
    }
   ],
   "source": [
    "from sklearn.mixture import GaussianMixture\n",
    "from sklearn.cluster import KMeans\n",
    "\n",
    "k = 25\n",
    "model = KMeans(n_clusters=k, random_state=42)\n",
    "labels = model.fit_predict(X.toarray())\n",
    "labels"
   ],
   "metadata": {
    "collapsed": false
   }
  },
  {
   "cell_type": "code",
   "execution_count": 140,
   "outputs": [],
   "source": [
    "mails_df['label'] = pd.Series(labels, name='label')"
   ],
   "metadata": {
    "collapsed": false
   }
  },
  {
   "cell_type": "code",
   "execution_count": 141,
   "outputs": [
    {
     "data": {
      "text/plain": "                                                subject  label\n0     Video of Prof. Gaurav Raheja in conversation w...     16\n1                      Fwd: Institute Open Championship     22\n2            Study and Scholarship opportunities in USA      1\n3     Re: Request for semester 1 UG academic gradesheet     17\n4                          SPIC MACAY Intro Talk & Quiz     19\n...                                                 ...    ...\n1121                   Prof R J Garde Endowment Lecture     23\n1122  Updates: Your List of Quarantined Emails since...      6\n1123   You have been added to a team in Microsoft Teams      1\n1124  Re: Regarding the updated mobile no. and room no.     21\n1125  Re: Certificate course Non-Formal Sanskrit Edu...     18\n\n[1126 rows x 2 columns]",
      "text/html": "<div>\n<style scoped>\n    .dataframe tbody tr th:only-of-type {\n        vertical-align: middle;\n    }\n\n    .dataframe tbody tr th {\n        vertical-align: top;\n    }\n\n    .dataframe thead th {\n        text-align: right;\n    }\n</style>\n<table border=\"1\" class=\"dataframe\">\n  <thead>\n    <tr style=\"text-align: right;\">\n      <th></th>\n      <th>subject</th>\n      <th>label</th>\n    </tr>\n  </thead>\n  <tbody>\n    <tr>\n      <th>0</th>\n      <td>Video of Prof. Gaurav Raheja in conversation w...</td>\n      <td>16</td>\n    </tr>\n    <tr>\n      <th>1</th>\n      <td>Fwd: Institute Open Championship</td>\n      <td>22</td>\n    </tr>\n    <tr>\n      <th>2</th>\n      <td>Study and Scholarship opportunities in USA</td>\n      <td>1</td>\n    </tr>\n    <tr>\n      <th>3</th>\n      <td>Re: Request for semester 1 UG academic gradesheet</td>\n      <td>17</td>\n    </tr>\n    <tr>\n      <th>4</th>\n      <td>SPIC MACAY Intro Talk &amp; Quiz</td>\n      <td>19</td>\n    </tr>\n    <tr>\n      <th>...</th>\n      <td>...</td>\n      <td>...</td>\n    </tr>\n    <tr>\n      <th>1121</th>\n      <td>Prof R J Garde Endowment Lecture</td>\n      <td>23</td>\n    </tr>\n    <tr>\n      <th>1122</th>\n      <td>Updates: Your List of Quarantined Emails since...</td>\n      <td>6</td>\n    </tr>\n    <tr>\n      <th>1123</th>\n      <td>You have been added to a team in Microsoft Teams</td>\n      <td>1</td>\n    </tr>\n    <tr>\n      <th>1124</th>\n      <td>Re: Regarding the updated mobile no. and room no.</td>\n      <td>21</td>\n    </tr>\n    <tr>\n      <th>1125</th>\n      <td>Re: Certificate course Non-Formal Sanskrit Edu...</td>\n      <td>18</td>\n    </tr>\n  </tbody>\n</table>\n<p>1126 rows × 2 columns</p>\n</div>"
     },
     "execution_count": 141,
     "metadata": {},
     "output_type": "execute_result"
    }
   ],
   "source": [
    "mails_df.loc[:,['subject', 'label']]"
   ],
   "metadata": {
    "collapsed": false
   }
  }
 ],
 "metadata": {
  "kernelspec": {
   "display_name": "Python 3",
   "language": "python",
   "name": "python3"
  },
  "language_info": {
   "codemirror_mode": {
    "name": "ipython",
    "version": 2
   },
   "file_extension": ".py",
   "mimetype": "text/x-python",
   "name": "python",
   "nbconvert_exporter": "python",
   "pygments_lexer": "ipython2",
   "version": "2.7.6"
  }
 },
 "nbformat": 4,
 "nbformat_minor": 0
}
