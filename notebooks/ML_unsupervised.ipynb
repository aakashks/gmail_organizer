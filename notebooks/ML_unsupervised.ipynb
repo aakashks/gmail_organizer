{
 "cells": [
  {
   "cell_type": "markdown",
   "source": [
    "I was unable to find any large dataset which contained user emails of the type I wanted.\n",
    "Fitting any clustering algorithm on this dataset was producing satisfactory but not good results\n",
    "hence, I discarded the idea.\n",
    "however this notebook still contains much of the work which I tried."
   ],
   "metadata": {
    "collapsed": false
   }
  },
  {
   "cell_type": "code",
   "execution_count": null,
   "metadata": {
    "collapsed": true,
    "ExecuteTime": {
     "start_time": "2023-03-31T20:55:44.953727Z",
     "end_time": "2023-03-31T20:55:45.312372Z"
    }
   },
   "outputs": [],
   "source": [
    "import re\n",
    "\n",
    "import joblib\n",
    "import pandas as pd\n",
    "from sklearn.impute import SimpleImputer\n",
    "import dill\n",
    "\n",
    "mails_df = pd.read_csv(\"../data/training_data.csv\", sep='~', index_col=0)\n",
    "imputer = SimpleImputer(strategy='constant', fill_value='')\n",
    "mails_df = pd.DataFrame(imputer.fit_transform(mails_df), columns=mails_df.columns)\n",
    "mails_df.iloc[:10]"
   ]
  },
  {
   "cell_type": "code",
   "execution_count": 52,
   "outputs": [],
   "source": [
    "from sklearn.pipeline import Pipeline\n",
    "from sklearn.feature_extraction.text import TfidfVectorizer\n",
    "from sklearn.decomposition import TruncatedSVD\n",
    "from sklearn.compose import ColumnTransformer\n",
    "from nltk.corpus import wordnet, stopwords\n",
    "from nltk.stem import WordNetLemmatizer\n",
    "import re\n",
    "\n",
    "stop_words = set(stopwords.words('english'))\n",
    "\n",
    "lemmatizer = WordNetLemmatizer()"
   ],
   "metadata": {
    "collapsed": false,
    "ExecuteTime": {
     "start_time": "2023-03-31T20:55:45.012816Z",
     "end_time": "2023-03-31T20:55:45.312372Z"
    }
   }
  },
  {
   "cell_type": "code",
   "execution_count": 53,
   "outputs": [],
   "source": [
    "def preprocess_text(text):\n",
    "    text = text.lower()\n",
    "    text = re.sub('[^a-zA-Z]', ' ', text)\n",
    "    tokens = text.split()\n",
    "    tokens = [token for token in tokens if token not in stop_words]\n",
    "    processed_text = ' '.join([lemmatizer.lemmatize(token) for token in tokens])\n",
    "    return processed_text\n",
    "\n",
    "\n",
    "def preprocess_sender(address):\n",
    "    address = address.lower()\n",
    "    address = re.sub('[.]ac[.]in|[.]com', '', address)\n",
    "    address = re.sub('@|[.]', ' ', address)\n",
    "    return address\n",
    "\n",
    "subject_tfidf = TfidfVectorizer(preprocessor=preprocess_text, min_df=0.01)\n",
    "body_tfidf = TfidfVectorizer(preprocessor=preprocess_text, max_df=0.8, min_df=0.05)\n",
    "sender_tfidf = TfidfVectorizer(preprocessor=preprocess_sender)\n",
    "\n",
    "subject_vectors = subject_tfidf.fit_transform(mails_df['subject'])\n",
    "body_vectors = body_tfidf.fit_transform(mails_df['body'])\n",
    "sender_vectors = sender_tfidf.fit_transform(mails_df['sender'])"
   ],
   "metadata": {
    "collapsed": false,
    "ExecuteTime": {
     "start_time": "2023-03-31T20:55:45.028189Z",
     "end_time": "2023-03-31T20:55:46.590592Z"
    }
   }
  },
  {
   "cell_type": "code",
   "execution_count": 54,
   "outputs": [],
   "source": [
    "from scipy.sparse import hstack\n",
    "\n",
    "feature_matrix = hstack((subject_vectors, body_vectors, sender_vectors))"
   ],
   "metadata": {
    "collapsed": false,
    "ExecuteTime": {
     "start_time": "2023-03-31T20:55:46.576356Z",
     "end_time": "2023-03-31T20:55:46.590592Z"
    }
   }
  },
  {
   "cell_type": "code",
   "execution_count": 55,
   "outputs": [
    {
     "data": {
      "text/plain": "scipy.sparse._csr.csr_matrix"
     },
     "execution_count": 55,
     "metadata": {},
     "output_type": "execute_result"
    }
   ],
   "source": [
    "type(feature_matrix)"
   ],
   "metadata": {
    "collapsed": false,
    "ExecuteTime": {
     "start_time": "2023-03-31T20:55:46.590592Z",
     "end_time": "2023-03-31T20:55:46.608454Z"
    }
   }
  },
  {
   "cell_type": "code",
   "execution_count": 56,
   "outputs": [
    {
     "data": {
      "text/plain": "'hello cs iitr'"
     },
     "execution_count": 56,
     "metadata": {},
     "output_type": "execute_result"
    }
   ],
   "source": [
    "preprocess_sender('hello@cs.iitr.ac.in')"
   ],
   "metadata": {
    "collapsed": false,
    "ExecuteTime": {
     "start_time": "2023-03-31T20:55:46.614406Z",
     "end_time": "2023-03-31T20:55:46.705233Z"
    }
   }
  },
  {
   "cell_type": "code",
   "execution_count": null,
   "outputs": [],
   "source": [
    "from sklearn.preprocessing import MultiLabelBinarizer\n",
    "import json\n",
    "\n",
    "with open('../data/label_dict.json', 'r') as file:\n",
    "    all_labels = json.load(file)\n",
    "label_list = [key for key in all_labels.keys() if re.match('Label_[0-9]', key)]\n",
    "mlb = MultiLabelBinarizer(classes=label_list)\n",
    "labels_array = [list(st.split(',')) for st in mails_df['labels']]\n",
    "mlb.fit(label_list)\n",
    "labels = mlb.transform(labels_array)"
   ],
   "metadata": {
    "collapsed": false,
    "ExecuteTime": {
     "start_time": "2023-03-31T20:55:46.625980Z",
     "end_time": "2023-03-31T20:55:46.705233Z"
    }
   }
  },
  {
   "cell_type": "code",
   "execution_count": 58,
   "outputs": [
    {
     "name": "stdout",
     "output_type": "stream",
     "text": [
      "(1198, 601) (1198, 21)\n"
     ]
    }
   ],
   "source": [
    "X = feature_matrix\n",
    "y = labels\n",
    "print(X.shape, y.shape)"
   ],
   "metadata": {
    "collapsed": false,
    "ExecuteTime": {
     "start_time": "2023-03-31T20:55:46.643509Z",
     "end_time": "2023-03-31T20:55:46.705233Z"
    }
   }
  },
  {
   "cell_type": "code",
   "execution_count": null,
   "outputs": [],
   "source": [
    "from sklearn.cluster import KMeans\n",
    "\n",
    "k = 25\n",
    "model =  KMeans(n_clusters=25, n_init=10, random_state=42)\n",
    "labels = model.fit_predict(X.toarray())\n",
    "labels"
   ],
   "metadata": {
    "collapsed": false,
    "ExecuteTime": {
     "start_time": "2023-03-31T20:55:46.654479Z",
     "end_time": "2023-03-31T20:55:47.371131Z"
    }
   }
  },
  {
   "cell_type": "code",
   "execution_count": 60,
   "outputs": [],
   "source": [
    "mails_df['label'] = pd.Series(labels)"
   ],
   "metadata": {
    "collapsed": false,
    "ExecuteTime": {
     "start_time": "2023-03-31T20:55:47.371131Z",
     "end_time": "2023-03-31T20:55:47.420032Z"
    }
   }
  },
  {
   "cell_type": "code",
   "execution_count": 61,
   "outputs": [],
   "source": [
    "new_df = mails_df.loc[:,['id', 'subject', 'label', 'labels']]"
   ],
   "metadata": {
    "collapsed": false,
    "ExecuteTime": {
     "start_time": "2023-03-31T20:55:47.391262Z",
     "end_time": "2023-03-31T20:55:47.420032Z"
    }
   }
  },
  {
   "cell_type": "markdown",
   "source": [
    "vectorizers = [sender_tfidf, body_tfidf, subject_tfidf]\n",
    "dill.dump(vectorizers, open('../data/TfidfVectorizers.pkl', 'wb'))"
   ],
   "metadata": {
    "collapsed": false
   }
  },
  {
   "cell_type": "markdown",
   "source": [
    "vectorizers = dill.load(open('../data/TfidfVectorizers.pkl', 'rb'))"
   ],
   "metadata": {
    "collapsed": false
   }
  },
  {
   "cell_type": "code",
   "execution_count": 62,
   "outputs": [],
   "source": [
    "new_df.reset_index(inplace=True)"
   ],
   "metadata": {
    "collapsed": false,
    "ExecuteTime": {
     "start_time": "2023-03-31T20:55:47.403959Z",
     "end_time": "2023-03-31T20:55:47.420032Z"
    }
   }
  },
  {
   "cell_type": "code",
   "execution_count": 63,
   "outputs": [],
   "source": [
    "new_df.sort_values(by=['label', 'index'], inplace=True)"
   ],
   "metadata": {
    "collapsed": false,
    "ExecuteTime": {
     "start_time": "2023-03-31T20:55:47.413022Z",
     "end_time": "2023-03-31T20:55:47.455665Z"
    }
   }
  },
  {
   "cell_type": "code",
   "execution_count": null,
   "outputs": [],
   "source": [
    "new_df"
   ],
   "metadata": {
    "collapsed": false,
    "ExecuteTime": {
     "start_time": "2023-03-31T20:55:47.437674Z",
     "end_time": "2023-03-31T20:55:47.507331Z"
    }
   }
  },
  {
   "cell_type": "code",
   "execution_count": null,
   "outputs": [],
   "source": [
    "new_df.loc[new_df['label'] == 1]"
   ],
   "metadata": {
    "collapsed": false,
    "ExecuteTime": {
     "start_time": "2023-03-31T20:55:47.455665Z",
     "end_time": "2023-03-31T20:55:47.507331Z"
    }
   }
  },
  {
   "cell_type": "code",
   "execution_count": 66,
   "outputs": [],
   "source": [
    "def write_label_names(label_id_series: pd.Series, exc_list=[]) -> pd.Series:\n",
    "    \"\"\"\n",
    "    :param exc_list: a list of label_ids among the default ones which are required\n",
    "    will convert comma separated label_ids into label_names for a series of strings\n",
    "    \"\"\"\n",
    "    labels_dict = all_labels\n",
    "\n",
    "    def label_filter(label_id_st):\n",
    "        label_names = []\n",
    "        for label_id in label_id_st:\n",
    "            if label_id == labels_dict[label_id] and label_id not in exc_list:\n",
    "                label_id_st.remove(label_id)\n",
    "            else:\n",
    "                label_names.append(labels_dict[label_id])\n",
    "\n",
    "        return ','.join(label_names)\n",
    "\n",
    "    return label_id_series.str.split(',').apply(label_filter)"
   ],
   "metadata": {
    "collapsed": false,
    "ExecuteTime": {
     "start_time": "2023-03-31T20:55:47.481464Z",
     "end_time": "2023-03-31T20:55:47.507331Z"
    }
   }
  },
  {
   "cell_type": "code",
   "execution_count": 67,
   "outputs": [],
   "source": [
    "new_df['label_list'] = write_label_names(new_df['labels'])"
   ],
   "metadata": {
    "collapsed": false,
    "ExecuteTime": {
     "start_time": "2023-03-31T20:55:47.498589Z",
     "end_time": "2023-03-31T20:55:47.537230Z"
    }
   }
  },
  {
   "cell_type": "code",
   "execution_count": 68,
   "outputs": [
    {
     "name": "stdout",
     "output_type": "stream",
     "text": [
      "                  29\n",
      "Guest Lectures     3\n",
      "Name: label_list, dtype: int64\n",
      "\n",
      "                       34\n",
      "bhawan notifs           2\n",
      "jobs and internship     2\n",
      "Name: label_list, dtype: int64\n",
      "\n",
      "                                     371\n",
      "jobs and internship                   25\n",
      "IMP                                   11\n",
      "academics,ETE                          9\n",
      "Class materials,academics              8\n",
      "bhawan notifs                          4\n",
      "institute updates                      3\n",
      "Guest Lectures                         3\n",
      "Techincal Clubs                        3\n",
      "OTP                                    2\n",
      "academics                              2\n",
      "SCSP                                   2\n",
      "MTE,academics                          2\n",
      "Club Recruitments,Techincal Clubs      1\n",
      "Club Recruitments                      1\n",
      "MTE,academics,ETE                      1\n",
      "hackathons                             1\n",
      "treks                                  1\n",
      "Class materials                        1\n",
      "AAO                                    1\n",
      "Name: label_list, dtype: int64\n",
      "\n",
      "                              27\n",
      "Club Recruitments             10\n",
      "cultural                       4\n",
      "cultural,Club Recruitments     3\n",
      "bhawan notifs                  3\n",
      "Name: label_list, dtype: int64\n",
      "\n",
      "quarantined    20\n",
      "                2\n",
      "Name: label_list, dtype: int64\n",
      "\n",
      "academics            9\n",
      "                     4\n",
      "academics,ETE        2\n",
      "MTE,academics,ETE    1\n",
      "MTE,academics        1\n",
      "AAO,MTE,academics    1\n",
      "Name: label_list, dtype: int64\n",
      "\n",
      "AAO info    26\n",
      "Name: label_list, dtype: int64\n",
      "\n",
      "academics            11\n",
      "MTE,academics         4\n",
      "academics,IMP         2\n",
      "ETE                   1\n",
      "academics,ETE         1\n",
      "MTE,academics,ETE     1\n",
      "Name: label_list, dtype: int64\n",
      "\n",
      "                     10\n",
      "academics,ETE         6\n",
      "commercial            5\n",
      "Quiz,academics        4\n",
      "Quiz                  4\n",
      "commercial,OTP        3\n",
      "MTE,academics         3\n",
      "MTE,academics,ETE     1\n",
      "MTE,Quiz              1\n",
      "MTE                   1\n",
      "Name: label_list, dtype: int64\n",
      "\n",
      "                       43\n",
      "bhawan notifs           3\n",
      "bhawan notifs,IMP       2\n",
      "jobs and internship     2\n",
      "ETE                     1\n",
      "Name: label_list, dtype: int64\n",
      "\n",
      "                     27\n",
      "Club Recruitments     1\n",
      "Name: label_list, dtype: int64\n",
      "\n",
      "    14\n",
      "Name: label_list, dtype: int64\n",
      "\n",
      "academics,ETE                9\n",
      "MTE,academics                9\n",
      "Class materials,academics    8\n",
      "Quiz,academics               7\n",
      "MTE,academics,ETE            3\n",
      "Quiz                         2\n",
      "                             1\n",
      "ETE                          1\n",
      "MTE                          1\n",
      "MTE,Quiz,academics           1\n",
      "Class materials              1\n",
      "Name: label_list, dtype: int64\n",
      "\n",
      "                                  29\n",
      "hackathons                         2\n",
      "jobs and internship,hackathons     2\n",
      "Name: label_list, dtype: int64\n",
      "\n",
      "                       25\n",
      "IMP                     2\n",
      "jobs and internship     1\n",
      "Name: label_list, dtype: int64\n",
      "\n",
      "                         45\n",
      "Club Recruitments,IMP     1\n",
      "Name: label_list, dtype: int64\n",
      "\n",
      "                                     64\n",
      "Techincal Clubs                      15\n",
      "Club Recruitments,Techincal Clubs    14\n",
      "hackathons                            3\n",
      "Club Recruitments                     2\n",
      "IMP,Techincal Clubs                   1\n",
      "IMP                                   1\n",
      "Name: label_list, dtype: int64\n",
      "\n",
      "    19\n",
      "Name: label_list, dtype: int64\n",
      "\n",
      "                           16\n",
      "jobs and internship,IMP     1\n",
      "Name: label_list, dtype: int64\n",
      "\n",
      "AAO                        12\n",
      "AAO,IMP                    10\n",
      "jobs and internship,AAO     1\n",
      "AAO,academics,ETE           1\n",
      "Name: label_list, dtype: int64\n",
      "\n",
      "                       7\n",
      "jobs and internship    4\n",
      "hackathons             1\n",
      "quarantined            1\n",
      "Name: label_list, dtype: int64\n",
      "\n",
      "treks    15\n",
      "          4\n",
      "Name: label_list, dtype: int64\n",
      "\n",
      "                         4\n",
      "AAO                      4\n",
      "AAO,MTE,academics        4\n",
      "IMP                      1\n",
      "AAO,academics,ETE        1\n",
      "AAO,academics,ETE,IMP    1\n",
      "Name: label_list, dtype: int64\n",
      "\n",
      "                 14\n",
      "AAO info          8\n",
      "academics,IMP     3\n",
      "MTE,academics     1\n",
      "bhawan notifs     1\n",
      "IMP               1\n",
      "Name: label_list, dtype: int64\n",
      "\n",
      "    27\n",
      "Name: label_list, dtype: int64\n",
      "\n"
     ]
    }
   ],
   "source": [
    "for i in range(25):\n",
    "    print(new_df.loc[new_df['label'] == i].label_list.value_counts())\n",
    "    print()"
   ],
   "metadata": {
    "collapsed": false,
    "ExecuteTime": {
     "start_time": "2023-03-31T20:55:47.520657Z",
     "end_time": "2023-03-31T20:55:47.756157Z"
    }
   }
  },
  {
   "cell_type": "code",
   "execution_count": null,
   "outputs": [],
   "source": [
    "model.transform(X)"
   ],
   "metadata": {
    "collapsed": false,
    "ExecuteTime": {
     "start_time": "2023-03-31T20:55:47.590441Z",
     "end_time": "2023-03-31T20:55:47.756157Z"
    }
   }
  },
  {
   "cell_type": "code",
   "execution_count": null,
   "outputs": [],
   "source": [
    "from sklearn.mixture import GaussianMixture\n",
    "\n",
    "k = 25\n",
    "model =  GaussianMixture(n_components=25, n_init=10)\n",
    "labels = model.fit_predict(X.toarray())\n",
    "labels"
   ],
   "metadata": {
    "collapsed": false,
    "ExecuteTime": {
     "start_time": "2023-03-31T20:55:47.610720Z",
     "end_time": "2023-03-31T20:56:20.286210Z"
    }
   }
  },
  {
   "cell_type": "code",
   "execution_count": 71,
   "outputs": [
    {
     "data": {
      "text/plain": "True"
     },
     "execution_count": 71,
     "metadata": {},
     "output_type": "execute_result"
    }
   ],
   "source": [
    "model.converged_"
   ],
   "metadata": {
    "collapsed": false,
    "ExecuteTime": {
     "start_time": "2023-03-31T20:56:20.249461Z",
     "end_time": "2023-03-31T20:56:20.287716Z"
    }
   }
  },
  {
   "cell_type": "code",
   "execution_count": 72,
   "outputs": [
    {
     "data": {
      "text/plain": "2"
     },
     "execution_count": 72,
     "metadata": {},
     "output_type": "execute_result"
    }
   ],
   "source": [
    "model.n_iter_"
   ],
   "metadata": {
    "collapsed": false,
    "ExecuteTime": {
     "start_time": "2023-03-31T20:56:20.262781Z",
     "end_time": "2023-03-31T20:56:20.287716Z"
    }
   }
  },
  {
   "cell_type": "code",
   "execution_count": null,
   "outputs": [],
   "source": [
    "mails_df['label'] = pd.Series(labels)\n",
    "new_df = mails_df.loc[:, ['id', 'subject', 'label', 'labels']]\n",
    "new_df.reset_index(inplace=True)\n",
    "new_df.sort_values(by=['label', 'index'], inplace=True)\n",
    "new_df"
   ],
   "metadata": {
    "collapsed": false,
    "ExecuteTime": {
     "start_time": "2023-03-31T20:56:20.279386Z",
     "end_time": "2023-03-31T20:56:20.314012Z"
    }
   }
  },
  {
   "cell_type": "code",
   "execution_count": null,
   "outputs": [],
   "source": [
    "new_df.loc[new_df['label'] == 1]"
   ],
   "metadata": {
    "collapsed": false,
    "ExecuteTime": {
     "start_time": "2023-03-31T20:56:20.306478Z",
     "end_time": "2023-03-31T20:56:20.339806Z"
    }
   }
  },
  {
   "cell_type": "code",
   "execution_count": 75,
   "outputs": [
    {
     "name": "stdout",
     "output_type": "stream",
     "text": [
      "                  7\n",
      "commercial        5\n",
      "commercial,OTP    3\n",
      "Name: label_list, dtype: int64\n",
      "\n",
      "                                     64\n",
      "Techincal Clubs                      15\n",
      "Club Recruitments,Techincal Clubs    14\n",
      "hackathons                            3\n",
      "Club Recruitments                     2\n",
      "IMP,Techincal Clubs                   1\n",
      "IMP                                   1\n",
      "Name: label_list, dtype: int64\n",
      "\n",
      "AAO info    34\n",
      "AAO          1\n",
      "Name: label_list, dtype: int64\n",
      "\n",
      "academics,ETE                9\n",
      "MTE,academics                9\n",
      "Class materials,academics    8\n",
      "Quiz,academics               7\n",
      "MTE,academics,ETE            3\n",
      "Quiz                         2\n",
      "ETE                          1\n",
      "MTE                          1\n",
      "MTE,Quiz,academics           1\n",
      "Class materials              1\n",
      "Name: label_list, dtype: int64\n",
      "\n",
      "                       43\n",
      "bhawan notifs           3\n",
      "bhawan notifs,IMP       2\n",
      "jobs and internship     2\n",
      "ETE                     1\n",
      "Name: label_list, dtype: int64\n",
      "\n",
      "                       72\n",
      "bhawan notifs           4\n",
      "jobs and internship     3\n",
      "IMP                     2\n",
      "Name: label_list, dtype: int64\n",
      "\n",
      "quarantined    20\n",
      "                2\n",
      "Name: label_list, dtype: int64\n",
      "\n",
      "AAO                        12\n",
      "AAO,IMP                     8\n",
      "jobs and internship,AAO     1\n",
      "AAO,academics,ETE           1\n",
      "Name: label_list, dtype: int64\n",
      "\n",
      "                             72\n",
      "Class materials,academics     8\n",
      "Guest Lectures                5\n",
      "academics,ETE                 4\n",
      "academics                     2\n",
      "MTE,academics                 2\n",
      "MTE,academics,ETE             1\n",
      "Class materials               1\n",
      "Name: label_list, dtype: int64\n",
      "\n",
      "                              17\n",
      "Club Recruitments              9\n",
      "cultural                       3\n",
      "cultural,Club Recruitments     3\n",
      "bhawan notifs                  1\n",
      "Name: label_list, dtype: int64\n",
      "\n",
      "                         57\n",
      "treks                    16\n",
      "jobs and internship       2\n",
      "Club Recruitments,IMP     1\n",
      "hackathons                1\n",
      "IMP                       1\n",
      "Name: label_list, dtype: int64\n",
      "\n",
      "                           118\n",
      "jobs and internship          6\n",
      "institute updates            3\n",
      "academics,ETE                3\n",
      "SCSP                         2\n",
      "IMP                          2\n",
      "AAO,IMP                      2\n",
      "Guest Lectures               1\n",
      "hackathons                   1\n",
      "quarantined                  1\n",
      "jobs and internship,IMP      1\n",
      "Name: label_list, dtype: int64\n",
      "\n",
      "    19\n",
      "Name: label_list, dtype: int64\n",
      "\n",
      "    20\n",
      "Name: label_list, dtype: int64\n",
      "\n",
      "                     15\n",
      "bhawan notifs         2\n",
      "cultural              1\n",
      "Club Recruitments     1\n",
      "Name: label_list, dtype: int64\n",
      "\n",
      "academics,ETE        4\n",
      "Quiz,academics       4\n",
      "Quiz                 4\n",
      "                     3\n",
      "MTE,academics        3\n",
      "MTE,academics,ETE    1\n",
      "MTE,Quiz             1\n",
      "MTE                  1\n",
      "Name: label_list, dtype: int64\n",
      "\n",
      "                     27\n",
      "Club Recruitments     1\n",
      "Name: label_list, dtype: int64\n",
      "\n",
      "    27\n",
      "Name: label_list, dtype: int64\n",
      "\n",
      "                         10\n",
      "AAO                       4\n",
      "AAO,MTE,academics         4\n",
      "IMP                       1\n",
      "academics,ETE             1\n",
      "AAO,academics,ETE         1\n",
      "AAO,academics,ETE,IMP     1\n",
      "Name: label_list, dtype: int64\n",
      "\n",
      "                       34\n",
      "bhawan notifs           2\n",
      "jobs and internship     2\n",
      "Name: label_list, dtype: int64\n",
      "\n",
      "                                  29\n",
      "hackathons                         2\n",
      "jobs and internship,hackathons     2\n",
      "Name: label_list, dtype: int64\n",
      "\n",
      "                       16\n",
      "Club Recruitments       1\n",
      "jobs and internship     1\n",
      "IMP                     1\n",
      "Name: label_list, dtype: int64\n",
      "\n",
      "academics            9\n",
      "                     4\n",
      "academics,ETE        2\n",
      "MTE,academics,ETE    1\n",
      "MTE,academics        1\n",
      "AAO,MTE,academics    1\n",
      "Name: label_list, dtype: int64\n",
      "\n",
      "academics            11\n",
      "MTE,academics         4\n",
      "academics,IMP         2\n",
      "ETE                   1\n",
      "academics,ETE         1\n",
      "MTE,academics,ETE     1\n",
      "Name: label_list, dtype: int64\n",
      "\n",
      "                                     160\n",
      "jobs and internship                   18\n",
      "IMP                                    8\n",
      "Techincal Clubs                        3\n",
      "academics,IMP                          3\n",
      "academics,ETE                          3\n",
      "OTP                                    2\n",
      "Club Recruitments,Techincal Clubs      1\n",
      "MTE,academics                          1\n",
      "bhawan notifs                          1\n",
      "Name: label_list, dtype: int64\n",
      "\n"
     ]
    }
   ],
   "source": [
    "def write_label_names(label_id_series: pd.Series, exc_list=[]) -> pd.Series:\n",
    "    \"\"\"\n",
    "    :param exc_list: a list of label_ids among the default ones which are required\n",
    "    will convert comma separated label_ids into label_names for a series of strings\n",
    "    \"\"\"\n",
    "    labels_dict = all_labels\n",
    "\n",
    "    def label_filter(label_id_st):\n",
    "        label_names = []\n",
    "        for label_id in label_id_st:\n",
    "            if label_id == labels_dict[label_id] and label_id not in exc_list:\n",
    "                label_id_st.remove(label_id)\n",
    "            else:\n",
    "                label_names.append(labels_dict[label_id])\n",
    "\n",
    "        return ','.join(label_names)\n",
    "\n",
    "    return label_id_series.str.split(',').apply(label_filter)\n",
    "\n",
    "\n",
    "new_df['label_list'] = write_label_names(new_df['labels'])\n",
    "for i in range(25):\n",
    "    print(new_df.loc[new_df['label'] == i].label_list.value_counts())\n",
    "    print()"
   ],
   "metadata": {
    "collapsed": false,
    "ExecuteTime": {
     "start_time": "2023-03-31T20:56:20.349084Z",
     "end_time": "2023-03-31T20:56:20.494200Z"
    }
   }
  },
  {
   "cell_type": "markdown",
   "source": [
    "It can be clearly inferred from the last outputs that the clustering is certainly giving satisfactory results but"
   ],
   "metadata": {
    "collapsed": false
   }
  }
 ],
 "metadata": {
  "kernelspec": {
   "display_name": "Python 3",
   "language": "python",
   "name": "python3"
  },
  "language_info": {
   "codemirror_mode": {
    "name": "ipython",
    "version": 2
   },
   "file_extension": ".py",
   "mimetype": "text/x-python",
   "name": "python",
   "nbconvert_exporter": "python",
   "pygments_lexer": "ipython2",
   "version": "2.7.6"
  }
 },
 "nbformat": 4,
 "nbformat_minor": 0
}
