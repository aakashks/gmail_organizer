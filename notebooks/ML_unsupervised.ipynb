{
 "cells": [
  {
   "cell_type": "markdown",
   "source": [
    "I was unable to find any large dataset which contained user emails of the type I wanted.\n",
    "Fitting any clustering algorithm on this dataset was producing satisfactory but not good results\n",
    "hence, I discarded the idea.\n",
    "however this notebook still contains much of the work which I tried."
   ],
   "metadata": {
    "collapsed": false
   }
  },
  {
   "cell_type": "code",
   "execution_count": 53,
   "metadata": {
    "collapsed": true
   },
   "outputs": [
    {
     "data": {
      "text/plain": "                 id                                 sender  \\\n0  1871339da28c50be                  cognizance@iitr.ac.in   \n1  187129b4701da92f                        dosw@iitr.ac.in   \n2  1871298cfa0ea9df                        dosw@iitr.ac.in   \n3  1871203b08c898ff                 gensec.cult@iitr.ac.in   \n4  18711da44ef7c918                         ccf@iitr.ac.in   \n5  1870f51bfecd3538                channeli.img@iitr.ac.in   \n6  1870e6c71fa0bdf1                arcurriculum@iitr.ac.in   \n7  1870e5349df7bb1a               gensec-sports@iitr.ac.in   \n8  1870e4e0a1a6dba6  adoswsa@iitr.ac.in,adoswsa@iitr.ac.in   \n9  1870d5ca067eaaab            gensec.technical@iitr.ac.in   \n\n                                            receiver  \\\n0  students-notices@iitr.ac.in,staff-notices@iitr...   \n1                        students-notices@iitr.ac.in   \n2                        students-notices@iitr.ac.in   \n3                        students-notices@iitr.ac.in   \n4  students-notices@iitr.ac.in,staff-notices@iitr...   \n5                           aakash_ks@mfs.iitr.ac.in   \n6  faculty-notices@iitr.ac.in,students-notices@ii...   \n7                        students-notices@iitr.ac.in   \n8  students-notices@iitr.ac.in,students-notices@i...   \n9                             ug-1st-year@iitr.ac.in   \n\n                                             subject  \\\n0  Cognizance 2023 is Live Now - Join the Excitem...   \n1  Opportunity to the Researchers to write techni...   \n2  Advisory to reach your Bhawan by 1 am on March...   \n3  Annual Art Exhibition - \"दर्पण\" | Fine Arts | ...   \n4  CCF stall with fun games and merchandise in AB...   \n5                             IMG Recruitments, 2023   \n6                   Mar 24, 2023 as Non Teaching Day   \n7         Schedule for Annual Athletics Meet 2022-23   \n8  Fwd: Invitation to participate in Model G20 In...   \n9                              MaRS Recruitment Test   \n\n                                                body  \\\n0  Greetings everyone,We are excited to announce ...   \n1  Dear Students, Following is the link to the ab...   \n2  Dear Students, As you are aware, there are man...   \n3  Greetings!Fine Arts Section, IIT Roorkee is re...   \n4  Dear Campus CommunityCommittee for Campus Faun...   \n5  Hi Aakash Kumar Singh, As the recruitment seas...   \n6  All Faculty Members and Students, It is to rem...   \n7  Dear All, We are glad to inform you that Insti...   \n8  Dear Students, IIT Hyderabad is organizing ess...   \n9  Hey freshers! Hope you all attended the recrui...   \n\n                                              labels  \n0           UNREAD,IMPORTANT,CATEGORY_PERSONAL,INBOX  \n1                  IMPORTANT,CATEGORY_PERSONAL,INBOX  \n2   UNREAD,IMPORTANT,Label_9,CATEGORY_PERSONAL,INBOX  \n3          IMPORTANT,Label_7,CATEGORY_PERSONAL,INBOX  \n4           UNREAD,IMPORTANT,CATEGORY_PERSONAL,INBOX  \n5  IMPORTANT,Label_11,CATEGORY_UPDATES,INBOX,Labe...  \n6  Label_16,IMPORTANT,CATEGORY_PERSONAL,INBOX,Lab...  \n7                  IMPORTANT,CATEGORY_PERSONAL,INBOX  \n8           UNREAD,IMPORTANT,CATEGORY_PERSONAL,INBOX  \n9  UNREAD,IMPORTANT,Label_11,CATEGORY_PERSONAL,IN...  ",
      "text/html": "<div>\n<style scoped>\n    .dataframe tbody tr th:only-of-type {\n        vertical-align: middle;\n    }\n\n    .dataframe tbody tr th {\n        vertical-align: top;\n    }\n\n    .dataframe thead th {\n        text-align: right;\n    }\n</style>\n<table border=\"1\" class=\"dataframe\">\n  <thead>\n    <tr style=\"text-align: right;\">\n      <th></th>\n      <th>id</th>\n      <th>sender</th>\n      <th>receiver</th>\n      <th>subject</th>\n      <th>body</th>\n      <th>labels</th>\n    </tr>\n  </thead>\n  <tbody>\n    <tr>\n      <th>0</th>\n      <td>1871339da28c50be</td>\n      <td>cognizance@iitr.ac.in</td>\n      <td>students-notices@iitr.ac.in,staff-notices@iitr...</td>\n      <td>Cognizance 2023 is Live Now - Join the Excitem...</td>\n      <td>Greetings everyone,We are excited to announce ...</td>\n      <td>UNREAD,IMPORTANT,CATEGORY_PERSONAL,INBOX</td>\n    </tr>\n    <tr>\n      <th>1</th>\n      <td>187129b4701da92f</td>\n      <td>dosw@iitr.ac.in</td>\n      <td>students-notices@iitr.ac.in</td>\n      <td>Opportunity to the Researchers to write techni...</td>\n      <td>Dear Students, Following is the link to the ab...</td>\n      <td>IMPORTANT,CATEGORY_PERSONAL,INBOX</td>\n    </tr>\n    <tr>\n      <th>2</th>\n      <td>1871298cfa0ea9df</td>\n      <td>dosw@iitr.ac.in</td>\n      <td>students-notices@iitr.ac.in</td>\n      <td>Advisory to reach your Bhawan by 1 am on March...</td>\n      <td>Dear Students, As you are aware, there are man...</td>\n      <td>UNREAD,IMPORTANT,Label_9,CATEGORY_PERSONAL,INBOX</td>\n    </tr>\n    <tr>\n      <th>3</th>\n      <td>1871203b08c898ff</td>\n      <td>gensec.cult@iitr.ac.in</td>\n      <td>students-notices@iitr.ac.in</td>\n      <td>Annual Art Exhibition - \"दर्पण\" | Fine Arts | ...</td>\n      <td>Greetings!Fine Arts Section, IIT Roorkee is re...</td>\n      <td>IMPORTANT,Label_7,CATEGORY_PERSONAL,INBOX</td>\n    </tr>\n    <tr>\n      <th>4</th>\n      <td>18711da44ef7c918</td>\n      <td>ccf@iitr.ac.in</td>\n      <td>students-notices@iitr.ac.in,staff-notices@iitr...</td>\n      <td>CCF stall with fun games and merchandise in AB...</td>\n      <td>Dear Campus CommunityCommittee for Campus Faun...</td>\n      <td>UNREAD,IMPORTANT,CATEGORY_PERSONAL,INBOX</td>\n    </tr>\n    <tr>\n      <th>5</th>\n      <td>1870f51bfecd3538</td>\n      <td>channeli.img@iitr.ac.in</td>\n      <td>aakash_ks@mfs.iitr.ac.in</td>\n      <td>IMG Recruitments, 2023</td>\n      <td>Hi Aakash Kumar Singh, As the recruitment seas...</td>\n      <td>IMPORTANT,Label_11,CATEGORY_UPDATES,INBOX,Labe...</td>\n    </tr>\n    <tr>\n      <th>6</th>\n      <td>1870e6c71fa0bdf1</td>\n      <td>arcurriculum@iitr.ac.in</td>\n      <td>faculty-notices@iitr.ac.in,students-notices@ii...</td>\n      <td>Mar 24, 2023 as Non Teaching Day</td>\n      <td>All Faculty Members and Students, It is to rem...</td>\n      <td>Label_16,IMPORTANT,CATEGORY_PERSONAL,INBOX,Lab...</td>\n    </tr>\n    <tr>\n      <th>7</th>\n      <td>1870e5349df7bb1a</td>\n      <td>gensec-sports@iitr.ac.in</td>\n      <td>students-notices@iitr.ac.in</td>\n      <td>Schedule for Annual Athletics Meet 2022-23</td>\n      <td>Dear All, We are glad to inform you that Insti...</td>\n      <td>IMPORTANT,CATEGORY_PERSONAL,INBOX</td>\n    </tr>\n    <tr>\n      <th>8</th>\n      <td>1870e4e0a1a6dba6</td>\n      <td>adoswsa@iitr.ac.in,adoswsa@iitr.ac.in</td>\n      <td>students-notices@iitr.ac.in,students-notices@i...</td>\n      <td>Fwd: Invitation to participate in Model G20 In...</td>\n      <td>Dear Students, IIT Hyderabad is organizing ess...</td>\n      <td>UNREAD,IMPORTANT,CATEGORY_PERSONAL,INBOX</td>\n    </tr>\n    <tr>\n      <th>9</th>\n      <td>1870d5ca067eaaab</td>\n      <td>gensec.technical@iitr.ac.in</td>\n      <td>ug-1st-year@iitr.ac.in</td>\n      <td>MaRS Recruitment Test</td>\n      <td>Hey freshers! Hope you all attended the recrui...</td>\n      <td>UNREAD,IMPORTANT,Label_11,CATEGORY_PERSONAL,IN...</td>\n    </tr>\n  </tbody>\n</table>\n</div>"
     },
     "execution_count": 53,
     "metadata": {},
     "output_type": "execute_result"
    }
   ],
   "source": [
    "import re\n",
    "\n",
    "import joblib\n",
    "import pandas as pd\n",
    "from sklearn.impute import SimpleImputer\n",
    "import dill\n",
    "\n",
    "mails_df = pd.read_csv(\"../data/training_data.csv\", sep='~', index_col=0)\n",
    "imputer = SimpleImputer(strategy='constant', fill_value='')\n",
    "mails_df = pd.DataFrame(imputer.fit_transform(mails_df), columns=mails_df.columns)\n",
    "mails_df.iloc[:10]"
   ]
  },
  {
   "cell_type": "code",
   "execution_count": 54,
   "outputs": [],
   "source": [
    "from sklearn.pipeline import Pipeline\n",
    "from sklearn.feature_extraction.text import TfidfVectorizer\n",
    "from sklearn.decomposition import TruncatedSVD\n",
    "from sklearn.compose import ColumnTransformer\n",
    "from nltk.corpus import wordnet, stopwords\n",
    "from nltk.stem import WordNetLemmatizer\n",
    "import re\n",
    "\n",
    "stop_words = set(stopwords.words('english'))\n",
    "\n",
    "lemmatizer = WordNetLemmatizer()"
   ],
   "metadata": {
    "collapsed": false
   }
  },
  {
   "cell_type": "code",
   "execution_count": 55,
   "outputs": [],
   "source": [
    "def preprocess_text(text):\n",
    "    text = text.lower()\n",
    "    text = re.sub('[^a-zA-Z]', ' ', text)\n",
    "    tokens = text.split()\n",
    "    tokens = [token for token in tokens if token not in stop_words]\n",
    "    processed_text = ' '.join([lemmatizer.lemmatize(token) for token in tokens])\n",
    "    return processed_text\n",
    "\n",
    "\n",
    "def preprocess_sender(address):\n",
    "    address = address.lower()\n",
    "    address = re.sub('[.]ac[.]in|[.]com', '', address)\n",
    "    address = re.sub('@|[.]', ' ', address)\n",
    "    return address\n",
    "\n",
    "subject_tfidf = TfidfVectorizer(preprocessor=preprocess_text, min_df=0.01)\n",
    "body_tfidf = TfidfVectorizer(preprocessor=preprocess_text, max_df=0.8, min_df=0.05)\n",
    "sender_tfidf = TfidfVectorizer(preprocessor=preprocess_sender)\n",
    "\n",
    "subject_vectors = subject_tfidf.fit_transform(mails_df['subject'])\n",
    "body_vectors = body_tfidf.fit_transform(mails_df['body'])\n",
    "sender_vectors = sender_tfidf.fit_transform(mails_df['sender'])"
   ],
   "metadata": {
    "collapsed": false
   }
  },
  {
   "cell_type": "code",
   "execution_count": 56,
   "outputs": [],
   "source": [
    "from scipy.sparse import hstack\n",
    "\n",
    "feature_matrix = hstack((subject_vectors, body_vectors, sender_vectors))"
   ],
   "metadata": {
    "collapsed": false
   }
  },
  {
   "cell_type": "code",
   "execution_count": 57,
   "outputs": [
    {
     "data": {
      "text/plain": "scipy.sparse._csr.csr_matrix"
     },
     "execution_count": 57,
     "metadata": {},
     "output_type": "execute_result"
    }
   ],
   "source": [
    "type(feature_matrix)"
   ],
   "metadata": {
    "collapsed": false
   }
  },
  {
   "cell_type": "code",
   "execution_count": 58,
   "outputs": [
    {
     "data": {
      "text/plain": "'hello cs iitr'"
     },
     "execution_count": 58,
     "metadata": {},
     "output_type": "execute_result"
    }
   ],
   "source": [
    "preprocess_sender('hello@cs.iitr.ac.in')"
   ],
   "metadata": {
    "collapsed": false
   }
  },
  {
   "cell_type": "code",
   "execution_count": 59,
   "outputs": [
    {
     "name": "stderr",
     "output_type": "stream",
     "text": [
      "C:\\Users\\msing\\.conda\\envs\\gmail_organizer\\lib\\site-packages\\sklearn\\preprocessing\\_label.py:895: UserWarning: unknown class(es) ['CATEGORY_FORUMS', 'CATEGORY_PERSONAL', 'CATEGORY_PROMOTIONS', 'CATEGORY_UPDATES', 'IMPORTANT', 'INBOX', 'SENT', 'STARRED', 'UNREAD'] will be ignored\n",
      "  warnings.warn(\n"
     ]
    }
   ],
   "source": [
    "from sklearn.preprocessing import MultiLabelBinarizer\n",
    "import json\n",
    "\n",
    "with open('../data/label_dict.json', 'r') as file:\n",
    "    all_labels = json.load(file)\n",
    "label_list = [key for key in all_labels.keys() if re.match('Label_[0-9]', key)]\n",
    "mlb = MultiLabelBinarizer(classes=label_list)\n",
    "labels_array = [list(st.split(',')) for st in mails_df['labels']]\n",
    "mlb.fit(label_list)\n",
    "labels = mlb.transform(labels_array)"
   ],
   "metadata": {
    "collapsed": false
   }
  },
  {
   "cell_type": "code",
   "execution_count": 60,
   "outputs": [
    {
     "name": "stdout",
     "output_type": "stream",
     "text": [
      "(1198, 601) (1198, 21)\n"
     ]
    }
   ],
   "source": [
    "X = feature_matrix\n",
    "y = labels\n",
    "print(X.shape, y.shape)"
   ],
   "metadata": {
    "collapsed": false
   }
  },
  {
   "cell_type": "code",
   "execution_count": 61,
   "outputs": [
    {
     "name": "stderr",
     "output_type": "stream",
     "text": [
      "C:\\Users\\msing\\.conda\\envs\\gmail_organizer\\lib\\site-packages\\sklearn\\cluster\\_kmeans.py:1382: UserWarning: KMeans is known to have a memory leak on Windows with MKL, when there are less chunks than available threads. You can avoid it by setting the environment variable OMP_NUM_THREADS=5.\n",
      "  warnings.warn(\n"
     ]
    },
    {
     "data": {
      "text/plain": "array([2, 1, 1, ..., 9, 4, 2])"
     },
     "execution_count": 61,
     "metadata": {},
     "output_type": "execute_result"
    }
   ],
   "source": [
    "from sklearn.cluster import KMeans\n",
    "\n",
    "k = 25\n",
    "model =  KMeans(n_clusters=25, n_init=10, random_state=42)\n",
    "labels = model.fit_predict(X.toarray())\n",
    "labels"
   ],
   "metadata": {
    "collapsed": false
   }
  },
  {
   "cell_type": "code",
   "execution_count": 62,
   "outputs": [],
   "source": [
    "mails_df['label'] = pd.Series(labels)"
   ],
   "metadata": {
    "collapsed": false
   }
  },
  {
   "cell_type": "code",
   "execution_count": 63,
   "outputs": [],
   "source": [
    "new_df = mails_df.loc[:,['id', 'subject', 'label', 'labels']]"
   ],
   "metadata": {
    "collapsed": false
   }
  },
  {
   "cell_type": "markdown",
   "source": [
    "vectorizers = [sender_tfidf, body_tfidf, subject_tfidf]\n",
    "dill.dump(vectorizers, open('../data/TfidfVectorizers.pkl', 'wb'))"
   ],
   "metadata": {
    "collapsed": false
   }
  },
  {
   "cell_type": "markdown",
   "source": [
    "vectorizers = dill.load(open('../data/TfidfVectorizers.pkl', 'rb'))"
   ],
   "metadata": {
    "collapsed": false
   }
  },
  {
   "cell_type": "code",
   "execution_count": 64,
   "outputs": [],
   "source": [
    "new_df.reset_index(inplace=True)"
   ],
   "metadata": {
    "collapsed": false
   }
  },
  {
   "cell_type": "code",
   "execution_count": 65,
   "outputs": [],
   "source": [
    "new_df.sort_values(by=['label', 'index'], inplace=True)"
   ],
   "metadata": {
    "collapsed": false
   }
  },
  {
   "cell_type": "code",
   "execution_count": 66,
   "outputs": [
    {
     "data": {
      "text/plain": "      index                id  \\\n22       22  187086bb3af1c52c   \n27       27  18704fc4cb05d93b   \n35       35  187004d1cf48b154   \n145     145  186c9fbfb4a3dc86   \n151     151  186c69fd4b1790f3   \n...     ...               ...   \n882     882  185297f775d3a74b   \n912     912  18504d41be051997   \n929     929  184f0919ce041cc4   \n1025   1025  184ae28ce9b7326e   \n1056   1056  18498dfeb2e58c19   \n\n                                                subject  label  \\\n22    Resurgence to Sanskrit: Vedic Texts to Virtual...      0   \n27    Resurgence to Sanskrit: Vedic Texts to Virtual...      0   \n35                               Slides of lecture 1-10      0   \n145   Reminder of today's IPA DAE - C. V. Raman Lecture      0   \n151                               Slides of lecture 1-3      0   \n...                                                 ...    ...   \n882   Notice : Appointment of Deputy Director as Cha...     24   \n912                 OM : Appointment of Deputy Director     24   \n929   OM : Appointment of Faculty Coordinator, Cogni...     24   \n1025  Notice : Constitution of committee to coordina...     24   \n1056              OM : Extension of tenure of Head, ICC     24   \n\n                                                 labels  \n22    UNREAD,IMPORTANT,Label_10,CATEGORY_PERSONAL,INBOX  \n27    UNREAD,IMPORTANT,Label_10,CATEGORY_PERSONAL,INBOX  \n35             UNREAD,IMPORTANT,CATEGORY_PERSONAL,INBOX  \n145                   IMPORTANT,CATEGORY_PERSONAL,INBOX  \n151                   IMPORTANT,CATEGORY_PERSONAL,INBOX  \n...                                                 ...  \n882                         IMPORTANT,CATEGORY_PERSONAL  \n912                         IMPORTANT,CATEGORY_PERSONAL  \n929                         IMPORTANT,CATEGORY_PERSONAL  \n1025                        IMPORTANT,CATEGORY_PERSONAL  \n1056                        IMPORTANT,CATEGORY_PERSONAL  \n\n[1198 rows x 5 columns]",
      "text/html": "<div>\n<style scoped>\n    .dataframe tbody tr th:only-of-type {\n        vertical-align: middle;\n    }\n\n    .dataframe tbody tr th {\n        vertical-align: top;\n    }\n\n    .dataframe thead th {\n        text-align: right;\n    }\n</style>\n<table border=\"1\" class=\"dataframe\">\n  <thead>\n    <tr style=\"text-align: right;\">\n      <th></th>\n      <th>index</th>\n      <th>id</th>\n      <th>subject</th>\n      <th>label</th>\n      <th>labels</th>\n    </tr>\n  </thead>\n  <tbody>\n    <tr>\n      <th>22</th>\n      <td>22</td>\n      <td>187086bb3af1c52c</td>\n      <td>Resurgence to Sanskrit: Vedic Texts to Virtual...</td>\n      <td>0</td>\n      <td>UNREAD,IMPORTANT,Label_10,CATEGORY_PERSONAL,INBOX</td>\n    </tr>\n    <tr>\n      <th>27</th>\n      <td>27</td>\n      <td>18704fc4cb05d93b</td>\n      <td>Resurgence to Sanskrit: Vedic Texts to Virtual...</td>\n      <td>0</td>\n      <td>UNREAD,IMPORTANT,Label_10,CATEGORY_PERSONAL,INBOX</td>\n    </tr>\n    <tr>\n      <th>35</th>\n      <td>35</td>\n      <td>187004d1cf48b154</td>\n      <td>Slides of lecture 1-10</td>\n      <td>0</td>\n      <td>UNREAD,IMPORTANT,CATEGORY_PERSONAL,INBOX</td>\n    </tr>\n    <tr>\n      <th>145</th>\n      <td>145</td>\n      <td>186c9fbfb4a3dc86</td>\n      <td>Reminder of today's IPA DAE - C. V. Raman Lecture</td>\n      <td>0</td>\n      <td>IMPORTANT,CATEGORY_PERSONAL,INBOX</td>\n    </tr>\n    <tr>\n      <th>151</th>\n      <td>151</td>\n      <td>186c69fd4b1790f3</td>\n      <td>Slides of lecture 1-3</td>\n      <td>0</td>\n      <td>IMPORTANT,CATEGORY_PERSONAL,INBOX</td>\n    </tr>\n    <tr>\n      <th>...</th>\n      <td>...</td>\n      <td>...</td>\n      <td>...</td>\n      <td>...</td>\n      <td>...</td>\n    </tr>\n    <tr>\n      <th>882</th>\n      <td>882</td>\n      <td>185297f775d3a74b</td>\n      <td>Notice : Appointment of Deputy Director as Cha...</td>\n      <td>24</td>\n      <td>IMPORTANT,CATEGORY_PERSONAL</td>\n    </tr>\n    <tr>\n      <th>912</th>\n      <td>912</td>\n      <td>18504d41be051997</td>\n      <td>OM : Appointment of Deputy Director</td>\n      <td>24</td>\n      <td>IMPORTANT,CATEGORY_PERSONAL</td>\n    </tr>\n    <tr>\n      <th>929</th>\n      <td>929</td>\n      <td>184f0919ce041cc4</td>\n      <td>OM : Appointment of Faculty Coordinator, Cogni...</td>\n      <td>24</td>\n      <td>IMPORTANT,CATEGORY_PERSONAL</td>\n    </tr>\n    <tr>\n      <th>1025</th>\n      <td>1025</td>\n      <td>184ae28ce9b7326e</td>\n      <td>Notice : Constitution of committee to coordina...</td>\n      <td>24</td>\n      <td>IMPORTANT,CATEGORY_PERSONAL</td>\n    </tr>\n    <tr>\n      <th>1056</th>\n      <td>1056</td>\n      <td>18498dfeb2e58c19</td>\n      <td>OM : Extension of tenure of Head, ICC</td>\n      <td>24</td>\n      <td>IMPORTANT,CATEGORY_PERSONAL</td>\n    </tr>\n  </tbody>\n</table>\n<p>1198 rows × 5 columns</p>\n</div>"
     },
     "execution_count": 66,
     "metadata": {},
     "output_type": "execute_result"
    }
   ],
   "source": [
    "new_df"
   ],
   "metadata": {
    "collapsed": false
   }
  },
  {
   "cell_type": "code",
   "execution_count": 67,
   "outputs": [
    {
     "data": {
      "text/plain": "      index                id  \\\n1         1  187129b4701da92f   \n2         2  1871298cfa0ea9df   \n46       46  186fdde2a7d2e208   \n231     231  18697135f15f7871   \n254     254  18687746df7c1100   \n295     295  1866d044e1710be8   \n343     343  186504366246911e   \n350     350  1864eb41b02e1423   \n355     355  1864a59e909162d1   \n494     494  186031dba0e427a5   \n495     495  1860315fa78b697d   \n560     560  185e2a8f43f388b1   \n568     568  185de4d7ebf70f5e   \n596     596  185cf731d14e2589   \n601     601  185cd06755855da1   \n610     610  185ca2e3857ad9ec   \n630     630  185c01dc4f28866d   \n655     655  185b9f2e077ff6ee   \n732     732  1859aa739ddd1836   \n794     794  1856b9b09fb64d2b   \n836     836  1854cf32ba6385f1   \n849     849  1853da8fff1111d9   \n894     894  1851529ece271460   \n904     904  1850b6f2b214a447   \n909     909  18505d38e3e5b992   \n926     926  184f182f5e72b578   \n971     971  184cead1b4f0f56e   \n973     973  184cd841d7ac6e28   \n986     986  184c2ee9ecac71ba   \n1039   1039  184a43ffdabf86ab   \n1052   1052  1849a95527218a25   \n1057   1057  1849800d2eabb137   \n1082   1082  18480934391ef4c9   \n1087   1087  1847ff473c1df663   \n1095   1095  1847a249de81a587   \n1102   1102  18475e22fa8820ca   \n1143   1143  1845feb9cd733749   \n1170   1170  184558cc76a547cf   \n\n                                                subject  label  \\\n1     Opportunity to the Researchers to write techni...      1   \n2     Advisory to reach your Bhawan by 1 am on March...      1   \n46    Internship for UG and PG Students at Summer Sc...      1   \n231   Invitation for Technical Festival, NIMBUS-2023...      1   \n254              Invitation to participate in G-20 Quiz      1   \n295   Financial support for Siddharth's family who p...      1   \n343   Financial support for Siddharth's family who p...      1   \n350   APPEAL TO STUDENTS - DONATION FOR THE JOSHIMAT...      1   \n355                             Sad demise of a student      1   \n494   Re: OM: Appointment of Dean of International R...      1   \n495   Re: OM: Appointment of Dean of International R...      1   \n560   Advertisement for participation in SERB, DST s...      1   \n568   AICTE Outcome Based Education Engineering Book...      1   \n596                             Dare to Dream 4 Contest      1   \n601      Re: Compulsory to participate in NSO/ NCC /NSS      1   \n610          Compulsory to participate in NSO/ NCC /NSS      1   \n630              Road Safety Pledgee I सड़क सुरक्षा शपथ      1   \n655   Paper Contest on STRUCTURAL & PASSIVE FIRE PRO...      1   \n732   Mission to mentor 10000 Girls in STEM - Kalpan...      1   \n794                                  Happy new year2023      1   \n836   Offer for interns or dissertation programs (Ma...      1   \n849                Follow COVID-19 Appropriate Behavior      1   \n894                        Khorana program for scholars      1   \n904   Opening ceremony of inter IIT Sports Meet 14th...      1   \n909   Fwd: SUB: Promotion of PM-YUVA Mentorship Sche...      1   \n926   Fwd: For the Greater Involvement of Universiti...      1   \n971   HDFC Bank is offering Lifetime Free credit car...      1   \n973             Convener of the Student Affairs Council      1   \n986   Fwd: Invitation to participate in Call for Ide...      1   \n1039  \"Vision for the Next 25 Years of IIT Roorkee\" ...      1   \n1052                  Fwd: DCAL | ASI - Upcoming Events      1   \n1057        Vision for the Next 25 Years of IIT Roorkee      1   \n1082  First Announcement and Call for Abstract for 8...      1   \n1087        Issuing of e-ID cards and e-Medical Booklet      1   \n1095  Solution for problem statement for Traceabilit...      1   \n1102  Celebration of Janajatiya Gaurav Diwas on 15th...      1   \n1143  Fwd: Expression of Interest for Inviting Ideas...      1   \n1170  Fwd: EXPLORE@IITM for SC/ST students in their ...      1   \n\n                                                 labels  \n1                     IMPORTANT,CATEGORY_PERSONAL,INBOX  \n2      UNREAD,IMPORTANT,Label_9,CATEGORY_PERSONAL,INBOX  \n46    Label_3281058460844688860,UNREAD,IMPORTANT,CAT...  \n231            UNREAD,IMPORTANT,CATEGORY_PERSONAL,INBOX  \n254                  UNREAD,IMPORTANT,CATEGORY_PERSONAL  \n295                   IMPORTANT,CATEGORY_PERSONAL,INBOX  \n343                   IMPORTANT,CATEGORY_PERSONAL,INBOX  \n350                   IMPORTANT,CATEGORY_PERSONAL,INBOX  \n355                   IMPORTANT,CATEGORY_PERSONAL,INBOX  \n494                   IMPORTANT,CATEGORY_PERSONAL,INBOX  \n495                   IMPORTANT,CATEGORY_PERSONAL,INBOX  \n560                   IMPORTANT,CATEGORY_PERSONAL,INBOX  \n568                   IMPORTANT,CATEGORY_PERSONAL,INBOX  \n596                   IMPORTANT,CATEGORY_PERSONAL,INBOX  \n601           IMPORTANT,Label_9,CATEGORY_PERSONAL,INBOX  \n610   IMPORTANT,STARRED,Label_9,CATEGORY_PERSONAL,INBOX  \n630                         IMPORTANT,CATEGORY_PERSONAL  \n655                   IMPORTANT,CATEGORY_PERSONAL,INBOX  \n732                   IMPORTANT,CATEGORY_PERSONAL,INBOX  \n794                   IMPORTANT,CATEGORY_PERSONAL,INBOX  \n836   Label_3281058460844688860,IMPORTANT,CATEGORY_P...  \n849           IMPORTANT,Label_9,CATEGORY_PERSONAL,INBOX  \n894                   IMPORTANT,CATEGORY_PERSONAL,INBOX  \n904                         IMPORTANT,CATEGORY_PERSONAL  \n909                         IMPORTANT,CATEGORY_PERSONAL  \n926                   IMPORTANT,CATEGORY_PERSONAL,INBOX  \n971                         IMPORTANT,CATEGORY_PERSONAL  \n973                   IMPORTANT,CATEGORY_PERSONAL,INBOX  \n986                   IMPORTANT,CATEGORY_PERSONAL,INBOX  \n1039                  IMPORTANT,CATEGORY_PERSONAL,INBOX  \n1052                        IMPORTANT,CATEGORY_PERSONAL  \n1057                        IMPORTANT,CATEGORY_PERSONAL  \n1082                  IMPORTANT,CATEGORY_PERSONAL,INBOX  \n1087          IMPORTANT,Label_9,CATEGORY_PERSONAL,INBOX  \n1095                  IMPORTANT,CATEGORY_PERSONAL,INBOX  \n1102                  IMPORTANT,CATEGORY_PERSONAL,INBOX  \n1143                  IMPORTANT,CATEGORY_PERSONAL,INBOX  \n1170                  IMPORTANT,CATEGORY_PERSONAL,INBOX  ",
      "text/html": "<div>\n<style scoped>\n    .dataframe tbody tr th:only-of-type {\n        vertical-align: middle;\n    }\n\n    .dataframe tbody tr th {\n        vertical-align: top;\n    }\n\n    .dataframe thead th {\n        text-align: right;\n    }\n</style>\n<table border=\"1\" class=\"dataframe\">\n  <thead>\n    <tr style=\"text-align: right;\">\n      <th></th>\n      <th>index</th>\n      <th>id</th>\n      <th>subject</th>\n      <th>label</th>\n      <th>labels</th>\n    </tr>\n  </thead>\n  <tbody>\n    <tr>\n      <th>1</th>\n      <td>1</td>\n      <td>187129b4701da92f</td>\n      <td>Opportunity to the Researchers to write techni...</td>\n      <td>1</td>\n      <td>IMPORTANT,CATEGORY_PERSONAL,INBOX</td>\n    </tr>\n    <tr>\n      <th>2</th>\n      <td>2</td>\n      <td>1871298cfa0ea9df</td>\n      <td>Advisory to reach your Bhawan by 1 am on March...</td>\n      <td>1</td>\n      <td>UNREAD,IMPORTANT,Label_9,CATEGORY_PERSONAL,INBOX</td>\n    </tr>\n    <tr>\n      <th>46</th>\n      <td>46</td>\n      <td>186fdde2a7d2e208</td>\n      <td>Internship for UG and PG Students at Summer Sc...</td>\n      <td>1</td>\n      <td>Label_3281058460844688860,UNREAD,IMPORTANT,CAT...</td>\n    </tr>\n    <tr>\n      <th>231</th>\n      <td>231</td>\n      <td>18697135f15f7871</td>\n      <td>Invitation for Technical Festival, NIMBUS-2023...</td>\n      <td>1</td>\n      <td>UNREAD,IMPORTANT,CATEGORY_PERSONAL,INBOX</td>\n    </tr>\n    <tr>\n      <th>254</th>\n      <td>254</td>\n      <td>18687746df7c1100</td>\n      <td>Invitation to participate in G-20 Quiz</td>\n      <td>1</td>\n      <td>UNREAD,IMPORTANT,CATEGORY_PERSONAL</td>\n    </tr>\n    <tr>\n      <th>295</th>\n      <td>295</td>\n      <td>1866d044e1710be8</td>\n      <td>Financial support for Siddharth's family who p...</td>\n      <td>1</td>\n      <td>IMPORTANT,CATEGORY_PERSONAL,INBOX</td>\n    </tr>\n    <tr>\n      <th>343</th>\n      <td>343</td>\n      <td>186504366246911e</td>\n      <td>Financial support for Siddharth's family who p...</td>\n      <td>1</td>\n      <td>IMPORTANT,CATEGORY_PERSONAL,INBOX</td>\n    </tr>\n    <tr>\n      <th>350</th>\n      <td>350</td>\n      <td>1864eb41b02e1423</td>\n      <td>APPEAL TO STUDENTS - DONATION FOR THE JOSHIMAT...</td>\n      <td>1</td>\n      <td>IMPORTANT,CATEGORY_PERSONAL,INBOX</td>\n    </tr>\n    <tr>\n      <th>355</th>\n      <td>355</td>\n      <td>1864a59e909162d1</td>\n      <td>Sad demise of a student</td>\n      <td>1</td>\n      <td>IMPORTANT,CATEGORY_PERSONAL,INBOX</td>\n    </tr>\n    <tr>\n      <th>494</th>\n      <td>494</td>\n      <td>186031dba0e427a5</td>\n      <td>Re: OM: Appointment of Dean of International R...</td>\n      <td>1</td>\n      <td>IMPORTANT,CATEGORY_PERSONAL,INBOX</td>\n    </tr>\n    <tr>\n      <th>495</th>\n      <td>495</td>\n      <td>1860315fa78b697d</td>\n      <td>Re: OM: Appointment of Dean of International R...</td>\n      <td>1</td>\n      <td>IMPORTANT,CATEGORY_PERSONAL,INBOX</td>\n    </tr>\n    <tr>\n      <th>560</th>\n      <td>560</td>\n      <td>185e2a8f43f388b1</td>\n      <td>Advertisement for participation in SERB, DST s...</td>\n      <td>1</td>\n      <td>IMPORTANT,CATEGORY_PERSONAL,INBOX</td>\n    </tr>\n    <tr>\n      <th>568</th>\n      <td>568</td>\n      <td>185de4d7ebf70f5e</td>\n      <td>AICTE Outcome Based Education Engineering Book...</td>\n      <td>1</td>\n      <td>IMPORTANT,CATEGORY_PERSONAL,INBOX</td>\n    </tr>\n    <tr>\n      <th>596</th>\n      <td>596</td>\n      <td>185cf731d14e2589</td>\n      <td>Dare to Dream 4 Contest</td>\n      <td>1</td>\n      <td>IMPORTANT,CATEGORY_PERSONAL,INBOX</td>\n    </tr>\n    <tr>\n      <th>601</th>\n      <td>601</td>\n      <td>185cd06755855da1</td>\n      <td>Re: Compulsory to participate in NSO/ NCC /NSS</td>\n      <td>1</td>\n      <td>IMPORTANT,Label_9,CATEGORY_PERSONAL,INBOX</td>\n    </tr>\n    <tr>\n      <th>610</th>\n      <td>610</td>\n      <td>185ca2e3857ad9ec</td>\n      <td>Compulsory to participate in NSO/ NCC /NSS</td>\n      <td>1</td>\n      <td>IMPORTANT,STARRED,Label_9,CATEGORY_PERSONAL,INBOX</td>\n    </tr>\n    <tr>\n      <th>630</th>\n      <td>630</td>\n      <td>185c01dc4f28866d</td>\n      <td>Road Safety Pledgee I सड़क सुरक्षा शपथ</td>\n      <td>1</td>\n      <td>IMPORTANT,CATEGORY_PERSONAL</td>\n    </tr>\n    <tr>\n      <th>655</th>\n      <td>655</td>\n      <td>185b9f2e077ff6ee</td>\n      <td>Paper Contest on STRUCTURAL &amp; PASSIVE FIRE PRO...</td>\n      <td>1</td>\n      <td>IMPORTANT,CATEGORY_PERSONAL,INBOX</td>\n    </tr>\n    <tr>\n      <th>732</th>\n      <td>732</td>\n      <td>1859aa739ddd1836</td>\n      <td>Mission to mentor 10000 Girls in STEM - Kalpan...</td>\n      <td>1</td>\n      <td>IMPORTANT,CATEGORY_PERSONAL,INBOX</td>\n    </tr>\n    <tr>\n      <th>794</th>\n      <td>794</td>\n      <td>1856b9b09fb64d2b</td>\n      <td>Happy new year2023</td>\n      <td>1</td>\n      <td>IMPORTANT,CATEGORY_PERSONAL,INBOX</td>\n    </tr>\n    <tr>\n      <th>836</th>\n      <td>836</td>\n      <td>1854cf32ba6385f1</td>\n      <td>Offer for interns or dissertation programs (Ma...</td>\n      <td>1</td>\n      <td>Label_3281058460844688860,IMPORTANT,CATEGORY_P...</td>\n    </tr>\n    <tr>\n      <th>849</th>\n      <td>849</td>\n      <td>1853da8fff1111d9</td>\n      <td>Follow COVID-19 Appropriate Behavior</td>\n      <td>1</td>\n      <td>IMPORTANT,Label_9,CATEGORY_PERSONAL,INBOX</td>\n    </tr>\n    <tr>\n      <th>894</th>\n      <td>894</td>\n      <td>1851529ece271460</td>\n      <td>Khorana program for scholars</td>\n      <td>1</td>\n      <td>IMPORTANT,CATEGORY_PERSONAL,INBOX</td>\n    </tr>\n    <tr>\n      <th>904</th>\n      <td>904</td>\n      <td>1850b6f2b214a447</td>\n      <td>Opening ceremony of inter IIT Sports Meet 14th...</td>\n      <td>1</td>\n      <td>IMPORTANT,CATEGORY_PERSONAL</td>\n    </tr>\n    <tr>\n      <th>909</th>\n      <td>909</td>\n      <td>18505d38e3e5b992</td>\n      <td>Fwd: SUB: Promotion of PM-YUVA Mentorship Sche...</td>\n      <td>1</td>\n      <td>IMPORTANT,CATEGORY_PERSONAL</td>\n    </tr>\n    <tr>\n      <th>926</th>\n      <td>926</td>\n      <td>184f182f5e72b578</td>\n      <td>Fwd: For the Greater Involvement of Universiti...</td>\n      <td>1</td>\n      <td>IMPORTANT,CATEGORY_PERSONAL,INBOX</td>\n    </tr>\n    <tr>\n      <th>971</th>\n      <td>971</td>\n      <td>184cead1b4f0f56e</td>\n      <td>HDFC Bank is offering Lifetime Free credit car...</td>\n      <td>1</td>\n      <td>IMPORTANT,CATEGORY_PERSONAL</td>\n    </tr>\n    <tr>\n      <th>973</th>\n      <td>973</td>\n      <td>184cd841d7ac6e28</td>\n      <td>Convener of the Student Affairs Council</td>\n      <td>1</td>\n      <td>IMPORTANT,CATEGORY_PERSONAL,INBOX</td>\n    </tr>\n    <tr>\n      <th>986</th>\n      <td>986</td>\n      <td>184c2ee9ecac71ba</td>\n      <td>Fwd: Invitation to participate in Call for Ide...</td>\n      <td>1</td>\n      <td>IMPORTANT,CATEGORY_PERSONAL,INBOX</td>\n    </tr>\n    <tr>\n      <th>1039</th>\n      <td>1039</td>\n      <td>184a43ffdabf86ab</td>\n      <td>\"Vision for the Next 25 Years of IIT Roorkee\" ...</td>\n      <td>1</td>\n      <td>IMPORTANT,CATEGORY_PERSONAL,INBOX</td>\n    </tr>\n    <tr>\n      <th>1052</th>\n      <td>1052</td>\n      <td>1849a95527218a25</td>\n      <td>Fwd: DCAL | ASI - Upcoming Events</td>\n      <td>1</td>\n      <td>IMPORTANT,CATEGORY_PERSONAL</td>\n    </tr>\n    <tr>\n      <th>1057</th>\n      <td>1057</td>\n      <td>1849800d2eabb137</td>\n      <td>Vision for the Next 25 Years of IIT Roorkee</td>\n      <td>1</td>\n      <td>IMPORTANT,CATEGORY_PERSONAL</td>\n    </tr>\n    <tr>\n      <th>1082</th>\n      <td>1082</td>\n      <td>18480934391ef4c9</td>\n      <td>First Announcement and Call for Abstract for 8...</td>\n      <td>1</td>\n      <td>IMPORTANT,CATEGORY_PERSONAL,INBOX</td>\n    </tr>\n    <tr>\n      <th>1087</th>\n      <td>1087</td>\n      <td>1847ff473c1df663</td>\n      <td>Issuing of e-ID cards and e-Medical Booklet</td>\n      <td>1</td>\n      <td>IMPORTANT,Label_9,CATEGORY_PERSONAL,INBOX</td>\n    </tr>\n    <tr>\n      <th>1095</th>\n      <td>1095</td>\n      <td>1847a249de81a587</td>\n      <td>Solution for problem statement for Traceabilit...</td>\n      <td>1</td>\n      <td>IMPORTANT,CATEGORY_PERSONAL,INBOX</td>\n    </tr>\n    <tr>\n      <th>1102</th>\n      <td>1102</td>\n      <td>18475e22fa8820ca</td>\n      <td>Celebration of Janajatiya Gaurav Diwas on 15th...</td>\n      <td>1</td>\n      <td>IMPORTANT,CATEGORY_PERSONAL,INBOX</td>\n    </tr>\n    <tr>\n      <th>1143</th>\n      <td>1143</td>\n      <td>1845feb9cd733749</td>\n      <td>Fwd: Expression of Interest for Inviting Ideas...</td>\n      <td>1</td>\n      <td>IMPORTANT,CATEGORY_PERSONAL,INBOX</td>\n    </tr>\n    <tr>\n      <th>1170</th>\n      <td>1170</td>\n      <td>184558cc76a547cf</td>\n      <td>Fwd: EXPLORE@IITM for SC/ST students in their ...</td>\n      <td>1</td>\n      <td>IMPORTANT,CATEGORY_PERSONAL,INBOX</td>\n    </tr>\n  </tbody>\n</table>\n</div>"
     },
     "execution_count": 67,
     "metadata": {},
     "output_type": "execute_result"
    }
   ],
   "source": [
    "new_df.loc[new_df['label'] == 1]"
   ],
   "metadata": {
    "collapsed": false
   }
  },
  {
   "cell_type": "code",
   "execution_count": 68,
   "outputs": [],
   "source": [
    "def write_label_names(label_id_series: pd.Series, exc_list=[]) -> pd.Series:\n",
    "    \"\"\"\n",
    "    :param exc_list: a list of label_ids among the default ones which are required\n",
    "    will convert comma separated label_ids into label_names for a series of strings\n",
    "    \"\"\"\n",
    "    labels_dict = all_labels\n",
    "\n",
    "    def label_filter(label_id_st):\n",
    "        label_names = []\n",
    "        for label_id in label_id_st:\n",
    "            if label_id == labels_dict[label_id] and label_id not in exc_list:\n",
    "                label_id_st.remove(label_id)\n",
    "            else:\n",
    "                label_names.append(labels_dict[label_id])\n",
    "\n",
    "        return ','.join(label_names)\n",
    "\n",
    "    return label_id_series.str.split(',').apply(label_filter)"
   ],
   "metadata": {
    "collapsed": false
   }
  },
  {
   "cell_type": "code",
   "execution_count": 69,
   "outputs": [],
   "source": [
    "new_df['label_list'] = write_label_names(new_df['labels'])"
   ],
   "metadata": {
    "collapsed": false
   }
  },
  {
   "cell_type": "code",
   "execution_count": 70,
   "outputs": [
    {
     "name": "stdout",
     "output_type": "stream",
     "text": [
      "                  29\n",
      "Guest Lectures     3\n",
      "Name: label_list, dtype: int64\n",
      "\n",
      "                       34\n",
      "bhawan notifs           2\n",
      "jobs and internship     2\n",
      "Name: label_list, dtype: int64\n",
      "\n",
      "                                     371\n",
      "jobs and internship                   25\n",
      "IMP                                   11\n",
      "academics,ETE                          9\n",
      "Class materials,academics              8\n",
      "bhawan notifs                          4\n",
      "institute updates                      3\n",
      "Guest Lectures                         3\n",
      "Techincal Clubs                        3\n",
      "OTP                                    2\n",
      "academics                              2\n",
      "SCSP                                   2\n",
      "MTE,academics                          2\n",
      "Club Recruitments,Techincal Clubs      1\n",
      "Club Recruitments                      1\n",
      "MTE,academics,ETE                      1\n",
      "hackathons                             1\n",
      "treks                                  1\n",
      "Class materials                        1\n",
      "AAO                                    1\n",
      "Name: label_list, dtype: int64\n",
      "\n",
      "                              27\n",
      "Club Recruitments             10\n",
      "cultural                       4\n",
      "cultural,Club Recruitments     3\n",
      "bhawan notifs                  3\n",
      "Name: label_list, dtype: int64\n",
      "\n",
      "quarantined    20\n",
      "                2\n",
      "Name: label_list, dtype: int64\n",
      "\n",
      "academics            9\n",
      "                     4\n",
      "academics,ETE        2\n",
      "MTE,academics,ETE    1\n",
      "MTE,academics        1\n",
      "AAO,MTE,academics    1\n",
      "Name: label_list, dtype: int64\n",
      "\n",
      "AAO info    26\n",
      "Name: label_list, dtype: int64\n",
      "\n",
      "academics            11\n",
      "MTE,academics         4\n",
      "academics,IMP         2\n",
      "ETE                   1\n",
      "academics,ETE         1\n",
      "MTE,academics,ETE     1\n",
      "Name: label_list, dtype: int64\n",
      "\n",
      "                     10\n",
      "academics,ETE         6\n",
      "commercial            5\n",
      "Quiz,academics        4\n",
      "Quiz                  4\n",
      "commercial,OTP        3\n",
      "MTE,academics         3\n",
      "MTE,academics,ETE     1\n",
      "MTE,Quiz              1\n",
      "MTE                   1\n",
      "Name: label_list, dtype: int64\n",
      "\n",
      "                       43\n",
      "bhawan notifs           3\n",
      "bhawan notifs,IMP       2\n",
      "jobs and internship     2\n",
      "ETE                     1\n",
      "Name: label_list, dtype: int64\n",
      "\n",
      "                     27\n",
      "Club Recruitments     1\n",
      "Name: label_list, dtype: int64\n",
      "\n",
      "    14\n",
      "Name: label_list, dtype: int64\n",
      "\n",
      "academics,ETE                9\n",
      "MTE,academics                9\n",
      "Class materials,academics    8\n",
      "Quiz,academics               7\n",
      "MTE,academics,ETE            3\n",
      "Quiz                         2\n",
      "                             1\n",
      "ETE                          1\n",
      "MTE                          1\n",
      "MTE,Quiz,academics           1\n",
      "Class materials              1\n",
      "Name: label_list, dtype: int64\n",
      "\n",
      "                                  29\n",
      "hackathons                         2\n",
      "jobs and internship,hackathons     2\n",
      "Name: label_list, dtype: int64\n",
      "\n",
      "                       25\n",
      "IMP                     2\n",
      "jobs and internship     1\n",
      "Name: label_list, dtype: int64\n",
      "\n",
      "                         45\n",
      "Club Recruitments,IMP     1\n",
      "Name: label_list, dtype: int64\n",
      "\n",
      "                                     64\n",
      "Techincal Clubs                      15\n",
      "Club Recruitments,Techincal Clubs    14\n",
      "hackathons                            3\n",
      "Club Recruitments                     2\n",
      "IMP,Techincal Clubs                   1\n",
      "IMP                                   1\n",
      "Name: label_list, dtype: int64\n",
      "\n",
      "    19\n",
      "Name: label_list, dtype: int64\n",
      "\n",
      "                           16\n",
      "jobs and internship,IMP     1\n",
      "Name: label_list, dtype: int64\n",
      "\n",
      "AAO                        12\n",
      "AAO,IMP                    10\n",
      "jobs and internship,AAO     1\n",
      "AAO,academics,ETE           1\n",
      "Name: label_list, dtype: int64\n",
      "\n",
      "                       7\n",
      "jobs and internship    4\n",
      "hackathons             1\n",
      "quarantined            1\n",
      "Name: label_list, dtype: int64\n",
      "\n",
      "treks    15\n",
      "          4\n",
      "Name: label_list, dtype: int64\n",
      "\n",
      "                         4\n",
      "AAO                      4\n",
      "AAO,MTE,academics        4\n",
      "IMP                      1\n",
      "AAO,academics,ETE        1\n",
      "AAO,academics,ETE,IMP    1\n",
      "Name: label_list, dtype: int64\n",
      "\n",
      "                 14\n",
      "AAO info          8\n",
      "academics,IMP     3\n",
      "MTE,academics     1\n",
      "bhawan notifs     1\n",
      "IMP               1\n",
      "Name: label_list, dtype: int64\n",
      "\n",
      "    27\n",
      "Name: label_list, dtype: int64\n",
      "\n"
     ]
    }
   ],
   "source": [
    "for i in range(25):\n",
    "    print(new_df.loc[new_df['label'] == i].label_list.value_counts())\n",
    "    print()"
   ],
   "metadata": {
    "collapsed": false
   }
  },
  {
   "cell_type": "code",
   "execution_count": 71,
   "outputs": [
    {
     "data": {
      "text/plain": "array([[1.96970888, 2.06037224, 1.6994129 , ..., 2.15384361, 2.01185502,\n        2.17659083],\n       [1.69187923, 0.66626814, 1.3670271 , ..., 1.83314538, 1.68117022,\n        1.90337022],\n       [1.95339829, 1.34668407, 1.66020272, ..., 2.10264312, 1.95719404,\n        2.16637357],\n       ...,\n       [1.95191866, 2.06038441, 1.71573021, ..., 2.13498789, 1.9835316 ,\n        2.18338198],\n       [1.97324945, 2.01927085, 1.70605806, ..., 2.12173017, 1.96312576,\n        2.15976325],\n       [1.6706233 , 1.81338896, 1.37120131, ..., 1.90841433, 1.74124718,\n        1.93836313]])"
     },
     "execution_count": 71,
     "metadata": {},
     "output_type": "execute_result"
    }
   ],
   "source": [
    "model.transform(X)"
   ],
   "metadata": {
    "collapsed": false
   }
  },
  {
   "cell_type": "code",
   "execution_count": 72,
   "outputs": [
    {
     "name": "stderr",
     "output_type": "stream",
     "text": [
      "C:\\Users\\msing\\.conda\\envs\\gmail_organizer\\lib\\site-packages\\sklearn\\cluster\\_kmeans.py:1382: UserWarning: KMeans is known to have a memory leak on Windows with MKL, when there are less chunks than available threads. You can avoid it by setting the environment variable OMP_NUM_THREADS=5.\n",
      "  warnings.warn(\n",
      "C:\\Users\\msing\\.conda\\envs\\gmail_organizer\\lib\\site-packages\\sklearn\\cluster\\_kmeans.py:1382: UserWarning: KMeans is known to have a memory leak on Windows with MKL, when there are less chunks than available threads. You can avoid it by setting the environment variable OMP_NUM_THREADS=5.\n",
      "  warnings.warn(\n",
      "C:\\Users\\msing\\.conda\\envs\\gmail_organizer\\lib\\site-packages\\sklearn\\cluster\\_kmeans.py:1382: UserWarning: KMeans is known to have a memory leak on Windows with MKL, when there are less chunks than available threads. You can avoid it by setting the environment variable OMP_NUM_THREADS=5.\n",
      "  warnings.warn(\n",
      "C:\\Users\\msing\\.conda\\envs\\gmail_organizer\\lib\\site-packages\\sklearn\\cluster\\_kmeans.py:1382: UserWarning: KMeans is known to have a memory leak on Windows with MKL, when there are less chunks than available threads. You can avoid it by setting the environment variable OMP_NUM_THREADS=5.\n",
      "  warnings.warn(\n",
      "C:\\Users\\msing\\.conda\\envs\\gmail_organizer\\lib\\site-packages\\sklearn\\cluster\\_kmeans.py:1382: UserWarning: KMeans is known to have a memory leak on Windows with MKL, when there are less chunks than available threads. You can avoid it by setting the environment variable OMP_NUM_THREADS=5.\n",
      "  warnings.warn(\n",
      "C:\\Users\\msing\\.conda\\envs\\gmail_organizer\\lib\\site-packages\\sklearn\\cluster\\_kmeans.py:1382: UserWarning: KMeans is known to have a memory leak on Windows with MKL, when there are less chunks than available threads. You can avoid it by setting the environment variable OMP_NUM_THREADS=5.\n",
      "  warnings.warn(\n",
      "C:\\Users\\msing\\.conda\\envs\\gmail_organizer\\lib\\site-packages\\sklearn\\cluster\\_kmeans.py:1382: UserWarning: KMeans is known to have a memory leak on Windows with MKL, when there are less chunks than available threads. You can avoid it by setting the environment variable OMP_NUM_THREADS=5.\n",
      "  warnings.warn(\n",
      "C:\\Users\\msing\\.conda\\envs\\gmail_organizer\\lib\\site-packages\\sklearn\\cluster\\_kmeans.py:1382: UserWarning: KMeans is known to have a memory leak on Windows with MKL, when there are less chunks than available threads. You can avoid it by setting the environment variable OMP_NUM_THREADS=5.\n",
      "  warnings.warn(\n",
      "C:\\Users\\msing\\.conda\\envs\\gmail_organizer\\lib\\site-packages\\sklearn\\cluster\\_kmeans.py:1382: UserWarning: KMeans is known to have a memory leak on Windows with MKL, when there are less chunks than available threads. You can avoid it by setting the environment variable OMP_NUM_THREADS=5.\n",
      "  warnings.warn(\n",
      "C:\\Users\\msing\\.conda\\envs\\gmail_organizer\\lib\\site-packages\\sklearn\\cluster\\_kmeans.py:1382: UserWarning: KMeans is known to have a memory leak on Windows with MKL, when there are less chunks than available threads. You can avoid it by setting the environment variable OMP_NUM_THREADS=5.\n",
      "  warnings.warn(\n"
     ]
    },
    {
     "data": {
      "text/plain": "array([ 9,  7,  7, ...,  5, 24,  9], dtype=int64)"
     },
     "execution_count": 72,
     "metadata": {},
     "output_type": "execute_result"
    }
   ],
   "source": [
    "from sklearn.mixture import GaussianMixture\n",
    "\n",
    "k = 25\n",
    "model =  GaussianMixture(n_components=25, n_init=10)\n",
    "labels = model.fit_predict(X.toarray())\n",
    "labels"
   ],
   "metadata": {
    "collapsed": false
   }
  },
  {
   "cell_type": "code",
   "execution_count": 73,
   "outputs": [
    {
     "data": {
      "text/plain": "True"
     },
     "execution_count": 73,
     "metadata": {},
     "output_type": "execute_result"
    }
   ],
   "source": [
    "model.converged_"
   ],
   "metadata": {
    "collapsed": false
   }
  },
  {
   "cell_type": "code",
   "execution_count": 74,
   "outputs": [
    {
     "data": {
      "text/plain": "2"
     },
     "execution_count": 74,
     "metadata": {},
     "output_type": "execute_result"
    }
   ],
   "source": [
    "model.n_iter_"
   ],
   "metadata": {
    "collapsed": false
   }
  },
  {
   "cell_type": "code",
   "execution_count": 75,
   "outputs": [
    {
     "data": {
      "text/plain": "      index                id  \\\n40       40  186fe3bb3af82477   \n42       42  186fe356991dc705   \n43       43  186fe2c41f0b4896   \n44       44  186fe2b352f89aec   \n75       75  186ee532d570c56c   \n...     ...               ...   \n1163   1163  184576fbfab869ca   \n1169   1169  18455b822c06d210   \n1181   1181  184516d3bcc5a613   \n1187   1187  1845091dda68ad71   \n1196   1196  1844c4712c1c2187   \n\n                                                subject  label  \\\n40    Re: Invited talk on How AI-enabled Technology ...      0   \n42    Re: Invited talk on How AI-enabled Technology ...      0   \n43    Invited talk on How AI-enabled Technology Is P...      0   \n44    Webex meeting invitation: Invited talk on How ...      0   \n75    Invitation for our first alumni meet (Nano Mee...      0   \n...                                                 ...    ...   \n1163  Updates: Your List of Quarantined Emails since...     24   \n1169  Updates: Your List of Quarantined Emails since...     24   \n1181  Updates: Your List of Quarantined Emails since...     24   \n1187  Updates: Your List of Quarantined Emails since...     24   \n1196  Updates: Your List of Quarantined Emails since...     24   \n\n                                                 labels  \n40             UNREAD,IMPORTANT,CATEGORY_PERSONAL,INBOX  \n42             UNREAD,IMPORTANT,CATEGORY_PERSONAL,INBOX  \n43             UNREAD,IMPORTANT,CATEGORY_PERSONAL,INBOX  \n44              UNREAD,IMPORTANT,CATEGORY_UPDATES,INBOX  \n75    UNREAD,IMPORTANT,Label_10,CATEGORY_PERSONAL,INBOX  \n...                                                 ...  \n1163  Label_3628272813817210666,IMPORTANT,CATEGORY_U...  \n1169  Label_3628272813817210666,IMPORTANT,CATEGORY_U...  \n1181  Label_3628272813817210666,IMPORTANT,CATEGORY_U...  \n1187  Label_3628272813817210666,IMPORTANT,CATEGORY_U...  \n1196  Label_3628272813817210666,IMPORTANT,CATEGORY_U...  \n\n[1198 rows x 5 columns]",
      "text/html": "<div>\n<style scoped>\n    .dataframe tbody tr th:only-of-type {\n        vertical-align: middle;\n    }\n\n    .dataframe tbody tr th {\n        vertical-align: top;\n    }\n\n    .dataframe thead th {\n        text-align: right;\n    }\n</style>\n<table border=\"1\" class=\"dataframe\">\n  <thead>\n    <tr style=\"text-align: right;\">\n      <th></th>\n      <th>index</th>\n      <th>id</th>\n      <th>subject</th>\n      <th>label</th>\n      <th>labels</th>\n    </tr>\n  </thead>\n  <tbody>\n    <tr>\n      <th>40</th>\n      <td>40</td>\n      <td>186fe3bb3af82477</td>\n      <td>Re: Invited talk on How AI-enabled Technology ...</td>\n      <td>0</td>\n      <td>UNREAD,IMPORTANT,CATEGORY_PERSONAL,INBOX</td>\n    </tr>\n    <tr>\n      <th>42</th>\n      <td>42</td>\n      <td>186fe356991dc705</td>\n      <td>Re: Invited talk on How AI-enabled Technology ...</td>\n      <td>0</td>\n      <td>UNREAD,IMPORTANT,CATEGORY_PERSONAL,INBOX</td>\n    </tr>\n    <tr>\n      <th>43</th>\n      <td>43</td>\n      <td>186fe2c41f0b4896</td>\n      <td>Invited talk on How AI-enabled Technology Is P...</td>\n      <td>0</td>\n      <td>UNREAD,IMPORTANT,CATEGORY_PERSONAL,INBOX</td>\n    </tr>\n    <tr>\n      <th>44</th>\n      <td>44</td>\n      <td>186fe2b352f89aec</td>\n      <td>Webex meeting invitation: Invited talk on How ...</td>\n      <td>0</td>\n      <td>UNREAD,IMPORTANT,CATEGORY_UPDATES,INBOX</td>\n    </tr>\n    <tr>\n      <th>75</th>\n      <td>75</td>\n      <td>186ee532d570c56c</td>\n      <td>Invitation for our first alumni meet (Nano Mee...</td>\n      <td>0</td>\n      <td>UNREAD,IMPORTANT,Label_10,CATEGORY_PERSONAL,INBOX</td>\n    </tr>\n    <tr>\n      <th>...</th>\n      <td>...</td>\n      <td>...</td>\n      <td>...</td>\n      <td>...</td>\n      <td>...</td>\n    </tr>\n    <tr>\n      <th>1163</th>\n      <td>1163</td>\n      <td>184576fbfab869ca</td>\n      <td>Updates: Your List of Quarantined Emails since...</td>\n      <td>24</td>\n      <td>Label_3628272813817210666,IMPORTANT,CATEGORY_U...</td>\n    </tr>\n    <tr>\n      <th>1169</th>\n      <td>1169</td>\n      <td>18455b822c06d210</td>\n      <td>Updates: Your List of Quarantined Emails since...</td>\n      <td>24</td>\n      <td>Label_3628272813817210666,IMPORTANT,CATEGORY_U...</td>\n    </tr>\n    <tr>\n      <th>1181</th>\n      <td>1181</td>\n      <td>184516d3bcc5a613</td>\n      <td>Updates: Your List of Quarantined Emails since...</td>\n      <td>24</td>\n      <td>Label_3628272813817210666,IMPORTANT,CATEGORY_U...</td>\n    </tr>\n    <tr>\n      <th>1187</th>\n      <td>1187</td>\n      <td>1845091dda68ad71</td>\n      <td>Updates: Your List of Quarantined Emails since...</td>\n      <td>24</td>\n      <td>Label_3628272813817210666,IMPORTANT,CATEGORY_U...</td>\n    </tr>\n    <tr>\n      <th>1196</th>\n      <td>1196</td>\n      <td>1844c4712c1c2187</td>\n      <td>Updates: Your List of Quarantined Emails since...</td>\n      <td>24</td>\n      <td>Label_3628272813817210666,IMPORTANT,CATEGORY_U...</td>\n    </tr>\n  </tbody>\n</table>\n<p>1198 rows × 5 columns</p>\n</div>"
     },
     "execution_count": 75,
     "metadata": {},
     "output_type": "execute_result"
    }
   ],
   "source": [
    "mails_df['label'] = pd.Series(labels)\n",
    "new_df = mails_df.loc[:, ['id', 'subject', 'label', 'labels']]\n",
    "new_df.reset_index(inplace=True)\n",
    "new_df.sort_values(by=['label', 'index'], inplace=True)\n",
    "new_df"
   ],
   "metadata": {
    "collapsed": false
   }
  },
  {
   "cell_type": "code",
   "execution_count": 76,
   "outputs": [
    {
     "data": {
      "text/plain": "      index                id  \\\n16       16  1870a21d51aa1525   \n29       29  187035837722b354   \n37       37  186fe967d84e544f   \n47       47  186fdda6bd1f1de4   \n53       53  186f93d25bc1869e   \n66       66  186ef51d5e29f27a   \n130     130  186d051e1d7b2962   \n140     140  186cab76605637bd   \n154     154  186c5778e52b3aad   \n404     404  18630d4e74351fe2   \n474     474  1860dede4a537da0   \n484     484  186082ad2aa08434   \n512     512  185f89c7b9617633   \n536     536  185ef5e921ee5747   \n537     537  185ef48e4cdd39e7   \n540     540  185edf39783f2605   \n579     579  185d751106b8d802   \n595     595  185d0315b9608830   \n650     650  185ba91503403fa0   \n690     690  185a693aff2d184c   \n698     698  185a5453c65e7ec6   \n799     799  185670cebbef2166   \n813     813  18560de87dd46ea1   \n874     874  18530781b4cf1353   \n877     877  1852b9dd397c84dd   \n895     895  1851462bbd532b7c   \n907     907  18507676b16f499d   \n918     918  184f6ef791ef3c65   \n997     997  184bd275fd2156bd   \n1080   1080  18480e0709b42e16   \n1104   1104  18475c1f0bc92f25   \n1111   1111  184718200075be1b   \n1113   1113  18470a6642995502   \n1114   1114  18470071b8a57348   \n1124   1124  1846a336128f7c02   \n1127   1127  184674bb8c7c4408   \n1133   1133  18464887cd67ec98   \n1162   1162  18457ccc4b9d38ea   \n\n                                                subject  label  \\\n16    IIT Roorkee improves its Global Rank in Broad ...      1   \n29    Re: ASME IIT Roorkee Student Section goes Recr...      1   \n37    Re: ASME IIT Roorkee Student Section goes Recr...      1   \n47    Free Workshops for IIT Roorkee Students in Cog...      1   \n53    ASME IIT Roorkee Student Section goes Recruiting!      1   \n66    Finance Club, IIT Roorkee | WorldQuant BRAIN I...      1   \n130            IIT Roorkee Motorsports Recruitment 2023      1   \n140             Enact-A-Thon 4.0 || Enactus IIT-Roorkee      1   \n154            IIT Roorkee Motorsports Recruitment 2023      1   \n404                 SAE IIT Roorkee Event Zaplin Junker      1   \n474          Re: Recruitment || Cognizance, IIT Roorkee      1   \n484              Recruitment || Cognizance, IIT Roorkee      1   \n512                SAC IIT Roorkee is now on Instagram!      1   \n536   Call for Engineering Projects for Inter IIT Te...      1   \n537   Call for Research Projects for Inter-IIT Tech ...      1   \n540          Deadline for Hult Prize - IIT Roorkee 2023      1   \n579              Microsoft Azure Dev Day at IIT Roorkee      1   \n595   Release of Mid-Prep Problem Statements for Int...      1   \n650   Release of Mid-Prep Problem Statements for Int...      1   \n690   Invitation to India’s largest Virtual Stock Ma...      1   \n698        Quantitative Trading Winter School IIT Delhi      1   \n799   Release of High-Prep Problem Statements for In...      1   \n813   Release of High-Prep Problem Statements for In...      1   \n874                   Re: Hult Prize - IIT Roorkee 2023      1   \n877   Release of High-Prep Problem Statements for In...      1   \n895                       Hult Prize - IIT Roorkee 2023      1   \n907   Release of High-Prep Problem Statements for In...      1   \n918   USIEF Fulbright-Kalam Climate Fellowships awar...      1   \n997   Register for Winter Consulting 2022 | IIT Guwa...      1   \n1080                 [IMP] Stark update for IIT Roorkee      1   \n1104  IIT Roorkee on the latest Science and Technolo...      1   \n1111            Thanks for joining StarkCon IIT Roorkee      1   \n1113  [BULK] ⏰ StarkCon IIT Roorkee is starting in 1...      1   \n1114     Registration approved for StarkCon IIT Roorkee      1   \n1124              Speaker Session by E-Cell IIT Roorkee      1   \n1127  Registration pending approval for StarkCon IIT...      1   \n1133                        STARKCON IIT-Roorkee Meetup      1   \n1162  Welcome ceremony of Prof. K. K. Pant : New Dir...      1   \n\n                                                 labels  \n16             UNREAD,IMPORTANT,CATEGORY_PERSONAL,INBOX  \n29    UNREAD,IMPORTANT,Label_11,CATEGORY_PERSONAL,IN...  \n37    UNREAD,IMPORTANT,Label_11,CATEGORY_PERSONAL,IN...  \n47             UNREAD,IMPORTANT,CATEGORY_PERSONAL,INBOX  \n53    UNREAD,IMPORTANT,Label_11,CATEGORY_PERSONAL,IN...  \n66             UNREAD,IMPORTANT,CATEGORY_PERSONAL,INBOX  \n130          IMPORTANT,Label_11,CATEGORY_PERSONAL,INBOX  \n140          IMPORTANT,Label_11,CATEGORY_PERSONAL,INBOX  \n154          IMPORTANT,Label_11,CATEGORY_PERSONAL,INBOX  \n404   IMPORTANT,CATEGORY_PERSONAL,INBOX,Label_269289...  \n474          IMPORTANT,Label_11,CATEGORY_PERSONAL,INBOX  \n484          IMPORTANT,Label_11,CATEGORY_PERSONAL,INBOX  \n512                   IMPORTANT,CATEGORY_PERSONAL,INBOX  \n536   IMPORTANT,CATEGORY_PERSONAL,INBOX,Label_269289...  \n537   IMPORTANT,CATEGORY_PERSONAL,INBOX,Label_269289...  \n540          IMPORTANT,Label_10,CATEGORY_PERSONAL,INBOX  \n579   IMPORTANT,CATEGORY_PERSONAL,INBOX,Label_269289...  \n595   IMPORTANT,CATEGORY_PERSONAL,INBOX,Label_269289...  \n650   IMPORTANT,CATEGORY_PERSONAL,INBOX,Label_269289...  \n690   IMPORTANT,STARRED,CATEGORY_PERSONAL,INBOX,Labe...  \n698   IMPORTANT,CATEGORY_PERSONAL,INBOX,Label_269289...  \n799   IMPORTANT,CATEGORY_PERSONAL,INBOX,Label_269289...  \n813   IMPORTANT,CATEGORY_PERSONAL,INBOX,Label_269289...  \n874          IMPORTANT,Label_10,CATEGORY_PERSONAL,INBOX  \n877   IMPORTANT,CATEGORY_PERSONAL,INBOX,Label_269289...  \n895          IMPORTANT,Label_10,CATEGORY_PERSONAL,INBOX  \n907   IMPORTANT,CATEGORY_PERSONAL,INBOX,Label_269289...  \n918                   IMPORTANT,CATEGORY_PERSONAL,INBOX  \n997                   IMPORTANT,CATEGORY_PERSONAL,INBOX  \n1080  Label_3281058460844688860,IMPORTANT,CATEGORY_U...  \n1104                  IMPORTANT,CATEGORY_PERSONAL,INBOX  \n1111                   IMPORTANT,CATEGORY_UPDATES,INBOX  \n1113                   IMPORTANT,CATEGORY_UPDATES,INBOX  \n1114                   IMPORTANT,CATEGORY_UPDATES,INBOX  \n1124                  IMPORTANT,CATEGORY_PERSONAL,INBOX  \n1127  IMPORTANT,STARRED,CATEGORY_UPDATES,INBOX,Label_13  \n1133                  IMPORTANT,CATEGORY_PERSONAL,INBOX  \n1162                        IMPORTANT,CATEGORY_PERSONAL  ",
      "text/html": "<div>\n<style scoped>\n    .dataframe tbody tr th:only-of-type {\n        vertical-align: middle;\n    }\n\n    .dataframe tbody tr th {\n        vertical-align: top;\n    }\n\n    .dataframe thead th {\n        text-align: right;\n    }\n</style>\n<table border=\"1\" class=\"dataframe\">\n  <thead>\n    <tr style=\"text-align: right;\">\n      <th></th>\n      <th>index</th>\n      <th>id</th>\n      <th>subject</th>\n      <th>label</th>\n      <th>labels</th>\n    </tr>\n  </thead>\n  <tbody>\n    <tr>\n      <th>16</th>\n      <td>16</td>\n      <td>1870a21d51aa1525</td>\n      <td>IIT Roorkee improves its Global Rank in Broad ...</td>\n      <td>1</td>\n      <td>UNREAD,IMPORTANT,CATEGORY_PERSONAL,INBOX</td>\n    </tr>\n    <tr>\n      <th>29</th>\n      <td>29</td>\n      <td>187035837722b354</td>\n      <td>Re: ASME IIT Roorkee Student Section goes Recr...</td>\n      <td>1</td>\n      <td>UNREAD,IMPORTANT,Label_11,CATEGORY_PERSONAL,IN...</td>\n    </tr>\n    <tr>\n      <th>37</th>\n      <td>37</td>\n      <td>186fe967d84e544f</td>\n      <td>Re: ASME IIT Roorkee Student Section goes Recr...</td>\n      <td>1</td>\n      <td>UNREAD,IMPORTANT,Label_11,CATEGORY_PERSONAL,IN...</td>\n    </tr>\n    <tr>\n      <th>47</th>\n      <td>47</td>\n      <td>186fdda6bd1f1de4</td>\n      <td>Free Workshops for IIT Roorkee Students in Cog...</td>\n      <td>1</td>\n      <td>UNREAD,IMPORTANT,CATEGORY_PERSONAL,INBOX</td>\n    </tr>\n    <tr>\n      <th>53</th>\n      <td>53</td>\n      <td>186f93d25bc1869e</td>\n      <td>ASME IIT Roorkee Student Section goes Recruiting!</td>\n      <td>1</td>\n      <td>UNREAD,IMPORTANT,Label_11,CATEGORY_PERSONAL,IN...</td>\n    </tr>\n    <tr>\n      <th>66</th>\n      <td>66</td>\n      <td>186ef51d5e29f27a</td>\n      <td>Finance Club, IIT Roorkee | WorldQuant BRAIN I...</td>\n      <td>1</td>\n      <td>UNREAD,IMPORTANT,CATEGORY_PERSONAL,INBOX</td>\n    </tr>\n    <tr>\n      <th>130</th>\n      <td>130</td>\n      <td>186d051e1d7b2962</td>\n      <td>IIT Roorkee Motorsports Recruitment 2023</td>\n      <td>1</td>\n      <td>IMPORTANT,Label_11,CATEGORY_PERSONAL,INBOX</td>\n    </tr>\n    <tr>\n      <th>140</th>\n      <td>140</td>\n      <td>186cab76605637bd</td>\n      <td>Enact-A-Thon 4.0 || Enactus IIT-Roorkee</td>\n      <td>1</td>\n      <td>IMPORTANT,Label_11,CATEGORY_PERSONAL,INBOX</td>\n    </tr>\n    <tr>\n      <th>154</th>\n      <td>154</td>\n      <td>186c5778e52b3aad</td>\n      <td>IIT Roorkee Motorsports Recruitment 2023</td>\n      <td>1</td>\n      <td>IMPORTANT,Label_11,CATEGORY_PERSONAL,INBOX</td>\n    </tr>\n    <tr>\n      <th>404</th>\n      <td>404</td>\n      <td>18630d4e74351fe2</td>\n      <td>SAE IIT Roorkee Event Zaplin Junker</td>\n      <td>1</td>\n      <td>IMPORTANT,CATEGORY_PERSONAL,INBOX,Label_269289...</td>\n    </tr>\n    <tr>\n      <th>474</th>\n      <td>474</td>\n      <td>1860dede4a537da0</td>\n      <td>Re: Recruitment || Cognizance, IIT Roorkee</td>\n      <td>1</td>\n      <td>IMPORTANT,Label_11,CATEGORY_PERSONAL,INBOX</td>\n    </tr>\n    <tr>\n      <th>484</th>\n      <td>484</td>\n      <td>186082ad2aa08434</td>\n      <td>Recruitment || Cognizance, IIT Roorkee</td>\n      <td>1</td>\n      <td>IMPORTANT,Label_11,CATEGORY_PERSONAL,INBOX</td>\n    </tr>\n    <tr>\n      <th>512</th>\n      <td>512</td>\n      <td>185f89c7b9617633</td>\n      <td>SAC IIT Roorkee is now on Instagram!</td>\n      <td>1</td>\n      <td>IMPORTANT,CATEGORY_PERSONAL,INBOX</td>\n    </tr>\n    <tr>\n      <th>536</th>\n      <td>536</td>\n      <td>185ef5e921ee5747</td>\n      <td>Call for Engineering Projects for Inter IIT Te...</td>\n      <td>1</td>\n      <td>IMPORTANT,CATEGORY_PERSONAL,INBOX,Label_269289...</td>\n    </tr>\n    <tr>\n      <th>537</th>\n      <td>537</td>\n      <td>185ef48e4cdd39e7</td>\n      <td>Call for Research Projects for Inter-IIT Tech ...</td>\n      <td>1</td>\n      <td>IMPORTANT,CATEGORY_PERSONAL,INBOX,Label_269289...</td>\n    </tr>\n    <tr>\n      <th>540</th>\n      <td>540</td>\n      <td>185edf39783f2605</td>\n      <td>Deadline for Hult Prize - IIT Roorkee 2023</td>\n      <td>1</td>\n      <td>IMPORTANT,Label_10,CATEGORY_PERSONAL,INBOX</td>\n    </tr>\n    <tr>\n      <th>579</th>\n      <td>579</td>\n      <td>185d751106b8d802</td>\n      <td>Microsoft Azure Dev Day at IIT Roorkee</td>\n      <td>1</td>\n      <td>IMPORTANT,CATEGORY_PERSONAL,INBOX,Label_269289...</td>\n    </tr>\n    <tr>\n      <th>595</th>\n      <td>595</td>\n      <td>185d0315b9608830</td>\n      <td>Release of Mid-Prep Problem Statements for Int...</td>\n      <td>1</td>\n      <td>IMPORTANT,CATEGORY_PERSONAL,INBOX,Label_269289...</td>\n    </tr>\n    <tr>\n      <th>650</th>\n      <td>650</td>\n      <td>185ba91503403fa0</td>\n      <td>Release of Mid-Prep Problem Statements for Int...</td>\n      <td>1</td>\n      <td>IMPORTANT,CATEGORY_PERSONAL,INBOX,Label_269289...</td>\n    </tr>\n    <tr>\n      <th>690</th>\n      <td>690</td>\n      <td>185a693aff2d184c</td>\n      <td>Invitation to India’s largest Virtual Stock Ma...</td>\n      <td>1</td>\n      <td>IMPORTANT,STARRED,CATEGORY_PERSONAL,INBOX,Labe...</td>\n    </tr>\n    <tr>\n      <th>698</th>\n      <td>698</td>\n      <td>185a5453c65e7ec6</td>\n      <td>Quantitative Trading Winter School IIT Delhi</td>\n      <td>1</td>\n      <td>IMPORTANT,CATEGORY_PERSONAL,INBOX,Label_269289...</td>\n    </tr>\n    <tr>\n      <th>799</th>\n      <td>799</td>\n      <td>185670cebbef2166</td>\n      <td>Release of High-Prep Problem Statements for In...</td>\n      <td>1</td>\n      <td>IMPORTANT,CATEGORY_PERSONAL,INBOX,Label_269289...</td>\n    </tr>\n    <tr>\n      <th>813</th>\n      <td>813</td>\n      <td>18560de87dd46ea1</td>\n      <td>Release of High-Prep Problem Statements for In...</td>\n      <td>1</td>\n      <td>IMPORTANT,CATEGORY_PERSONAL,INBOX,Label_269289...</td>\n    </tr>\n    <tr>\n      <th>874</th>\n      <td>874</td>\n      <td>18530781b4cf1353</td>\n      <td>Re: Hult Prize - IIT Roorkee 2023</td>\n      <td>1</td>\n      <td>IMPORTANT,Label_10,CATEGORY_PERSONAL,INBOX</td>\n    </tr>\n    <tr>\n      <th>877</th>\n      <td>877</td>\n      <td>1852b9dd397c84dd</td>\n      <td>Release of High-Prep Problem Statements for In...</td>\n      <td>1</td>\n      <td>IMPORTANT,CATEGORY_PERSONAL,INBOX,Label_269289...</td>\n    </tr>\n    <tr>\n      <th>895</th>\n      <td>895</td>\n      <td>1851462bbd532b7c</td>\n      <td>Hult Prize - IIT Roorkee 2023</td>\n      <td>1</td>\n      <td>IMPORTANT,Label_10,CATEGORY_PERSONAL,INBOX</td>\n    </tr>\n    <tr>\n      <th>907</th>\n      <td>907</td>\n      <td>18507676b16f499d</td>\n      <td>Release of High-Prep Problem Statements for In...</td>\n      <td>1</td>\n      <td>IMPORTANT,CATEGORY_PERSONAL,INBOX,Label_269289...</td>\n    </tr>\n    <tr>\n      <th>918</th>\n      <td>918</td>\n      <td>184f6ef791ef3c65</td>\n      <td>USIEF Fulbright-Kalam Climate Fellowships awar...</td>\n      <td>1</td>\n      <td>IMPORTANT,CATEGORY_PERSONAL,INBOX</td>\n    </tr>\n    <tr>\n      <th>997</th>\n      <td>997</td>\n      <td>184bd275fd2156bd</td>\n      <td>Register for Winter Consulting 2022 | IIT Guwa...</td>\n      <td>1</td>\n      <td>IMPORTANT,CATEGORY_PERSONAL,INBOX</td>\n    </tr>\n    <tr>\n      <th>1080</th>\n      <td>1080</td>\n      <td>18480e0709b42e16</td>\n      <td>[IMP] Stark update for IIT Roorkee</td>\n      <td>1</td>\n      <td>Label_3281058460844688860,IMPORTANT,CATEGORY_U...</td>\n    </tr>\n    <tr>\n      <th>1104</th>\n      <td>1104</td>\n      <td>18475c1f0bc92f25</td>\n      <td>IIT Roorkee on the latest Science and Technolo...</td>\n      <td>1</td>\n      <td>IMPORTANT,CATEGORY_PERSONAL,INBOX</td>\n    </tr>\n    <tr>\n      <th>1111</th>\n      <td>1111</td>\n      <td>184718200075be1b</td>\n      <td>Thanks for joining StarkCon IIT Roorkee</td>\n      <td>1</td>\n      <td>IMPORTANT,CATEGORY_UPDATES,INBOX</td>\n    </tr>\n    <tr>\n      <th>1113</th>\n      <td>1113</td>\n      <td>18470a6642995502</td>\n      <td>[BULK] ⏰ StarkCon IIT Roorkee is starting in 1...</td>\n      <td>1</td>\n      <td>IMPORTANT,CATEGORY_UPDATES,INBOX</td>\n    </tr>\n    <tr>\n      <th>1114</th>\n      <td>1114</td>\n      <td>18470071b8a57348</td>\n      <td>Registration approved for StarkCon IIT Roorkee</td>\n      <td>1</td>\n      <td>IMPORTANT,CATEGORY_UPDATES,INBOX</td>\n    </tr>\n    <tr>\n      <th>1124</th>\n      <td>1124</td>\n      <td>1846a336128f7c02</td>\n      <td>Speaker Session by E-Cell IIT Roorkee</td>\n      <td>1</td>\n      <td>IMPORTANT,CATEGORY_PERSONAL,INBOX</td>\n    </tr>\n    <tr>\n      <th>1127</th>\n      <td>1127</td>\n      <td>184674bb8c7c4408</td>\n      <td>Registration pending approval for StarkCon IIT...</td>\n      <td>1</td>\n      <td>IMPORTANT,STARRED,CATEGORY_UPDATES,INBOX,Label_13</td>\n    </tr>\n    <tr>\n      <th>1133</th>\n      <td>1133</td>\n      <td>18464887cd67ec98</td>\n      <td>STARKCON IIT-Roorkee Meetup</td>\n      <td>1</td>\n      <td>IMPORTANT,CATEGORY_PERSONAL,INBOX</td>\n    </tr>\n    <tr>\n      <th>1162</th>\n      <td>1162</td>\n      <td>18457ccc4b9d38ea</td>\n      <td>Welcome ceremony of Prof. K. K. Pant : New Dir...</td>\n      <td>1</td>\n      <td>IMPORTANT,CATEGORY_PERSONAL</td>\n    </tr>\n  </tbody>\n</table>\n</div>"
     },
     "execution_count": 76,
     "metadata": {},
     "output_type": "execute_result"
    }
   ],
   "source": [
    "new_df.loc[new_df['label'] == 1]"
   ],
   "metadata": {
    "collapsed": false
   }
  },
  {
   "cell_type": "code",
   "execution_count": 77,
   "outputs": [
    {
     "name": "stdout",
     "output_type": "stream",
     "text": [
      "                  64\n",
      "Guest Lectures     2\n",
      "IMP                1\n",
      "Name: label_list, dtype: int64\n",
      "\n",
      "                                     32\n",
      "Club Recruitments,Techincal Clubs     3\n",
      "IMP,Techincal Clubs                   1\n",
      "jobs and internship                   1\n",
      "IMP                                   1\n",
      "Name: label_list, dtype: int64\n",
      "\n",
      "                             111\n",
      "Class materials,academics      8\n",
      "jobs and internship            5\n",
      "bhawan notifs                  4\n",
      "academics,ETE                  2\n",
      "academics                      2\n",
      "IMP                            2\n",
      "Guest Lectures                 1\n",
      "MTE,academics,ETE              1\n",
      "Class materials                1\n",
      "quarantined                    1\n",
      "jobs and internship,IMP        1\n",
      "Name: label_list, dtype: int64\n",
      "\n",
      "                                     14\n",
      "Club Recruitments,Techincal Clubs     1\n",
      "Name: label_list, dtype: int64\n",
      "\n",
      "academics,ETE                9\n",
      "MTE,academics                9\n",
      "Class materials,academics    8\n",
      "Quiz,academics               7\n",
      "MTE,academics,ETE            3\n",
      "Quiz                         2\n",
      "                             1\n",
      "ETE                          1\n",
      "MTE                          1\n",
      "MTE,Quiz,academics           1\n",
      "Class materials              1\n",
      "Name: label_list, dtype: int64\n",
      "\n",
      "                     24\n",
      "academics             7\n",
      "MTE,academics         2\n",
      "academics,IMP         2\n",
      "academics,ETE         2\n",
      "MTE,academics,ETE     1\n",
      "AAO,MTE,academics     1\n",
      "Name: label_list, dtype: int64\n",
      "\n",
      "                         24\n",
      "Club Recruitments,IMP     1\n",
      "Name: label_list, dtype: int64\n",
      "\n",
      "                       176\n",
      "jobs and internship     19\n",
      "treks                   16\n",
      "IMP                      8\n",
      "Techincal Clubs          3\n",
      "bhawan notifs            2\n",
      "OTP                      2\n",
      "SCSP                     2\n",
      "academics,ETE            2\n",
      "Club Recruitments        1\n",
      "academics,IMP            1\n",
      "hackathons               1\n",
      "academics                1\n",
      "Name: label_list, dtype: int64\n",
      "\n",
      "                     27\n",
      "Club Recruitments     1\n",
      "Name: label_list, dtype: int64\n",
      "\n",
      "                       48\n",
      "jobs and internship     5\n",
      "academics               1\n",
      "hackathons              1\n",
      "bhawan notifs           1\n",
      "IMP                     1\n",
      "Name: label_list, dtype: int64\n",
      "\n",
      "                                  29\n",
      "hackathons                         2\n",
      "jobs and internship,hackathons     2\n",
      "Name: label_list, dtype: int64\n",
      "\n",
      "                  26\n",
      "commercial         5\n",
      "commercial,OTP     3\n",
      "Name: label_list, dtype: int64\n",
      "\n",
      "AAO                        16\n",
      "AAO,IMP                    10\n",
      "                            4\n",
      "AAO,MTE,academics           4\n",
      "AAO,academics,ETE           2\n",
      "IMP                         1\n",
      "jobs and internship,AAO     1\n",
      "AAO,academics,ETE,IMP       1\n",
      "Name: label_list, dtype: int64\n",
      "\n",
      "academics            11\n",
      "MTE,academics         4\n",
      "academics,IMP         2\n",
      "ETE                   1\n",
      "academics,ETE         1\n",
      "MTE,academics,ETE     1\n",
      "Name: label_list, dtype: int64\n",
      "\n",
      "                  30\n",
      "Guest Lectures     3\n",
      "Name: label_list, dtype: int64\n",
      "\n",
      "AAO info    34\n",
      "AAO          1\n",
      "Name: label_list, dtype: int64\n",
      "\n",
      "                       29\n",
      "bhawan notifs           3\n",
      "jobs and internship     3\n",
      "bhawan notifs,IMP       2\n",
      "ETE                     1\n",
      "Name: label_list, dtype: int64\n",
      "\n",
      "                   20\n",
      "Techincal Clubs     1\n",
      "hackathons          1\n",
      "IMP                 1\n",
      "Name: label_list, dtype: int64\n",
      "\n",
      "                              24\n",
      "Club Recruitments             10\n",
      "cultural                       4\n",
      "cultural,Club Recruitments     3\n",
      "bhawan notifs                  3\n",
      "Name: label_list, dtype: int64\n",
      "\n",
      "                                     36\n",
      "Techincal Clubs                      14\n",
      "Club Recruitments,Techincal Clubs    11\n",
      "Club Recruitments                     2\n",
      "hackathons                            2\n",
      "IMP                                   1\n",
      "Name: label_list, dtype: int64\n",
      "\n",
      "    19\n",
      "Name: label_list, dtype: int64\n",
      "\n",
      "    23\n",
      "Name: label_list, dtype: int64\n",
      "\n",
      "                     26\n",
      "academics,ETE        11\n",
      "MTE,academics         5\n",
      "Quiz,academics        4\n",
      "Quiz                  4\n",
      "institute updates     3\n",
      "MTE,academics,ETE     1\n",
      "MTE,Quiz              1\n",
      "MTE                   1\n",
      "Name: label_list, dtype: int64\n",
      "\n",
      "                       27\n",
      "jobs and internship     1\n",
      "Name: label_list, dtype: int64\n",
      "\n",
      "quarantined    20\n",
      "                2\n",
      "Name: label_list, dtype: int64\n",
      "\n"
     ]
    }
   ],
   "source": [
    "def write_label_names(label_id_series: pd.Series, exc_list=[]) -> pd.Series:\n",
    "    \"\"\"\n",
    "    :param exc_list: a list of label_ids among the default ones which are required\n",
    "    will convert comma separated label_ids into label_names for a series of strings\n",
    "    \"\"\"\n",
    "    labels_dict = all_labels\n",
    "\n",
    "    def label_filter(label_id_st):\n",
    "        label_names = []\n",
    "        for label_id in label_id_st:\n",
    "            if label_id == labels_dict[label_id] and label_id not in exc_list:\n",
    "                label_id_st.remove(label_id)\n",
    "            else:\n",
    "                label_names.append(labels_dict[label_id])\n",
    "\n",
    "        return ','.join(label_names)\n",
    "\n",
    "    return label_id_series.str.split(',').apply(label_filter)\n",
    "\n",
    "\n",
    "new_df['label_list'] = write_label_names(new_df['labels'])\n",
    "for i in range(25):\n",
    "    print(new_df.loc[new_df['label'] == i].label_list.value_counts())\n",
    "    print()"
   ],
   "metadata": {
    "collapsed": false
   }
  },
  {
   "cell_type": "markdown",
   "source": [
    "It can be clearly inferred from the last output that the clustering is not well for this scenario"
   ],
   "metadata": {
    "collapsed": false
   }
  },
  {
   "cell_type": "code",
   "execution_count": null,
   "outputs": [],
   "source": [],
   "metadata": {
    "collapsed": false
   }
  }
 ],
 "metadata": {
  "kernelspec": {
   "display_name": "Python 3",
   "language": "python",
   "name": "python3"
  },
  "language_info": {
   "codemirror_mode": {
    "name": "ipython",
    "version": 2
   },
   "file_extension": ".py",
   "mimetype": "text/x-python",
   "name": "python",
   "nbconvert_exporter": "python",
   "pygments_lexer": "ipython2",
   "version": "2.7.6"
  }
 },
 "nbformat": 4,
 "nbformat_minor": 0
}
