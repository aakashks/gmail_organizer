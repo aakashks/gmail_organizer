{
 "cells": [
  {
   "cell_type": "code",
   "execution_count": 1,
   "metadata": {},
   "outputs": [
    {
     "data": {
      "text/plain": "                 id                       sender  \\\n0  186d6c11c13386b5               daa@iitr.ac.in   \n1  186d6ab4f4407316               ccf@iitr.ac.in   \n2  186d5e299ff960aa  gensec.technical@iitr.ac.in   \n3  186d5295b533468f  gensec.technical@iitr.ac.in   \n4  186d4dec8b166664               nss@iitr.ac.in   \n\n                                            receiver  \\\n0  students-notices@iitr.ac.in,staff-notices@iitr...   \n1  students-notices@iitr.ac.in,staff-notices@iitr...   \n2                             ug-1st-year@iitr.ac.in   \n3      ug-1st-year@iitr.ac.in,ug-2nd-year@iitr.ac.in   \n4  students-notices@iitr.ac.in,staff-notices@iitr...   \n\n                                             subject  \\\n0  Invitation for the 2nd Institute Research Day ...   \n1                         Request to drive carefully   \n2                    VLG IITR Core Team Recruitments   \n3                 QCG Recruitments 2023 | 18th March   \n4  Invitation for Valedictory Ceremony || Nationa...   \n\n                                                body  \\\n0  Dear Students, Colleagues and All, Our Institu...   \n1  Dear campus residents, On Sunday night we foun...   \n2  Greetings!Missed our recruitment test? No worr...   \n3  Greetings,QCG recruitments are around the corn...   \n4  Dear All, Warm Greetings from Team National So...   \n\n                                     labels  \n0  UNREAD,IMPORTANT,CATEGORY_PERSONAL,INBOX  \n1  UNREAD,IMPORTANT,CATEGORY_PERSONAL,INBOX  \n2         IMPORTANT,CATEGORY_PERSONAL,INBOX  \n3  UNREAD,IMPORTANT,CATEGORY_PERSONAL,INBOX  \n4  UNREAD,IMPORTANT,CATEGORY_PERSONAL,INBOX  ",
      "text/html": "<div>\n<style scoped>\n    .dataframe tbody tr th:only-of-type {\n        vertical-align: middle;\n    }\n\n    .dataframe tbody tr th {\n        vertical-align: top;\n    }\n\n    .dataframe thead th {\n        text-align: right;\n    }\n</style>\n<table border=\"1\" class=\"dataframe\">\n  <thead>\n    <tr style=\"text-align: right;\">\n      <th></th>\n      <th>id</th>\n      <th>sender</th>\n      <th>receiver</th>\n      <th>subject</th>\n      <th>body</th>\n      <th>labels</th>\n    </tr>\n  </thead>\n  <tbody>\n    <tr>\n      <th>0</th>\n      <td>186d6c11c13386b5</td>\n      <td>daa@iitr.ac.in</td>\n      <td>students-notices@iitr.ac.in,staff-notices@iitr...</td>\n      <td>Invitation for the 2nd Institute Research Day ...</td>\n      <td>Dear Students, Colleagues and All, Our Institu...</td>\n      <td>UNREAD,IMPORTANT,CATEGORY_PERSONAL,INBOX</td>\n    </tr>\n    <tr>\n      <th>1</th>\n      <td>186d6ab4f4407316</td>\n      <td>ccf@iitr.ac.in</td>\n      <td>students-notices@iitr.ac.in,staff-notices@iitr...</td>\n      <td>Request to drive carefully</td>\n      <td>Dear campus residents, On Sunday night we foun...</td>\n      <td>UNREAD,IMPORTANT,CATEGORY_PERSONAL,INBOX</td>\n    </tr>\n    <tr>\n      <th>2</th>\n      <td>186d5e299ff960aa</td>\n      <td>gensec.technical@iitr.ac.in</td>\n      <td>ug-1st-year@iitr.ac.in</td>\n      <td>VLG IITR Core Team Recruitments</td>\n      <td>Greetings!Missed our recruitment test? No worr...</td>\n      <td>IMPORTANT,CATEGORY_PERSONAL,INBOX</td>\n    </tr>\n    <tr>\n      <th>3</th>\n      <td>186d5295b533468f</td>\n      <td>gensec.technical@iitr.ac.in</td>\n      <td>ug-1st-year@iitr.ac.in,ug-2nd-year@iitr.ac.in</td>\n      <td>QCG Recruitments 2023 | 18th March</td>\n      <td>Greetings,QCG recruitments are around the corn...</td>\n      <td>UNREAD,IMPORTANT,CATEGORY_PERSONAL,INBOX</td>\n    </tr>\n    <tr>\n      <th>4</th>\n      <td>186d4dec8b166664</td>\n      <td>nss@iitr.ac.in</td>\n      <td>students-notices@iitr.ac.in,staff-notices@iitr...</td>\n      <td>Invitation for Valedictory Ceremony || Nationa...</td>\n      <td>Dear All, Warm Greetings from Team National So...</td>\n      <td>UNREAD,IMPORTANT,CATEGORY_PERSONAL,INBOX</td>\n    </tr>\n  </tbody>\n</table>\n</div>"
     },
     "execution_count": 1,
     "metadata": {},
     "output_type": "execute_result"
    }
   ],
   "source": [
    "import re\n",
    "\n",
    "import joblib\n",
    "import pandas as pd\n",
    "from sklearn.impute import SimpleImputer\n",
    "\n",
    "mails_df = pd.read_csv(\"../data/training_data.csv\", sep='~', index_col=0)\n",
    "imputer = SimpleImputer(strategy='constant', fill_value='')\n",
    "mails_df = pd.DataFrame(imputer.fit_transform(mails_df), columns=mails_df.columns)\n",
    "\n",
    "mails_df['body'] = mails_df['body'].map(lambda x: re.sub(r'[\\s~]+', ' ', x).strip())\n",
    "mails_df.iloc[:5]"
   ]
  },
  {
   "cell_type": "code",
   "execution_count": 2,
   "metadata": {},
   "outputs": [],
   "source": [
    "\n",
    "import numpy as np\n",
    "from sklearn.pipeline import Pipeline\n",
    "from sklearn.feature_extraction.text import TfidfVectorizer\n",
    "from sklearn.decomposition import TruncatedSVD\n",
    "from nltk.corpus import wordnet, stopwords\n",
    "from nltk.stem import WordNetLemmatizer"
   ]
  },
  {
   "cell_type": "code",
   "execution_count": 3,
   "metadata": {},
   "outputs": [],
   "source": [
    "lemmatizer = WordNetLemmatizer()\n",
    "\n",
    "# Define a function to preprocess the text\n",
    "def preprocess_text(text):\n",
    "    # Convert text to lowercase\n",
    "    text = text.lower()\n",
    "    # Remove non-alphabetic characters\n",
    "    text = re.sub('[^a-zA-Z]', ' ', text)\n",
    "    # Tokenize the text\n",
    "    tokens = text.split()\n",
    "    # Remove stop words\n",
    "    # tokens = [token for token in tokens if token not in stop_words]\n",
    "    # Lemmatize the words\n",
    "    lemmatized_tokens = [lemmatizer.lemmatize(token, wordnet.VERB) for token in tokens]\n",
    "    lemmatized_tokens = [lemmatizer.lemmatize(token, wordnet.NOUN) for token in lemmatized_tokens]\n",
    "    lemmatized_tokens = [lemmatizer.lemmatize(token, wordnet.ADJ) for token in lemmatized_tokens]\n",
    "    lemmatized_tokens = [lemmatizer.lemmatize(token, wordnet.ADV) for token in lemmatized_tokens]\n",
    "    # Join the tokens back into a string\n",
    "    processed_text = ' '.join(lemmatized_tokens)\n",
    "    return processed_text\n",
    "\n",
    "# Define the pipeline\n",
    "pipeline = Pipeline([\n",
    "    ('vectorizer', TfidfVectorizer(preprocessor=preprocess_text, max_df=0.8, min_df=0.2)),\n",
    "    ('svd', TruncatedSVD(n_components=50))\n",
    "])\n",
    "\n",
    "feature_matrix = pipeline.fit_transform(mails_df['body'])\n",
    "\n"
   ]
  },
  {
   "cell_type": "code",
   "execution_count": 4,
   "metadata": {},
   "outputs": [],
   "source": [
    "import pandas as pd\n",
    "import numpy as np\n",
    "from sklearn.pipeline import Pipeline\n",
    "from sklearn.feature_extraction.text import TfidfVectorizer\n",
    "from sklearn.decomposition import TruncatedSVD\n",
    "from sklearn.compose import ColumnTransformer\n",
    "from nltk.corpus import wordnet, stopwords\n",
    "from nltk.stem import WordNetLemmatizer\n",
    "import re\n",
    "stop_words = set(stopwords.words('english'))\n",
    "\n",
    "lemmatizer = WordNetLemmatizer()\n",
    "\n",
    "# Define a function to preprocess the text\n",
    "def preprocess_text(text):\n",
    "    text = text.lower()\n",
    "    text = re.sub('[^a-zA-Z]', ' ', text)\n",
    "    tokens = text.split()\n",
    "    tokens = [token for token in tokens if token not in stop_words]\n",
    "    processed_text = ' '.join([lemmatizer.lemmatize(token) for token in tokens])\n",
    "    return processed_text\n",
    "\n",
    "# Define a sample DataFrame with email data\n",
    "data = pd.DataFrame({'subject': ['Regarding our meeting'],\n",
    "                     'body': ['Dear John, I hope this email finds you well. I wanted to follow up on our conversation from last week. As we discussed, I am interested in learning more about the services your company offers. Please let me know if there is any additional information you can provide. Thank you for your time. Best regards, Jane'],\n",
    "                     'sender': ['jane@example.com']})\n",
    "\n",
    "# Define the column transformer\n",
    "preprocessor = ColumnTransformer(transformers=[\n",
    "    ('subject', TfidfVectorizer(preprocessor=preprocess_text, min_df=0.1), 'subject'),\n",
    "    ('body', TfidfVectorizer(preprocessor=preprocess_text, max_df=0.8, min_df=0.1), 'body'),\n",
    "    ('sender', TfidfVectorizer(ngram_range=(1, 2), lowercase=False), 'sender')\n",
    "], remainder='drop')\n",
    "\n",
    "# Define the pipeline\n",
    "pipeline = Pipeline([\n",
    "    ('preprocessor', preprocessor),\n",
    "    ('svd', TruncatedSVD(n_components=100))\n",
    "])\n"
   ]
  },
  {
   "cell_type": "code",
   "execution_count": 5,
   "outputs": [],
   "source": [
    "from sklearn.preprocessing import MultiLabelBinarizer\n",
    "import json\n",
    "\n",
    "with open('../data/label_dict.json', 'r') as file:\n",
    "    all_labels = json.load(file)"
   ],
   "metadata": {
    "collapsed": false
   }
  },
  {
   "cell_type": "code",
   "execution_count": 6,
   "outputs": [
    {
     "name": "stderr",
     "output_type": "stream",
     "text": [
      "C:\\Users\\msing\\.conda\\envs\\gmail_organizer\\lib\\site-packages\\sklearn\\preprocessing\\_label.py:895: UserWarning: unknown class(es) ['CATEGORY_PERSONAL', 'IMPORTANT', 'INBOX', 'UNREAD'] will be ignored\n",
      "  warnings.warn(\n"
     ]
    }
   ],
   "source": [
    "label_list = [key for key in all_labels.keys() if re.match('Label_[0-9]', key)]\n",
    "mlb = MultiLabelBinarizer(classes=label_list)\n",
    "labels_array = [list(st.split(',')) for st in mails_df['labels']]\n",
    "mlb.fit(label_list)\n",
    "labels = mlb.transform(labels_array)"
   ],
   "metadata": {
    "collapsed": false
   }
  },
  {
   "cell_type": "code",
   "execution_count": 7,
   "outputs": [
    {
     "name": "stdout",
     "output_type": "stream",
     "text": [
      "(10, 6) (10, 21)\n"
     ]
    }
   ],
   "source": [
    "X = pd.DataFrame(mails_df)\n",
    "y = pd.DataFrame(labels)\n",
    "print(X.shape, y.shape)"
   ],
   "metadata": {
    "collapsed": false
   }
  },
  {
   "cell_type": "code",
   "execution_count": 8,
   "metadata": {},
   "outputs": [
    {
     "name": "stdout",
     "output_type": "stream",
     "text": [
      "(8, 6) \n",
      "\n",
      "(2, 6) \n",
      "\n",
      "(8, 21) \n",
      "\n",
      "(2, 21) \n",
      "\n"
     ]
    }
   ],
   "source": [
    "from sklearn.model_selection import train_test_split\n",
    "X_train, X_test, y_train, y_test = train_test_split(X, y, test_size=0.2, random_state=42)\n",
    "\n",
    "lst = [X_train, X_test, y_train, y_test]\n",
    "for i in lst:\n",
    "    print(i.shape, '\\n')\n"
   ]
  },
  {
   "cell_type": "code",
   "execution_count": 9,
   "outputs": [
    {
     "data": {
      "text/plain": "['../data/preprocess_text.pkl']"
     },
     "execution_count": 9,
     "metadata": {},
     "output_type": "execute_result"
    }
   ],
   "source": [
    "joblib.dump(preprocess_text, '../data/preprocess_text.pkl')"
   ],
   "metadata": {
    "collapsed": false
   }
  },
  {
   "cell_type": "code",
   "execution_count": 10,
   "outputs": [],
   "source": [
    "feature_matrix = pipeline.fit_transform(X_train)"
   ],
   "metadata": {
    "collapsed": false
   }
  },
  {
   "cell_type": "code",
   "execution_count": null,
   "outputs": [],
   "source": [
    "pipeline.get_feature_names_out"
   ],
   "metadata": {
    "collapsed": false
   }
  },
  {
   "cell_type": "code",
   "execution_count": 13,
   "outputs": [
    {
     "data": {
      "text/plain": "['../data/pipeline.pkl']"
     },
     "execution_count": 13,
     "metadata": {},
     "output_type": "execute_result"
    }
   ],
   "source": [
    "import joblib\n",
    "joblib.dump(pipeline, '../data/pipeline.pkl')"
   ],
   "metadata": {
    "collapsed": false
   }
  },
  {
   "cell_type": "code",
   "execution_count": 14,
   "outputs": [],
   "source": [
    "pipeline = joblib.load('../data/pipeline.pkl')"
   ],
   "metadata": {
    "collapsed": false
   }
  },
  {
   "cell_type": "code",
   "execution_count": 15,
   "outputs": [
    {
     "ename": "TypeError",
     "evalue": "no supported conversion for types: (dtype('O'),)",
     "output_type": "error",
     "traceback": [
      "\u001B[1;31m---------------------------------------------------------------------------\u001B[0m",
      "\u001B[1;31mTypeError\u001B[0m                                 Traceback (most recent call last)",
      "File \u001B[1;32m~\\.conda\\envs\\gmail_organizer\\lib\\site-packages\\scipy\\sparse\\_base.py:376\u001B[0m, in \u001B[0;36mspmatrix.asformat\u001B[1;34m(self, format, copy)\u001B[0m\n\u001B[0;32m    375\u001B[0m \u001B[38;5;28;01mtry\u001B[39;00m:\n\u001B[1;32m--> 376\u001B[0m     \u001B[38;5;28;01mreturn\u001B[39;00m \u001B[43mconvert_method\u001B[49m\u001B[43m(\u001B[49m\u001B[43mcopy\u001B[49m\u001B[38;5;241;43m=\u001B[39;49m\u001B[43mcopy\u001B[49m\u001B[43m)\u001B[49m\n\u001B[0;32m    377\u001B[0m \u001B[38;5;28;01mexcept\u001B[39;00m \u001B[38;5;167;01mTypeError\u001B[39;00m:\n",
      "File \u001B[1;32m~\\.conda\\envs\\gmail_organizer\\lib\\site-packages\\scipy\\sparse\\_coo.py:403\u001B[0m, in \u001B[0;36mcoo_matrix.tocsr\u001B[1;34m(self, copy)\u001B[0m\n\u001B[0;32m    402\u001B[0m indices \u001B[38;5;241m=\u001B[39m np\u001B[38;5;241m.\u001B[39mempty_like(col, dtype\u001B[38;5;241m=\u001B[39midx_dtype)\n\u001B[1;32m--> 403\u001B[0m data \u001B[38;5;241m=\u001B[39m np\u001B[38;5;241m.\u001B[39mempty_like(\u001B[38;5;28mself\u001B[39m\u001B[38;5;241m.\u001B[39mdata, dtype\u001B[38;5;241m=\u001B[39m\u001B[43mupcast\u001B[49m\u001B[43m(\u001B[49m\u001B[38;5;28;43mself\u001B[39;49m\u001B[38;5;241;43m.\u001B[39;49m\u001B[43mdtype\u001B[49m\u001B[43m)\u001B[49m)\n\u001B[0;32m    405\u001B[0m coo_tocsr(M, N, \u001B[38;5;28mself\u001B[39m\u001B[38;5;241m.\u001B[39mnnz, row, col, \u001B[38;5;28mself\u001B[39m\u001B[38;5;241m.\u001B[39mdata,\n\u001B[0;32m    406\u001B[0m           indptr, indices, data)\n",
      "File \u001B[1;32m~\\.conda\\envs\\gmail_organizer\\lib\\site-packages\\scipy\\sparse\\_sputils.py:53\u001B[0m, in \u001B[0;36mupcast\u001B[1;34m(*args)\u001B[0m\n\u001B[0;32m     51\u001B[0m         \u001B[38;5;28;01mreturn\u001B[39;00m t\n\u001B[1;32m---> 53\u001B[0m \u001B[38;5;28;01mraise\u001B[39;00m \u001B[38;5;167;01mTypeError\u001B[39;00m(\u001B[38;5;124m'\u001B[39m\u001B[38;5;124mno supported conversion for types: \u001B[39m\u001B[38;5;132;01m%r\u001B[39;00m\u001B[38;5;124m'\u001B[39m \u001B[38;5;241m%\u001B[39m (args,))\n",
      "\u001B[1;31mTypeError\u001B[0m: no supported conversion for types: (dtype('O'),)",
      "\nDuring handling of the above exception, another exception occurred:\n",
      "\u001B[1;31mTypeError\u001B[0m                                 Traceback (most recent call last)",
      "Cell \u001B[1;32mIn[15], line 6\u001B[0m\n\u001B[0;32m      3\u001B[0m \u001B[38;5;28;01mfrom\u001B[39;00m \u001B[38;5;21;01msklearn\u001B[39;00m\u001B[38;5;21;01m.\u001B[39;00m\u001B[38;5;21;01mneighbors\u001B[39;00m \u001B[38;5;28;01mimport\u001B[39;00m KNeighborsClassifier\n\u001B[0;32m      5\u001B[0m binary_rel_clf \u001B[38;5;241m=\u001B[39m BinaryRelevance(classifier\u001B[38;5;241m=\u001B[39mSVC())\n\u001B[1;32m----> 6\u001B[0m \u001B[43mbinary_rel_clf\u001B[49m\u001B[38;5;241;43m.\u001B[39;49m\u001B[43mfit\u001B[49m\u001B[43m(\u001B[49m\u001B[43mX_train\u001B[49m\u001B[43m,\u001B[49m\u001B[43m \u001B[49m\u001B[43my_train\u001B[49m\u001B[43m)\u001B[49m\n\u001B[0;32m      7\u001B[0m br_predictions \u001B[38;5;241m=\u001B[39m binary_rel_clf\u001B[38;5;241m.\u001B[39mpredict(X_test)\n\u001B[0;32m      8\u001B[0m \u001B[38;5;28;01mfrom\u001B[39;00m \u001B[38;5;21;01msklearn\u001B[39;00m\u001B[38;5;21;01m.\u001B[39;00m\u001B[38;5;21;01mmetrics\u001B[39;00m \u001B[38;5;28;01mimport\u001B[39;00m accuracy_score\n",
      "File \u001B[1;32m~\\.conda\\envs\\gmail_organizer\\lib\\site-packages\\skmultilearn\\problem_transform\\br.py:147\u001B[0m, in \u001B[0;36mBinaryRelevance.fit\u001B[1;34m(self, X, y)\u001B[0m\n\u001B[0;32m    128\u001B[0m \u001B[38;5;28;01mdef\u001B[39;00m \u001B[38;5;21mfit\u001B[39m(\u001B[38;5;28mself\u001B[39m, X, y):\n\u001B[0;32m    129\u001B[0m     \u001B[38;5;124;03m\"\"\"Fits classifier to training data\u001B[39;00m\n\u001B[0;32m    130\u001B[0m \n\u001B[0;32m    131\u001B[0m \u001B[38;5;124;03m    Parameters\u001B[39;00m\n\u001B[1;32m   (...)\u001B[0m\n\u001B[0;32m    145\u001B[0m \u001B[38;5;124;03m    .. note :: Input matrices are converted to sparse format internally if a numpy representation is passed\u001B[39;00m\n\u001B[0;32m    146\u001B[0m \u001B[38;5;124;03m    \"\"\"\u001B[39;00m\n\u001B[1;32m--> 147\u001B[0m     X \u001B[38;5;241m=\u001B[39m \u001B[38;5;28;43mself\u001B[39;49m\u001B[38;5;241;43m.\u001B[39;49m\u001B[43m_ensure_input_format\u001B[49m\u001B[43m(\u001B[49m\n\u001B[0;32m    148\u001B[0m \u001B[43m        \u001B[49m\u001B[43mX\u001B[49m\u001B[43m,\u001B[49m\u001B[43m \u001B[49m\u001B[43msparse_format\u001B[49m\u001B[38;5;241;43m=\u001B[39;49m\u001B[38;5;124;43m'\u001B[39;49m\u001B[38;5;124;43mcsr\u001B[39;49m\u001B[38;5;124;43m'\u001B[39;49m\u001B[43m,\u001B[49m\u001B[43m \u001B[49m\u001B[43menforce_sparse\u001B[49m\u001B[38;5;241;43m=\u001B[39;49m\u001B[38;5;28;43;01mTrue\u001B[39;49;00m\u001B[43m)\u001B[49m\n\u001B[0;32m    149\u001B[0m     y \u001B[38;5;241m=\u001B[39m \u001B[38;5;28mself\u001B[39m\u001B[38;5;241m.\u001B[39m_ensure_output_format(\n\u001B[0;32m    150\u001B[0m         y, sparse_format\u001B[38;5;241m=\u001B[39m\u001B[38;5;124m'\u001B[39m\u001B[38;5;124mcsc\u001B[39m\u001B[38;5;124m'\u001B[39m, enforce_sparse\u001B[38;5;241m=\u001B[39m\u001B[38;5;28;01mTrue\u001B[39;00m)\n\u001B[0;32m    152\u001B[0m     \u001B[38;5;28mself\u001B[39m\u001B[38;5;241m.\u001B[39mclassifiers_ \u001B[38;5;241m=\u001B[39m []\n",
      "File \u001B[1;32m~\\.conda\\envs\\gmail_organizer\\lib\\site-packages\\skmultilearn\\base\\base.py:97\u001B[0m, in \u001B[0;36mMLClassifierBase._ensure_input_format\u001B[1;34m(self, X, sparse_format, enforce_sparse)\u001B[0m\n\u001B[0;32m     95\u001B[0m     \u001B[38;5;28;01mreturn\u001B[39;00m X\n\u001B[0;32m     96\u001B[0m \u001B[38;5;28;01melse\u001B[39;00m:\n\u001B[1;32m---> 97\u001B[0m     \u001B[38;5;28;01mreturn\u001B[39;00m \u001B[43mmatrix_creation_function_for_format\u001B[49m\u001B[43m(\u001B[49m\u001B[43msparse_format\u001B[49m\u001B[43m)\u001B[49m\u001B[43m(\u001B[49m\u001B[43mX\u001B[49m\u001B[43m)\u001B[49m\n",
      "File \u001B[1;32m~\\.conda\\envs\\gmail_organizer\\lib\\site-packages\\scipy\\sparse\\_compressed.py:84\u001B[0m, in \u001B[0;36m_cs_matrix.__init__\u001B[1;34m(self, arg1, shape, dtype, copy)\u001B[0m\n\u001B[0;32m     81\u001B[0m     \u001B[38;5;28;01mexcept\u001B[39;00m \u001B[38;5;167;01mException\u001B[39;00m \u001B[38;5;28;01mas\u001B[39;00m e:\n\u001B[0;32m     82\u001B[0m         \u001B[38;5;28;01mraise\u001B[39;00m \u001B[38;5;167;01mValueError\u001B[39;00m(\u001B[38;5;124m\"\u001B[39m\u001B[38;5;124munrecognized \u001B[39m\u001B[38;5;132;01m{}\u001B[39;00m\u001B[38;5;124m_matrix constructor usage\u001B[39m\u001B[38;5;124m\"\u001B[39m\n\u001B[0;32m     83\u001B[0m                          \u001B[38;5;124m\"\u001B[39m\u001B[38;5;124m\"\u001B[39m\u001B[38;5;241m.\u001B[39mformat(\u001B[38;5;28mself\u001B[39m\u001B[38;5;241m.\u001B[39mformat)) \u001B[38;5;28;01mfrom\u001B[39;00m \u001B[38;5;21;01me\u001B[39;00m\n\u001B[1;32m---> 84\u001B[0m     \u001B[38;5;28mself\u001B[39m\u001B[38;5;241m.\u001B[39m_set_self(\u001B[38;5;28;43mself\u001B[39;49m\u001B[38;5;241;43m.\u001B[39;49m\u001B[38;5;18;43m__class__\u001B[39;49m\u001B[43m(\u001B[49m\n\u001B[0;32m     85\u001B[0m \u001B[43m        \u001B[49m\u001B[38;5;28;43mself\u001B[39;49m\u001B[38;5;241;43m.\u001B[39;49m\u001B[43m_coo_container\u001B[49m\u001B[43m(\u001B[49m\u001B[43marg1\u001B[49m\u001B[43m,\u001B[49m\u001B[43m \u001B[49m\u001B[43mdtype\u001B[49m\u001B[38;5;241;43m=\u001B[39;49m\u001B[43mdtype\u001B[49m\u001B[43m)\u001B[49m\n\u001B[0;32m     86\u001B[0m \u001B[43m    \u001B[49m\u001B[43m)\u001B[49m)\n\u001B[0;32m     88\u001B[0m \u001B[38;5;66;03m# Read matrix dimensions given, if any\u001B[39;00m\n\u001B[0;32m     89\u001B[0m \u001B[38;5;28;01mif\u001B[39;00m shape \u001B[38;5;129;01mis\u001B[39;00m \u001B[38;5;129;01mnot\u001B[39;00m \u001B[38;5;28;01mNone\u001B[39;00m:\n",
      "File \u001B[1;32m~\\.conda\\envs\\gmail_organizer\\lib\\site-packages\\scipy\\sparse\\_compressed.py:33\u001B[0m, in \u001B[0;36m_cs_matrix.__init__\u001B[1;34m(self, arg1, shape, dtype, copy)\u001B[0m\n\u001B[0;32m     31\u001B[0m         arg1 \u001B[38;5;241m=\u001B[39m arg1\u001B[38;5;241m.\u001B[39mcopy()\n\u001B[0;32m     32\u001B[0m     \u001B[38;5;28;01melse\u001B[39;00m:\n\u001B[1;32m---> 33\u001B[0m         arg1 \u001B[38;5;241m=\u001B[39m \u001B[43marg1\u001B[49m\u001B[38;5;241;43m.\u001B[39;49m\u001B[43masformat\u001B[49m\u001B[43m(\u001B[49m\u001B[38;5;28;43mself\u001B[39;49m\u001B[38;5;241;43m.\u001B[39;49m\u001B[43mformat\u001B[49m\u001B[43m)\u001B[49m\n\u001B[0;32m     34\u001B[0m     \u001B[38;5;28mself\u001B[39m\u001B[38;5;241m.\u001B[39m_set_self(arg1)\n\u001B[0;32m     36\u001B[0m \u001B[38;5;28;01melif\u001B[39;00m \u001B[38;5;28misinstance\u001B[39m(arg1, \u001B[38;5;28mtuple\u001B[39m):\n",
      "File \u001B[1;32m~\\.conda\\envs\\gmail_organizer\\lib\\site-packages\\scipy\\sparse\\_base.py:378\u001B[0m, in \u001B[0;36mspmatrix.asformat\u001B[1;34m(self, format, copy)\u001B[0m\n\u001B[0;32m    376\u001B[0m     \u001B[38;5;28;01mreturn\u001B[39;00m convert_method(copy\u001B[38;5;241m=\u001B[39mcopy)\n\u001B[0;32m    377\u001B[0m \u001B[38;5;28;01mexcept\u001B[39;00m \u001B[38;5;167;01mTypeError\u001B[39;00m:\n\u001B[1;32m--> 378\u001B[0m     \u001B[38;5;28;01mreturn\u001B[39;00m \u001B[43mconvert_method\u001B[49m\u001B[43m(\u001B[49m\u001B[43m)\u001B[49m\n",
      "File \u001B[1;32m~\\.conda\\envs\\gmail_organizer\\lib\\site-packages\\scipy\\sparse\\_coo.py:403\u001B[0m, in \u001B[0;36mcoo_matrix.tocsr\u001B[1;34m(self, copy)\u001B[0m\n\u001B[0;32m    401\u001B[0m indptr \u001B[38;5;241m=\u001B[39m np\u001B[38;5;241m.\u001B[39mempty(M \u001B[38;5;241m+\u001B[39m \u001B[38;5;241m1\u001B[39m, dtype\u001B[38;5;241m=\u001B[39midx_dtype)\n\u001B[0;32m    402\u001B[0m indices \u001B[38;5;241m=\u001B[39m np\u001B[38;5;241m.\u001B[39mempty_like(col, dtype\u001B[38;5;241m=\u001B[39midx_dtype)\n\u001B[1;32m--> 403\u001B[0m data \u001B[38;5;241m=\u001B[39m np\u001B[38;5;241m.\u001B[39mempty_like(\u001B[38;5;28mself\u001B[39m\u001B[38;5;241m.\u001B[39mdata, dtype\u001B[38;5;241m=\u001B[39m\u001B[43mupcast\u001B[49m\u001B[43m(\u001B[49m\u001B[38;5;28;43mself\u001B[39;49m\u001B[38;5;241;43m.\u001B[39;49m\u001B[43mdtype\u001B[49m\u001B[43m)\u001B[49m)\n\u001B[0;32m    405\u001B[0m coo_tocsr(M, N, \u001B[38;5;28mself\u001B[39m\u001B[38;5;241m.\u001B[39mnnz, row, col, \u001B[38;5;28mself\u001B[39m\u001B[38;5;241m.\u001B[39mdata,\n\u001B[0;32m    406\u001B[0m           indptr, indices, data)\n\u001B[0;32m    408\u001B[0m x \u001B[38;5;241m=\u001B[39m \u001B[38;5;28mself\u001B[39m\u001B[38;5;241m.\u001B[39m_csr_container((data, indices, indptr), shape\u001B[38;5;241m=\u001B[39m\u001B[38;5;28mself\u001B[39m\u001B[38;5;241m.\u001B[39mshape)\n",
      "File \u001B[1;32m~\\.conda\\envs\\gmail_organizer\\lib\\site-packages\\scipy\\sparse\\_sputils.py:53\u001B[0m, in \u001B[0;36mupcast\u001B[1;34m(*args)\u001B[0m\n\u001B[0;32m     50\u001B[0m         _upcast_memo[\u001B[38;5;28mhash\u001B[39m(args)] \u001B[38;5;241m=\u001B[39m t\n\u001B[0;32m     51\u001B[0m         \u001B[38;5;28;01mreturn\u001B[39;00m t\n\u001B[1;32m---> 53\u001B[0m \u001B[38;5;28;01mraise\u001B[39;00m \u001B[38;5;167;01mTypeError\u001B[39;00m(\u001B[38;5;124m'\u001B[39m\u001B[38;5;124mno supported conversion for types: \u001B[39m\u001B[38;5;132;01m%r\u001B[39;00m\u001B[38;5;124m'\u001B[39m \u001B[38;5;241m%\u001B[39m (args,))\n",
      "\u001B[1;31mTypeError\u001B[0m: no supported conversion for types: (dtype('O'),)"
     ]
    }
   ],
   "source": [
    "from skmultilearn.problem_transform import BinaryRelevance\n",
    "from sklearn.svm import SVC\n",
    "from sklearn.neighbors import KNeighborsClassifier\n",
    "\n",
    "binary_rel_clf = BinaryRelevance(classifier=SVC())\n",
    "binary_rel_clf.fit(X_train, y_train)\n",
    "br_predictions = binary_rel_clf.predict(X_test)\n",
    "from sklearn.metrics import accuracy_score\n",
    "\n",
    "accuracy_score(y_test, br_predictions)"
   ],
   "metadata": {
    "collapsed": false
   }
  },
  {
   "cell_type": "code",
   "execution_count": 16,
   "outputs": [
    {
     "ename": "AttributeError",
     "evalue": "'BinaryRelevance' object has no attribute 'model_count_'",
     "output_type": "error",
     "traceback": [
      "\u001B[1;31m---------------------------------------------------------------------------\u001B[0m",
      "\u001B[1;31mAttributeError\u001B[0m                            Traceback (most recent call last)",
      "Cell \u001B[1;32mIn[16], line 2\u001B[0m\n\u001B[0;32m      1\u001B[0m \u001B[38;5;66;03m# to check how much the model is overfitting\u001B[39;00m\n\u001B[1;32m----> 2\u001B[0m test_prediction \u001B[38;5;241m=\u001B[39m \u001B[43mbinary_rel_clf\u001B[49m\u001B[38;5;241;43m.\u001B[39;49m\u001B[43mpredict\u001B[49m\u001B[43m(\u001B[49m\u001B[43mX_train\u001B[49m\u001B[43m)\u001B[49m\n\u001B[0;32m      3\u001B[0m accuracy_score(y_train, test_prediction)\n",
      "File \u001B[1;32m~\\.conda\\envs\\gmail_organizer\\lib\\site-packages\\skmultilearn\\problem_transform\\br.py:182\u001B[0m, in \u001B[0;36mBinaryRelevance.predict\u001B[1;34m(self, X)\u001B[0m\n\u001B[0;32m    167\u001B[0m \u001B[38;5;28;01mdef\u001B[39;00m \u001B[38;5;21mpredict\u001B[39m(\u001B[38;5;28mself\u001B[39m, X):\n\u001B[0;32m    168\u001B[0m     \u001B[38;5;124;03m\"\"\"Predict labels for X\u001B[39;00m\n\u001B[0;32m    169\u001B[0m \n\u001B[0;32m    170\u001B[0m \u001B[38;5;124;03m    Parameters\u001B[39;00m\n\u001B[1;32m   (...)\u001B[0m\n\u001B[0;32m    178\u001B[0m \u001B[38;5;124;03m        binary indicator matrix with label assignments\u001B[39;00m\n\u001B[0;32m    179\u001B[0m \u001B[38;5;124;03m    \"\"\"\u001B[39;00m\n\u001B[0;32m    180\u001B[0m     predictions \u001B[38;5;241m=\u001B[39m [\u001B[38;5;28mself\u001B[39m\u001B[38;5;241m.\u001B[39m_ensure_multi_label_from_single_class(\n\u001B[0;32m    181\u001B[0m         \u001B[38;5;28mself\u001B[39m\u001B[38;5;241m.\u001B[39mclassifiers_[label]\u001B[38;5;241m.\u001B[39mpredict(\u001B[38;5;28mself\u001B[39m\u001B[38;5;241m.\u001B[39m_ensure_input_format(X)))\n\u001B[1;32m--> 182\u001B[0m         \u001B[38;5;28;01mfor\u001B[39;00m label \u001B[38;5;129;01min\u001B[39;00m \u001B[38;5;28mrange\u001B[39m(\u001B[38;5;28;43mself\u001B[39;49m\u001B[38;5;241;43m.\u001B[39;49m\u001B[43mmodel_count_\u001B[49m)]\n\u001B[0;32m    184\u001B[0m     \u001B[38;5;28;01mreturn\u001B[39;00m hstack(predictions)\n",
      "\u001B[1;31mAttributeError\u001B[0m: 'BinaryRelevance' object has no attribute 'model_count_'"
     ]
    }
   ],
   "source": [
    "\n",
    "# to check how much the model is overfitting\n",
    "test_prediction = binary_rel_clf.predict(X_train)\n",
    "accuracy_score(y_train, test_prediction)"
   ],
   "metadata": {
    "collapsed": false
   }
  },
  {
   "cell_type": "code",
   "execution_count": null,
   "outputs": [],
   "source": [
    "knn_clf = KNeighborsClassifier()\n",
    "knn_clf.fit(X_train, y_train)\n",
    "knn_predictions = knn_clf.predict(X_test)\n",
    "accuracy_score(y_test, knn_predictions)"
   ],
   "metadata": {
    "collapsed": false
   }
  },
  {
   "cell_type": "code",
   "execution_count": null,
   "outputs": [],
   "source": [
    "knn_train_pr = knn_clf.predict(X_train)\n",
    "accuracy_score(y_train, knn_train_pr)"
   ],
   "metadata": {
    "collapsed": false
   }
  },
  {
   "cell_type": "code",
   "execution_count": null,
   "outputs": [],
   "source": [
    "from sklearn.ensemble import RandomForestClassifier\n",
    "model = RandomForestClassifier()\n",
    "model.fit(X_train, y_train)\n",
    "knn_predictions = model.predict(X_test)\n",
    "accuracy_score(y_test, knn_predictions)"
   ],
   "metadata": {
    "collapsed": false
   }
  }
 ],
 "metadata": {
  "kernelspec": {
   "display_name": "gmail_organizer",
   "language": "python",
   "name": "python3"
  },
  "language_info": {
   "codemirror_mode": {
    "name": "ipython",
    "version": 3
   },
   "file_extension": ".py",
   "mimetype": "text/x-python",
   "name": "python",
   "nbconvert_exporter": "python",
   "pygments_lexer": "ipython3",
   "version": "3.10.9"
  },
  "orig_nbformat": 4
 },
 "nbformat": 4,
 "nbformat_minor": 2
}
